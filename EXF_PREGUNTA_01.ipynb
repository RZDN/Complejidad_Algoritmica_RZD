{
  "nbformat": 4,
  "nbformat_minor": 0,
  "metadata": {
    "colab": {
      "name": "PREGUNTA-01.ipynb",
      "provenance": [],
      "authorship_tag": "ABX9TyMoSluieQDMTd7W0QM4G4am",
      "include_colab_link": true
    },
    "kernelspec": {
      "name": "python3",
      "display_name": "Python 3"
    },
    "language_info": {
      "name": "python"
    }
  },
  "cells": [
    {
      "cell_type": "markdown",
      "metadata": {
        "id": "view-in-github",
        "colab_type": "text"
      },
      "source": [
        "<a href=\"https://colab.research.google.com/github/RZDN/Complejidad_Algoritmica_RZD/blob/main/EXF_PREGUNTA_01.ipynb\" target=\"_parent\"><img src=\"https://colab.research.google.com/assets/colab-badge.svg\" alt=\"Open In Colab\"/></a>"
      ]
    },
    {
      "cell_type": "code",
      "metadata": {
        "colab": {
          "base_uri": "https://localhost:8080/"
        },
        "id": "Wofzs1opBCGS",
        "outputId": "b344cf29-7ac5-4021-825e-467af4d9d5dd"
      },
      "source": [
        "!git clone https://github.com/lmcanavals/algorithmic_complexity.git"
      ],
      "execution_count": 1,
      "outputs": [
        {
          "output_type": "stream",
          "text": [
            "Cloning into 'algorithmic_complexity'...\n",
            "remote: Enumerating objects: 104, done.\u001b[K\n",
            "remote: Counting objects: 100% (104/104), done.\u001b[K\n",
            "remote: Compressing objects: 100% (58/58), done.\u001b[K\n",
            "remote: Total 104 (delta 50), reused 91 (delta 41), pack-reused 0\u001b[K\n",
            "Receiving objects: 100% (104/104), 15.59 MiB | 21.89 MiB/s, done.\n",
            "Resolving deltas: 100% (50/50), done.\n"
          ],
          "name": "stdout"
        }
      ]
    },
    {
      "cell_type": "code",
      "metadata": {
        "id": "IF5WirSSEFE-"
      },
      "source": [
        "from algorithmic_complexity.aclib.ds import DisjointSet\n",
        "from algorithmic_complexity.aclib import graphstuff as gs\n",
        "import networkx as nx\n",
        "from heapq import heappush as push, heappop as pop"
      ],
      "execution_count": 13,
      "outputs": []
    },
    {
      "cell_type": "code",
      "metadata": {
        "id": "6F1gqFGxEGnE"
      },
      "source": [
        "\n",
        "def PRIM(G, s):\n",
        "  for u in G.nodes:\n",
        "    G.nodes[u]['visited'] = False\n",
        "    G.nodes[u]['cost'] = math.inf\n",
        "    G.nodes[u]['path'] = -1\n",
        "\n",
        "  q = [(0, s)]\n",
        "  while q:\n",
        "    _, u = pop(q)\n",
        "    if not G.nodes[u]['visited']:\n",
        "      G.nodes[u]['visited'] = True\n",
        "      for v in G.neighbors(u):\n",
        "        if not G.nodes[v]['visited']:\n",
        "          w = G.edges[u, v]['weight']\n",
        "          if w < G.nodes[v]['cost']:\n",
        "            G.nodes[v]['cost'] = w\n",
        "            G.nodes[v]['path'] = u\n",
        "            push(q, (w, v))\n",
        "\n",
        "  path = [-1]*G.number_of_nodes()\n",
        "  for u in G.nodes:\n",
        "    path[u] = G.nodes[u]['path']\n",
        "\n",
        "  return path"
      ],
      "execution_count": 134,
      "outputs": []
    },
    {
      "cell_type": "code",
      "metadata": {
        "id": "JhWthYbSEiGv"
      },
      "source": [
        "def KRUSKAL(G):\n",
        "  n = G.number_of_nodes()\n",
        "  ds = DisjointSet(n)\n",
        "  edges = []\n",
        "  for u, v in G.edges:\n",
        "    w = G.edges[u, v]['weight']\n",
        "    push(edges, (w, u, v))\n",
        "\n",
        "  path = [-1]*n\n",
        "  while edges and n > 0:\n",
        "    _, u, v = pop(edges)\n",
        "    if not ds.isSameSet(u, v):\n",
        "      ds.union(u, v)\n",
        "      if path[u] < 0:\n",
        "        path[u] = v\n",
        "      else:\n",
        "        path[v] = u\n",
        "      n -= 1\n",
        "\n",
        "  return path"
      ],
      "execution_count": 27,
      "outputs": []
    },
    {
      "cell_type": "code",
      "metadata": {
        "colab": {
          "base_uri": "https://localhost:8080/"
        },
        "id": "e-RlqMyBEImM",
        "outputId": "0719432e-39bd-4a31-ac81-9975bc964cdb"
      },
      "source": [
        "%%file 1.in\n",
        "0 1 3\n",
        "1 2 2\n",
        "1 5 5\n",
        "2 4 5\n",
        "2 5 7\n",
        "3 5 5\n",
        "3 7 8\n",
        "4 6 8\n",
        "4 7 2 \n",
        "4 3 3"
      ],
      "execution_count": 16,
      "outputs": [
        {
          "output_type": "stream",
          "text": [
            "Overwriting 1.in\n"
          ],
          "name": "stdout"
        }
      ]
    },
    {
      "cell_type": "markdown",
      "metadata": {
        "id": "4grd4W-eFQxU"
      },
      "source": [
        "**PARA EXPLICAR LA DIFERENCIA ENTRE PRIM Y KRUSKAL Usaremos el siguiente Grafo con los siguientes datos de prueba** \n",
        "\n"
      ]
    },
    {
      "cell_type": "markdown",
      "metadata": {
        "id": "WcLY_vnzFfQi"
      },
      "source": [
        "Primero El Algoritmo de PRIM:\n",
        "Este algirtmo te devuelve el arbol de expansion minima con un nodo de inicio para este caso de prueba seria nodo de inicio = 0;"
      ]
    },
    {
      "cell_type": "code",
      "metadata": {
        "colab": {
          "base_uri": "https://localhost:8080/",
          "height": 176
        },
        "id": "mlEalaTXEPvd",
        "outputId": "9ee1decf-eafb-458a-f4d2-d48328920b3f"
      },
      "source": [
        "G = nx.read_weighted_edgelist('1.in', nodetype=int)\n",
        "gs.nx2gv(G, weighted=True)"
      ],
      "execution_count": 23,
      "outputs": [
        {
          "output_type": "execute_result",
          "data": {
            "text/plain": [
              "<graphviz.dot.Graph at 0x7fe6b206aed0>"
            ],
            "image/svg+xml": "<?xml version=\"1.0\" encoding=\"UTF-8\" standalone=\"no\"?>\n<!DOCTYPE svg PUBLIC \"-//W3C//DTD SVG 1.1//EN\"\n \"http://www.w3.org/Graphics/SVG/1.1/DTD/svg11.dtd\">\n<!-- Generated by graphviz version 2.40.1 (20161225.0304)\n -->\n<!-- Title: G Pages: 1 -->\n<svg width=\"432pt\" height=\"116pt\"\n viewBox=\"0.00 0.00 432.00 116.01\" xmlns=\"http://www.w3.org/2000/svg\" xmlns:xlink=\"http://www.w3.org/1999/xlink\">\n<g id=\"graph0\" class=\"graph\" transform=\"scale(.7117 .7117) rotate(0) translate(4 159)\">\n<title>G</title>\n<polygon fill=\"#ffffff\" stroke=\"transparent\" points=\"-4,4 -4,-159 603,-159 603,4 -4,4\"/>\n<!-- 0 -->\n<g id=\"node1\" class=\"node\">\n<title>0</title>\n<ellipse fill=\"none\" stroke=\"#000000\" cx=\"27\" cy=\"-31\" rx=\"27\" ry=\"18\"/>\n<text text-anchor=\"middle\" x=\"27\" y=\"-27.3\" font-family=\"Times,serif\" font-size=\"14.00\" fill=\"#000000\">0</text>\n</g>\n<!-- 1 -->\n<g id=\"node2\" class=\"node\">\n<title>1</title>\n<ellipse fill=\"none\" stroke=\"#000000\" cx=\"136\" cy=\"-31\" rx=\"27\" ry=\"18\"/>\n<text text-anchor=\"middle\" x=\"136\" y=\"-27.3\" font-family=\"Times,serif\" font-size=\"14.00\" fill=\"#000000\">1</text>\n</g>\n<!-- 0&#45;&#45;1 -->\n<g id=\"edge1\" class=\"edge\">\n<title>0&#45;&#45;1</title>\n<path fill=\"none\" stroke=\"#000000\" d=\"M54.2241,-31C70.8711,-31 92.0926,-31 108.7452,-31\"/>\n<text text-anchor=\"middle\" x=\"81.5\" y=\"-34.8\" font-family=\"Times,serif\" font-size=\"14.00\" fill=\"#000000\">3.0</text>\n</g>\n<!-- 2 -->\n<g id=\"node3\" class=\"node\">\n<title>2</title>\n<ellipse fill=\"none\" stroke=\"#000000\" cx=\"245\" cy=\"-66\" rx=\"27\" ry=\"18\"/>\n<text text-anchor=\"middle\" x=\"245\" y=\"-62.3\" font-family=\"Times,serif\" font-size=\"14.00\" fill=\"#000000\">2</text>\n</g>\n<!-- 1&#45;&#45;2 -->\n<g id=\"edge2\" class=\"edge\">\n<title>1&#45;&#45;2</title>\n<path fill=\"none\" stroke=\"#000000\" d=\"M160.4617,-38.8547C178.4132,-44.6189 202.6877,-52.4135 220.6199,-58.1715\"/>\n<text text-anchor=\"middle\" x=\"190.5\" y=\"-53.8\" font-family=\"Times,serif\" font-size=\"14.00\" fill=\"#000000\">2.0</text>\n</g>\n<!-- 5 -->\n<g id=\"node4\" class=\"node\">\n<title>5</title>\n<ellipse fill=\"none\" stroke=\"#000000\" cx=\"354\" cy=\"-18\" rx=\"27\" ry=\"18\"/>\n<text text-anchor=\"middle\" x=\"354\" y=\"-14.3\" font-family=\"Times,serif\" font-size=\"14.00\" fill=\"#000000\">5</text>\n</g>\n<!-- 1&#45;&#45;5 -->\n<g id=\"edge3\" class=\"edge\">\n<title>1&#45;&#45;5</title>\n<path fill=\"none\" stroke=\"#000000\" d=\"M162.9396,-28.4198C178.9292,-26.9584 199.6071,-25.1903 218,-24 255.7356,-21.558 299.4267,-19.8247 326.8885,-18.8682\"/>\n<text text-anchor=\"middle\" x=\"245\" y=\"-27.8\" font-family=\"Times,serif\" font-size=\"14.00\" fill=\"#000000\">5.0</text>\n</g>\n<!-- 2&#45;&#45;5 -->\n<g id=\"edge5\" class=\"edge\">\n<title>2&#45;&#45;5</title>\n<path fill=\"none\" stroke=\"#000000\" d=\"M267.5849,-56.0544C286.292,-47.8164 312.745,-36.1674 331.4441,-27.9329\"/>\n<text text-anchor=\"middle\" x=\"299.5\" y=\"-47.8\" font-family=\"Times,serif\" font-size=\"14.00\" fill=\"#000000\">7.0</text>\n</g>\n<!-- 4 -->\n<g id=\"node5\" class=\"node\">\n<title>4</title>\n<ellipse fill=\"none\" stroke=\"#000000\" cx=\"354\" cy=\"-86\" rx=\"27\" ry=\"18\"/>\n<text text-anchor=\"middle\" x=\"354\" y=\"-82.3\" font-family=\"Times,serif\" font-size=\"14.00\" fill=\"#000000\">4</text>\n</g>\n<!-- 2&#45;&#45;4 -->\n<g id=\"edge4\" class=\"edge\">\n<title>2&#45;&#45;4</title>\n<path fill=\"none\" stroke=\"#000000\" d=\"M271.1082,-70.7905C288.2393,-73.9338 310.5628,-78.0299 327.727,-81.1793\"/>\n<text text-anchor=\"middle\" x=\"299.5\" y=\"-80.8\" font-family=\"Times,serif\" font-size=\"14.00\" fill=\"#000000\">5.0</text>\n</g>\n<!-- 3 -->\n<g id=\"node6\" class=\"node\">\n<title>3</title>\n<ellipse fill=\"none\" stroke=\"#000000\" cx=\"463\" cy=\"-32\" rx=\"27\" ry=\"18\"/>\n<text text-anchor=\"middle\" x=\"463\" y=\"-28.3\" font-family=\"Times,serif\" font-size=\"14.00\" fill=\"#000000\">3</text>\n</g>\n<!-- 5&#45;&#45;3 -->\n<g id=\"edge6\" class=\"edge\">\n<title>5&#45;&#45;3</title>\n<path fill=\"none\" stroke=\"#000000\" d=\"M381.2229,-16.8386C392.6399,-16.7616 406.0206,-17.2087 418,-19 424.9166,-20.0342 432.2645,-21.8407 438.9734,-23.7838\"/>\n<text text-anchor=\"middle\" x=\"408.5\" y=\"-22.8\" font-family=\"Times,serif\" font-size=\"14.00\" fill=\"#000000\">5.0</text>\n</g>\n<!-- 4&#45;&#45;3 -->\n<g id=\"edge9\" class=\"edge\">\n<title>4&#45;&#45;3</title>\n<path fill=\"none\" stroke=\"#000000\" d=\"M372.7682,-72.7092C380.656,-67.4428 390.0617,-61.5677 399,-57 411.7466,-50.4862 426.6057,-44.5859 438.7962,-40.1552\"/>\n<text text-anchor=\"middle\" x=\"408.5\" y=\"-60.8\" font-family=\"Times,serif\" font-size=\"14.00\" fill=\"#000000\">3.0</text>\n</g>\n<!-- 7 -->\n<g id=\"node7\" class=\"node\">\n<title>7</title>\n<ellipse fill=\"none\" stroke=\"#000000\" cx=\"572\" cy=\"-59\" rx=\"27\" ry=\"18\"/>\n<text text-anchor=\"middle\" x=\"572\" y=\"-55.3\" font-family=\"Times,serif\" font-size=\"14.00\" fill=\"#000000\">7</text>\n</g>\n<!-- 4&#45;&#45;7 -->\n<g id=\"edge8\" class=\"edge\">\n<title>4&#45;&#45;7</title>\n<path fill=\"none\" stroke=\"#000000\" d=\"M380.7137,-83.2403C414.7356,-79.6502 475.3175,-73.0044 527,-66 532.9545,-65.193 539.3395,-64.2482 545.3747,-63.3186\"/>\n<text text-anchor=\"middle\" x=\"463\" y=\"-79.8\" font-family=\"Times,serif\" font-size=\"14.00\" fill=\"#000000\">2.0</text>\n</g>\n<!-- 6 -->\n<g id=\"node8\" class=\"node\">\n<title>6</title>\n<ellipse fill=\"none\" stroke=\"#000000\" cx=\"463\" cy=\"-137\" rx=\"27\" ry=\"18\"/>\n<text text-anchor=\"middle\" x=\"463\" y=\"-133.3\" font-family=\"Times,serif\" font-size=\"14.00\" fill=\"#000000\">6</text>\n</g>\n<!-- 4&#45;&#45;6 -->\n<g id=\"edge7\" class=\"edge\">\n<title>4&#45;&#45;6</title>\n<path fill=\"none\" stroke=\"#000000\" d=\"M376.3208,-96.4437C395.1306,-105.2446 421.9077,-117.7733 440.709,-126.5703\"/>\n<text text-anchor=\"middle\" x=\"408.5\" y=\"-117.8\" font-family=\"Times,serif\" font-size=\"14.00\" fill=\"#000000\">8.0</text>\n</g>\n<!-- 3&#45;&#45;7 -->\n<g id=\"edge10\" class=\"edge\">\n<title>3&#45;&#45;7</title>\n<path fill=\"none\" stroke=\"#000000\" d=\"M488.5557,-38.3303C506.0485,-42.6634 529.1459,-48.3848 546.6045,-52.7094\"/>\n<text text-anchor=\"middle\" x=\"517.5\" y=\"-50.8\" font-family=\"Times,serif\" font-size=\"14.00\" fill=\"#000000\">8.0</text>\n</g>\n</g>\n</svg>\n"
          },
          "metadata": {
            "tags": []
          },
          "execution_count": 23
        }
      ]
    },
    {
      "cell_type": "code",
      "metadata": {
        "colab": {
          "base_uri": "https://localhost:8080/",
          "height": 176
        },
        "id": "pOlckgANEOrl",
        "outputId": "45234760-2ee2-4841-f31b-0d1702e4bed5"
      },
      "source": [
        "\n",
        "path = PRIM(G, 0)\n",
        "gs.nx2gv(G, weighted=True, path=path)"
      ],
      "execution_count": 25,
      "outputs": [
        {
          "output_type": "execute_result",
          "data": {
            "text/plain": [
              "<graphviz.dot.Graph at 0x7fe6b20e7f90>"
            ],
            "image/svg+xml": "<?xml version=\"1.0\" encoding=\"UTF-8\" standalone=\"no\"?>\n<!DOCTYPE svg PUBLIC \"-//W3C//DTD SVG 1.1//EN\"\n \"http://www.w3.org/Graphics/SVG/1.1/DTD/svg11.dtd\">\n<!-- Generated by graphviz version 2.40.1 (20161225.0304)\n -->\n<!-- Title: G Pages: 1 -->\n<svg width=\"432pt\" height=\"116pt\"\n viewBox=\"0.00 0.00 432.00 116.01\" xmlns=\"http://www.w3.org/2000/svg\" xmlns:xlink=\"http://www.w3.org/1999/xlink\">\n<g id=\"graph0\" class=\"graph\" transform=\"scale(.7117 .7117) rotate(0) translate(4 159)\">\n<title>G</title>\n<polygon fill=\"#ffffff\" stroke=\"transparent\" points=\"-4,4 -4,-159 603,-159 603,4 -4,4\"/>\n<!-- 0 -->\n<g id=\"node1\" class=\"node\">\n<title>0</title>\n<ellipse fill=\"none\" stroke=\"#000000\" cx=\"27\" cy=\"-31\" rx=\"27\" ry=\"18\"/>\n<text text-anchor=\"middle\" x=\"27\" y=\"-27.3\" font-family=\"Times,serif\" font-size=\"14.00\" fill=\"#000000\">0</text>\n</g>\n<!-- 1 -->\n<g id=\"node2\" class=\"node\">\n<title>1</title>\n<ellipse fill=\"none\" stroke=\"#000000\" cx=\"136\" cy=\"-31\" rx=\"27\" ry=\"18\"/>\n<text text-anchor=\"middle\" x=\"136\" y=\"-27.3\" font-family=\"Times,serif\" font-size=\"14.00\" fill=\"#000000\">1</text>\n</g>\n<!-- 0&#45;&#45;1 -->\n<g id=\"edge1\" class=\"edge\">\n<title>0&#45;&#45;1</title>\n<path fill=\"none\" stroke=\"#ff4500\" stroke-width=\"3\" d=\"M54.2241,-31C70.8711,-31 92.0926,-31 108.7452,-31\"/>\n<text text-anchor=\"middle\" x=\"81.5\" y=\"-34.8\" font-family=\"Times,serif\" font-size=\"14.00\" fill=\"#000000\">3.0</text>\n</g>\n<!-- 2 -->\n<g id=\"node3\" class=\"node\">\n<title>2</title>\n<ellipse fill=\"none\" stroke=\"#000000\" cx=\"245\" cy=\"-66\" rx=\"27\" ry=\"18\"/>\n<text text-anchor=\"middle\" x=\"245\" y=\"-62.3\" font-family=\"Times,serif\" font-size=\"14.00\" fill=\"#000000\">2</text>\n</g>\n<!-- 1&#45;&#45;2 -->\n<g id=\"edge2\" class=\"edge\">\n<title>1&#45;&#45;2</title>\n<path fill=\"none\" stroke=\"#ff4500\" stroke-width=\"3\" d=\"M160.4617,-38.8547C178.4132,-44.6189 202.6877,-52.4135 220.6199,-58.1715\"/>\n<text text-anchor=\"middle\" x=\"190.5\" y=\"-53.8\" font-family=\"Times,serif\" font-size=\"14.00\" fill=\"#000000\">2.0</text>\n</g>\n<!-- 5 -->\n<g id=\"node4\" class=\"node\">\n<title>5</title>\n<ellipse fill=\"none\" stroke=\"#000000\" cx=\"354\" cy=\"-18\" rx=\"27\" ry=\"18\"/>\n<text text-anchor=\"middle\" x=\"354\" y=\"-14.3\" font-family=\"Times,serif\" font-size=\"14.00\" fill=\"#000000\">5</text>\n</g>\n<!-- 1&#45;&#45;5 -->\n<g id=\"edge3\" class=\"edge\">\n<title>1&#45;&#45;5</title>\n<path fill=\"none\" stroke=\"#ff4500\" stroke-width=\"3\" d=\"M162.9396,-28.4198C178.9292,-26.9584 199.6071,-25.1903 218,-24 255.7356,-21.558 299.4267,-19.8247 326.8885,-18.8682\"/>\n<text text-anchor=\"middle\" x=\"245\" y=\"-27.8\" font-family=\"Times,serif\" font-size=\"14.00\" fill=\"#000000\">5.0</text>\n</g>\n<!-- 2&#45;&#45;5 -->\n<g id=\"edge5\" class=\"edge\">\n<title>2&#45;&#45;5</title>\n<path fill=\"none\" stroke=\"#000000\" d=\"M267.5849,-56.0544C286.292,-47.8164 312.745,-36.1674 331.4441,-27.9329\"/>\n<text text-anchor=\"middle\" x=\"299.5\" y=\"-47.8\" font-family=\"Times,serif\" font-size=\"14.00\" fill=\"#000000\">7.0</text>\n</g>\n<!-- 4 -->\n<g id=\"node5\" class=\"node\">\n<title>4</title>\n<ellipse fill=\"none\" stroke=\"#000000\" cx=\"354\" cy=\"-86\" rx=\"27\" ry=\"18\"/>\n<text text-anchor=\"middle\" x=\"354\" y=\"-82.3\" font-family=\"Times,serif\" font-size=\"14.00\" fill=\"#000000\">4</text>\n</g>\n<!-- 2&#45;&#45;4 -->\n<g id=\"edge4\" class=\"edge\">\n<title>2&#45;&#45;4</title>\n<path fill=\"none\" stroke=\"#ff4500\" stroke-width=\"3\" d=\"M271.1082,-70.7905C288.2393,-73.9338 310.5628,-78.0299 327.727,-81.1793\"/>\n<text text-anchor=\"middle\" x=\"299.5\" y=\"-80.8\" font-family=\"Times,serif\" font-size=\"14.00\" fill=\"#000000\">5.0</text>\n</g>\n<!-- 3 -->\n<g id=\"node6\" class=\"node\">\n<title>3</title>\n<ellipse fill=\"none\" stroke=\"#000000\" cx=\"463\" cy=\"-32\" rx=\"27\" ry=\"18\"/>\n<text text-anchor=\"middle\" x=\"463\" y=\"-28.3\" font-family=\"Times,serif\" font-size=\"14.00\" fill=\"#000000\">3</text>\n</g>\n<!-- 5&#45;&#45;3 -->\n<g id=\"edge6\" class=\"edge\">\n<title>5&#45;&#45;3</title>\n<path fill=\"none\" stroke=\"#000000\" d=\"M381.2229,-16.8386C392.6399,-16.7616 406.0206,-17.2087 418,-19 424.9166,-20.0342 432.2645,-21.8407 438.9734,-23.7838\"/>\n<text text-anchor=\"middle\" x=\"408.5\" y=\"-22.8\" font-family=\"Times,serif\" font-size=\"14.00\" fill=\"#000000\">5.0</text>\n</g>\n<!-- 4&#45;&#45;3 -->\n<g id=\"edge9\" class=\"edge\">\n<title>4&#45;&#45;3</title>\n<path fill=\"none\" stroke=\"#ff4500\" stroke-width=\"3\" d=\"M372.7682,-72.7092C380.656,-67.4428 390.0617,-61.5677 399,-57 411.7466,-50.4862 426.6057,-44.5859 438.7962,-40.1552\"/>\n<text text-anchor=\"middle\" x=\"408.5\" y=\"-60.8\" font-family=\"Times,serif\" font-size=\"14.00\" fill=\"#000000\">3.0</text>\n</g>\n<!-- 7 -->\n<g id=\"node7\" class=\"node\">\n<title>7</title>\n<ellipse fill=\"none\" stroke=\"#000000\" cx=\"572\" cy=\"-59\" rx=\"27\" ry=\"18\"/>\n<text text-anchor=\"middle\" x=\"572\" y=\"-55.3\" font-family=\"Times,serif\" font-size=\"14.00\" fill=\"#000000\">7</text>\n</g>\n<!-- 4&#45;&#45;7 -->\n<g id=\"edge8\" class=\"edge\">\n<title>4&#45;&#45;7</title>\n<path fill=\"none\" stroke=\"#ff4500\" stroke-width=\"3\" d=\"M380.7137,-83.2403C414.7356,-79.6502 475.3175,-73.0044 527,-66 532.9545,-65.193 539.3395,-64.2482 545.3747,-63.3186\"/>\n<text text-anchor=\"middle\" x=\"463\" y=\"-79.8\" font-family=\"Times,serif\" font-size=\"14.00\" fill=\"#000000\">2.0</text>\n</g>\n<!-- 6 -->\n<g id=\"node8\" class=\"node\">\n<title>6</title>\n<ellipse fill=\"none\" stroke=\"#000000\" cx=\"463\" cy=\"-137\" rx=\"27\" ry=\"18\"/>\n<text text-anchor=\"middle\" x=\"463\" y=\"-133.3\" font-family=\"Times,serif\" font-size=\"14.00\" fill=\"#000000\">6</text>\n</g>\n<!-- 4&#45;&#45;6 -->\n<g id=\"edge7\" class=\"edge\">\n<title>4&#45;&#45;6</title>\n<path fill=\"none\" stroke=\"#ff4500\" stroke-width=\"3\" d=\"M376.3208,-96.4437C395.1306,-105.2446 421.9077,-117.7733 440.709,-126.5703\"/>\n<text text-anchor=\"middle\" x=\"408.5\" y=\"-117.8\" font-family=\"Times,serif\" font-size=\"14.00\" fill=\"#000000\">8.0</text>\n</g>\n<!-- 3&#45;&#45;7 -->\n<g id=\"edge10\" class=\"edge\">\n<title>3&#45;&#45;7</title>\n<path fill=\"none\" stroke=\"#000000\" d=\"M488.5557,-38.3303C506.0485,-42.6634 529.1459,-48.3848 546.6045,-52.7094\"/>\n<text text-anchor=\"middle\" x=\"517.5\" y=\"-50.8\" font-family=\"Times,serif\" font-size=\"14.00\" fill=\"#000000\">8.0</text>\n</g>\n</g>\n</svg>\n"
          },
          "metadata": {
            "tags": []
          },
          "execution_count": 25
        }
      ]
    },
    {
      "cell_type": "markdown",
      "metadata": {
        "id": "HDpUgZjGF_D_"
      },
      "source": [
        "SEGUNDO El Algoritmo de KRUSKAL: Este algirtmo te devuelve el arbol de expansion minima mas optima sin nodo inicial.\n",
        "El Resultado siguiente muestra que El Algoritmo de PRIM Muestra  el mismo arbol que el de KRUSKAl. Esto es porque con el nodo de inicio = 0 para prim coincide con el arbol de expansion minimo que en este caos nos muestra KRUSKAL. pero esto no siempre coincidira, ya que cuando cambiamos el nodo de inicio para el algoritmo de PRIM el arbol de expansion minimo sera diferente.\n",
        "\n"
      ]
    },
    {
      "cell_type": "code",
      "metadata": {
        "colab": {
          "base_uri": "https://localhost:8080/",
          "height": 176
        },
        "id": "ydH2A9oLEmIh",
        "outputId": "6b13b56c-6e5b-4411-a2ae-a605ac06fb6d"
      },
      "source": [
        "path = KRUSKAL(G)\n",
        "gs.nx2gv(G, weighted=True, path=path)"
      ],
      "execution_count": 28,
      "outputs": [
        {
          "output_type": "execute_result",
          "data": {
            "text/plain": [
              "<graphviz.dot.Graph at 0x7fe6b20082d0>"
            ],
            "image/svg+xml": "<?xml version=\"1.0\" encoding=\"UTF-8\" standalone=\"no\"?>\n<!DOCTYPE svg PUBLIC \"-//W3C//DTD SVG 1.1//EN\"\n \"http://www.w3.org/Graphics/SVG/1.1/DTD/svg11.dtd\">\n<!-- Generated by graphviz version 2.40.1 (20161225.0304)\n -->\n<!-- Title: G Pages: 1 -->\n<svg width=\"432pt\" height=\"116pt\"\n viewBox=\"0.00 0.00 432.00 116.01\" xmlns=\"http://www.w3.org/2000/svg\" xmlns:xlink=\"http://www.w3.org/1999/xlink\">\n<g id=\"graph0\" class=\"graph\" transform=\"scale(.7117 .7117) rotate(0) translate(4 159)\">\n<title>G</title>\n<polygon fill=\"#ffffff\" stroke=\"transparent\" points=\"-4,4 -4,-159 603,-159 603,4 -4,4\"/>\n<!-- 0 -->\n<g id=\"node1\" class=\"node\">\n<title>0</title>\n<ellipse fill=\"none\" stroke=\"#000000\" cx=\"27\" cy=\"-31\" rx=\"27\" ry=\"18\"/>\n<text text-anchor=\"middle\" x=\"27\" y=\"-27.3\" font-family=\"Times,serif\" font-size=\"14.00\" fill=\"#000000\">0</text>\n</g>\n<!-- 1 -->\n<g id=\"node2\" class=\"node\">\n<title>1</title>\n<ellipse fill=\"none\" stroke=\"#000000\" cx=\"136\" cy=\"-31\" rx=\"27\" ry=\"18\"/>\n<text text-anchor=\"middle\" x=\"136\" y=\"-27.3\" font-family=\"Times,serif\" font-size=\"14.00\" fill=\"#000000\">1</text>\n</g>\n<!-- 0&#45;&#45;1 -->\n<g id=\"edge1\" class=\"edge\">\n<title>0&#45;&#45;1</title>\n<path fill=\"none\" stroke=\"#ff4500\" stroke-width=\"3\" d=\"M54.2241,-31C70.8711,-31 92.0926,-31 108.7452,-31\"/>\n<text text-anchor=\"middle\" x=\"81.5\" y=\"-34.8\" font-family=\"Times,serif\" font-size=\"14.00\" fill=\"#000000\">3.0</text>\n</g>\n<!-- 2 -->\n<g id=\"node3\" class=\"node\">\n<title>2</title>\n<ellipse fill=\"none\" stroke=\"#000000\" cx=\"245\" cy=\"-66\" rx=\"27\" ry=\"18\"/>\n<text text-anchor=\"middle\" x=\"245\" y=\"-62.3\" font-family=\"Times,serif\" font-size=\"14.00\" fill=\"#000000\">2</text>\n</g>\n<!-- 1&#45;&#45;2 -->\n<g id=\"edge2\" class=\"edge\">\n<title>1&#45;&#45;2</title>\n<path fill=\"none\" stroke=\"#ff4500\" stroke-width=\"3\" d=\"M160.4617,-38.8547C178.4132,-44.6189 202.6877,-52.4135 220.6199,-58.1715\"/>\n<text text-anchor=\"middle\" x=\"190.5\" y=\"-53.8\" font-family=\"Times,serif\" font-size=\"14.00\" fill=\"#000000\">2.0</text>\n</g>\n<!-- 5 -->\n<g id=\"node4\" class=\"node\">\n<title>5</title>\n<ellipse fill=\"none\" stroke=\"#000000\" cx=\"354\" cy=\"-18\" rx=\"27\" ry=\"18\"/>\n<text text-anchor=\"middle\" x=\"354\" y=\"-14.3\" font-family=\"Times,serif\" font-size=\"14.00\" fill=\"#000000\">5</text>\n</g>\n<!-- 1&#45;&#45;5 -->\n<g id=\"edge3\" class=\"edge\">\n<title>1&#45;&#45;5</title>\n<path fill=\"none\" stroke=\"#ff4500\" stroke-width=\"3\" d=\"M162.9396,-28.4198C178.9292,-26.9584 199.6071,-25.1903 218,-24 255.7356,-21.558 299.4267,-19.8247 326.8885,-18.8682\"/>\n<text text-anchor=\"middle\" x=\"245\" y=\"-27.8\" font-family=\"Times,serif\" font-size=\"14.00\" fill=\"#000000\">5.0</text>\n</g>\n<!-- 2&#45;&#45;5 -->\n<g id=\"edge5\" class=\"edge\">\n<title>2&#45;&#45;5</title>\n<path fill=\"none\" stroke=\"#000000\" d=\"M267.5849,-56.0544C286.292,-47.8164 312.745,-36.1674 331.4441,-27.9329\"/>\n<text text-anchor=\"middle\" x=\"299.5\" y=\"-47.8\" font-family=\"Times,serif\" font-size=\"14.00\" fill=\"#000000\">7.0</text>\n</g>\n<!-- 4 -->\n<g id=\"node5\" class=\"node\">\n<title>4</title>\n<ellipse fill=\"none\" stroke=\"#000000\" cx=\"354\" cy=\"-86\" rx=\"27\" ry=\"18\"/>\n<text text-anchor=\"middle\" x=\"354\" y=\"-82.3\" font-family=\"Times,serif\" font-size=\"14.00\" fill=\"#000000\">4</text>\n</g>\n<!-- 2&#45;&#45;4 -->\n<g id=\"edge4\" class=\"edge\">\n<title>2&#45;&#45;4</title>\n<path fill=\"none\" stroke=\"#ff4500\" stroke-width=\"3\" d=\"M271.1082,-70.7905C288.2393,-73.9338 310.5628,-78.0299 327.727,-81.1793\"/>\n<text text-anchor=\"middle\" x=\"299.5\" y=\"-80.8\" font-family=\"Times,serif\" font-size=\"14.00\" fill=\"#000000\">5.0</text>\n</g>\n<!-- 3 -->\n<g id=\"node6\" class=\"node\">\n<title>3</title>\n<ellipse fill=\"none\" stroke=\"#000000\" cx=\"463\" cy=\"-32\" rx=\"27\" ry=\"18\"/>\n<text text-anchor=\"middle\" x=\"463\" y=\"-28.3\" font-family=\"Times,serif\" font-size=\"14.00\" fill=\"#000000\">3</text>\n</g>\n<!-- 5&#45;&#45;3 -->\n<g id=\"edge6\" class=\"edge\">\n<title>5&#45;&#45;3</title>\n<path fill=\"none\" stroke=\"#000000\" d=\"M381.2229,-16.8386C392.6399,-16.7616 406.0206,-17.2087 418,-19 424.9166,-20.0342 432.2645,-21.8407 438.9734,-23.7838\"/>\n<text text-anchor=\"middle\" x=\"408.5\" y=\"-22.8\" font-family=\"Times,serif\" font-size=\"14.00\" fill=\"#000000\">5.0</text>\n</g>\n<!-- 4&#45;&#45;3 -->\n<g id=\"edge9\" class=\"edge\">\n<title>4&#45;&#45;3</title>\n<path fill=\"none\" stroke=\"#ff4500\" stroke-width=\"3\" d=\"M372.7682,-72.7092C380.656,-67.4428 390.0617,-61.5677 399,-57 411.7466,-50.4862 426.6057,-44.5859 438.7962,-40.1552\"/>\n<text text-anchor=\"middle\" x=\"408.5\" y=\"-60.8\" font-family=\"Times,serif\" font-size=\"14.00\" fill=\"#000000\">3.0</text>\n</g>\n<!-- 7 -->\n<g id=\"node7\" class=\"node\">\n<title>7</title>\n<ellipse fill=\"none\" stroke=\"#000000\" cx=\"572\" cy=\"-59\" rx=\"27\" ry=\"18\"/>\n<text text-anchor=\"middle\" x=\"572\" y=\"-55.3\" font-family=\"Times,serif\" font-size=\"14.00\" fill=\"#000000\">7</text>\n</g>\n<!-- 4&#45;&#45;7 -->\n<g id=\"edge8\" class=\"edge\">\n<title>4&#45;&#45;7</title>\n<path fill=\"none\" stroke=\"#ff4500\" stroke-width=\"3\" d=\"M380.7137,-83.2403C414.7356,-79.6502 475.3175,-73.0044 527,-66 532.9545,-65.193 539.3395,-64.2482 545.3747,-63.3186\"/>\n<text text-anchor=\"middle\" x=\"463\" y=\"-79.8\" font-family=\"Times,serif\" font-size=\"14.00\" fill=\"#000000\">2.0</text>\n</g>\n<!-- 6 -->\n<g id=\"node8\" class=\"node\">\n<title>6</title>\n<ellipse fill=\"none\" stroke=\"#000000\" cx=\"463\" cy=\"-137\" rx=\"27\" ry=\"18\"/>\n<text text-anchor=\"middle\" x=\"463\" y=\"-133.3\" font-family=\"Times,serif\" font-size=\"14.00\" fill=\"#000000\">6</text>\n</g>\n<!-- 4&#45;&#45;6 -->\n<g id=\"edge7\" class=\"edge\">\n<title>4&#45;&#45;6</title>\n<path fill=\"none\" stroke=\"#ff4500\" stroke-width=\"3\" d=\"M376.3208,-96.4437C395.1306,-105.2446 421.9077,-117.7733 440.709,-126.5703\"/>\n<text text-anchor=\"middle\" x=\"408.5\" y=\"-117.8\" font-family=\"Times,serif\" font-size=\"14.00\" fill=\"#000000\">8.0</text>\n</g>\n<!-- 3&#45;&#45;7 -->\n<g id=\"edge10\" class=\"edge\">\n<title>3&#45;&#45;7</title>\n<path fill=\"none\" stroke=\"#000000\" d=\"M488.5557,-38.3303C506.0485,-42.6634 529.1459,-48.3848 546.6045,-52.7094\"/>\n<text text-anchor=\"middle\" x=\"517.5\" y=\"-50.8\" font-family=\"Times,serif\" font-size=\"14.00\" fill=\"#000000\">8.0</text>\n</g>\n</g>\n</svg>\n"
          },
          "metadata": {
            "tags": []
          },
          "execution_count": 28
        }
      ]
    },
    {
      "cell_type": "markdown",
      "metadata": {
        "id": "oDZswzFEHT48"
      },
      "source": [
        "En esta comparacion mostramos como los arboles ya no coinciden dado que el nodo inicial para PRIM ya no es 0:"
      ]
    },
    {
      "cell_type": "code",
      "metadata": {
        "colab": {
          "base_uri": "https://localhost:8080/",
          "height": 176
        },
        "id": "eVaxoOwOEn7U",
        "outputId": "4dbdd555-26fc-4ff4-d771-08857883d2b4"
      },
      "source": [
        "path = PRIM(G,4)\n",
        "gs.nx2gv(G, weighted=True, path=path)\n"
      ],
      "execution_count": 30,
      "outputs": [
        {
          "output_type": "execute_result",
          "data": {
            "text/plain": [
              "<graphviz.dot.Graph at 0x7fe6b1fdda50>"
            ],
            "image/svg+xml": "<?xml version=\"1.0\" encoding=\"UTF-8\" standalone=\"no\"?>\n<!DOCTYPE svg PUBLIC \"-//W3C//DTD SVG 1.1//EN\"\n \"http://www.w3.org/Graphics/SVG/1.1/DTD/svg11.dtd\">\n<!-- Generated by graphviz version 2.40.1 (20161225.0304)\n -->\n<!-- Title: G Pages: 1 -->\n<svg width=\"432pt\" height=\"116pt\"\n viewBox=\"0.00 0.00 432.00 116.01\" xmlns=\"http://www.w3.org/2000/svg\" xmlns:xlink=\"http://www.w3.org/1999/xlink\">\n<g id=\"graph0\" class=\"graph\" transform=\"scale(.7117 .7117) rotate(0) translate(4 159)\">\n<title>G</title>\n<polygon fill=\"#ffffff\" stroke=\"transparent\" points=\"-4,4 -4,-159 603,-159 603,4 -4,4\"/>\n<!-- 0 -->\n<g id=\"node1\" class=\"node\">\n<title>0</title>\n<ellipse fill=\"none\" stroke=\"#000000\" cx=\"27\" cy=\"-31\" rx=\"27\" ry=\"18\"/>\n<text text-anchor=\"middle\" x=\"27\" y=\"-27.3\" font-family=\"Times,serif\" font-size=\"14.00\" fill=\"#000000\">0</text>\n</g>\n<!-- 1 -->\n<g id=\"node2\" class=\"node\">\n<title>1</title>\n<ellipse fill=\"none\" stroke=\"#000000\" cx=\"136\" cy=\"-31\" rx=\"27\" ry=\"18\"/>\n<text text-anchor=\"middle\" x=\"136\" y=\"-27.3\" font-family=\"Times,serif\" font-size=\"14.00\" fill=\"#000000\">1</text>\n</g>\n<!-- 0&#45;&#45;1 -->\n<g id=\"edge1\" class=\"edge\">\n<title>0&#45;&#45;1</title>\n<path fill=\"none\" stroke=\"#ff4500\" stroke-width=\"3\" d=\"M54.2241,-31C70.8711,-31 92.0926,-31 108.7452,-31\"/>\n<text text-anchor=\"middle\" x=\"81.5\" y=\"-34.8\" font-family=\"Times,serif\" font-size=\"14.00\" fill=\"#000000\">3.0</text>\n</g>\n<!-- 2 -->\n<g id=\"node3\" class=\"node\">\n<title>2</title>\n<ellipse fill=\"none\" stroke=\"#000000\" cx=\"245\" cy=\"-66\" rx=\"27\" ry=\"18\"/>\n<text text-anchor=\"middle\" x=\"245\" y=\"-62.3\" font-family=\"Times,serif\" font-size=\"14.00\" fill=\"#000000\">2</text>\n</g>\n<!-- 1&#45;&#45;2 -->\n<g id=\"edge2\" class=\"edge\">\n<title>1&#45;&#45;2</title>\n<path fill=\"none\" stroke=\"#ff4500\" stroke-width=\"3\" d=\"M160.4617,-38.8547C178.4132,-44.6189 202.6877,-52.4135 220.6199,-58.1715\"/>\n<text text-anchor=\"middle\" x=\"190.5\" y=\"-53.8\" font-family=\"Times,serif\" font-size=\"14.00\" fill=\"#000000\">2.0</text>\n</g>\n<!-- 5 -->\n<g id=\"node4\" class=\"node\">\n<title>5</title>\n<ellipse fill=\"none\" stroke=\"#000000\" cx=\"354\" cy=\"-18\" rx=\"27\" ry=\"18\"/>\n<text text-anchor=\"middle\" x=\"354\" y=\"-14.3\" font-family=\"Times,serif\" font-size=\"14.00\" fill=\"#000000\">5</text>\n</g>\n<!-- 1&#45;&#45;5 -->\n<g id=\"edge3\" class=\"edge\">\n<title>1&#45;&#45;5</title>\n<path fill=\"none\" stroke=\"#000000\" d=\"M162.9396,-28.4198C178.9292,-26.9584 199.6071,-25.1903 218,-24 255.7356,-21.558 299.4267,-19.8247 326.8885,-18.8682\"/>\n<text text-anchor=\"middle\" x=\"245\" y=\"-27.8\" font-family=\"Times,serif\" font-size=\"14.00\" fill=\"#000000\">5.0</text>\n</g>\n<!-- 2&#45;&#45;5 -->\n<g id=\"edge5\" class=\"edge\">\n<title>2&#45;&#45;5</title>\n<path fill=\"none\" stroke=\"#000000\" d=\"M267.5849,-56.0544C286.292,-47.8164 312.745,-36.1674 331.4441,-27.9329\"/>\n<text text-anchor=\"middle\" x=\"299.5\" y=\"-47.8\" font-family=\"Times,serif\" font-size=\"14.00\" fill=\"#000000\">7.0</text>\n</g>\n<!-- 4 -->\n<g id=\"node5\" class=\"node\">\n<title>4</title>\n<ellipse fill=\"none\" stroke=\"#000000\" cx=\"354\" cy=\"-86\" rx=\"27\" ry=\"18\"/>\n<text text-anchor=\"middle\" x=\"354\" y=\"-82.3\" font-family=\"Times,serif\" font-size=\"14.00\" fill=\"#000000\">4</text>\n</g>\n<!-- 2&#45;&#45;4 -->\n<g id=\"edge4\" class=\"edge\">\n<title>2&#45;&#45;4</title>\n<path fill=\"none\" stroke=\"#ff4500\" stroke-width=\"3\" d=\"M271.1082,-70.7905C288.2393,-73.9338 310.5628,-78.0299 327.727,-81.1793\"/>\n<text text-anchor=\"middle\" x=\"299.5\" y=\"-80.8\" font-family=\"Times,serif\" font-size=\"14.00\" fill=\"#000000\">5.0</text>\n</g>\n<!-- 3 -->\n<g id=\"node6\" class=\"node\">\n<title>3</title>\n<ellipse fill=\"none\" stroke=\"#000000\" cx=\"463\" cy=\"-32\" rx=\"27\" ry=\"18\"/>\n<text text-anchor=\"middle\" x=\"463\" y=\"-28.3\" font-family=\"Times,serif\" font-size=\"14.00\" fill=\"#000000\">3</text>\n</g>\n<!-- 5&#45;&#45;3 -->\n<g id=\"edge6\" class=\"edge\">\n<title>5&#45;&#45;3</title>\n<path fill=\"none\" stroke=\"#ff4500\" stroke-width=\"3\" d=\"M381.2229,-16.8386C392.6399,-16.7616 406.0206,-17.2087 418,-19 424.9166,-20.0342 432.2645,-21.8407 438.9734,-23.7838\"/>\n<text text-anchor=\"middle\" x=\"408.5\" y=\"-22.8\" font-family=\"Times,serif\" font-size=\"14.00\" fill=\"#000000\">5.0</text>\n</g>\n<!-- 4&#45;&#45;3 -->\n<g id=\"edge9\" class=\"edge\">\n<title>4&#45;&#45;3</title>\n<path fill=\"none\" stroke=\"#ff4500\" stroke-width=\"3\" d=\"M372.7682,-72.7092C380.656,-67.4428 390.0617,-61.5677 399,-57 411.7466,-50.4862 426.6057,-44.5859 438.7962,-40.1552\"/>\n<text text-anchor=\"middle\" x=\"408.5\" y=\"-60.8\" font-family=\"Times,serif\" font-size=\"14.00\" fill=\"#000000\">3.0</text>\n</g>\n<!-- 7 -->\n<g id=\"node7\" class=\"node\">\n<title>7</title>\n<ellipse fill=\"none\" stroke=\"#000000\" cx=\"572\" cy=\"-59\" rx=\"27\" ry=\"18\"/>\n<text text-anchor=\"middle\" x=\"572\" y=\"-55.3\" font-family=\"Times,serif\" font-size=\"14.00\" fill=\"#000000\">7</text>\n</g>\n<!-- 4&#45;&#45;7 -->\n<g id=\"edge8\" class=\"edge\">\n<title>4&#45;&#45;7</title>\n<path fill=\"none\" stroke=\"#ff4500\" stroke-width=\"3\" d=\"M380.7137,-83.2403C414.7356,-79.6502 475.3175,-73.0044 527,-66 532.9545,-65.193 539.3395,-64.2482 545.3747,-63.3186\"/>\n<text text-anchor=\"middle\" x=\"463\" y=\"-79.8\" font-family=\"Times,serif\" font-size=\"14.00\" fill=\"#000000\">2.0</text>\n</g>\n<!-- 6 -->\n<g id=\"node8\" class=\"node\">\n<title>6</title>\n<ellipse fill=\"none\" stroke=\"#000000\" cx=\"463\" cy=\"-137\" rx=\"27\" ry=\"18\"/>\n<text text-anchor=\"middle\" x=\"463\" y=\"-133.3\" font-family=\"Times,serif\" font-size=\"14.00\" fill=\"#000000\">6</text>\n</g>\n<!-- 4&#45;&#45;6 -->\n<g id=\"edge7\" class=\"edge\">\n<title>4&#45;&#45;6</title>\n<path fill=\"none\" stroke=\"#ff4500\" stroke-width=\"3\" d=\"M376.3208,-96.4437C395.1306,-105.2446 421.9077,-117.7733 440.709,-126.5703\"/>\n<text text-anchor=\"middle\" x=\"408.5\" y=\"-117.8\" font-family=\"Times,serif\" font-size=\"14.00\" fill=\"#000000\">8.0</text>\n</g>\n<!-- 3&#45;&#45;7 -->\n<g id=\"edge10\" class=\"edge\">\n<title>3&#45;&#45;7</title>\n<path fill=\"none\" stroke=\"#000000\" d=\"M488.5557,-38.3303C506.0485,-42.6634 529.1459,-48.3848 546.6045,-52.7094\"/>\n<text text-anchor=\"middle\" x=\"517.5\" y=\"-50.8\" font-family=\"Times,serif\" font-size=\"14.00\" fill=\"#000000\">8.0</text>\n</g>\n</g>\n</svg>\n"
          },
          "metadata": {
            "tags": []
          },
          "execution_count": 30
        }
      ]
    },
    {
      "cell_type": "markdown",
      "metadata": {
        "id": "JxYLgIHTHjF2"
      },
      "source": [
        "o con los siguientes nodos de entrada en las cuales los arboles tambien son diferentes:"
      ]
    },
    {
      "cell_type": "code",
      "metadata": {
        "colab": {
          "base_uri": "https://localhost:8080/",
          "height": 176
        },
        "id": "QOQuApYRHYZs",
        "outputId": "90e408c9-c416-4be9-a242-ce36e66b76f7"
      },
      "source": [
        "path = PRIM(G,5)\n",
        "gs.nx2gv(G, weighted=True, path=path)"
      ],
      "execution_count": 33,
      "outputs": [
        {
          "output_type": "execute_result",
          "data": {
            "text/plain": [
              "<graphviz.dot.Graph at 0x7fe6b1fae550>"
            ],
            "image/svg+xml": "<?xml version=\"1.0\" encoding=\"UTF-8\" standalone=\"no\"?>\n<!DOCTYPE svg PUBLIC \"-//W3C//DTD SVG 1.1//EN\"\n \"http://www.w3.org/Graphics/SVG/1.1/DTD/svg11.dtd\">\n<!-- Generated by graphviz version 2.40.1 (20161225.0304)\n -->\n<!-- Title: G Pages: 1 -->\n<svg width=\"432pt\" height=\"116pt\"\n viewBox=\"0.00 0.00 432.00 116.01\" xmlns=\"http://www.w3.org/2000/svg\" xmlns:xlink=\"http://www.w3.org/1999/xlink\">\n<g id=\"graph0\" class=\"graph\" transform=\"scale(.7117 .7117) rotate(0) translate(4 159)\">\n<title>G</title>\n<polygon fill=\"#ffffff\" stroke=\"transparent\" points=\"-4,4 -4,-159 603,-159 603,4 -4,4\"/>\n<!-- 0 -->\n<g id=\"node1\" class=\"node\">\n<title>0</title>\n<ellipse fill=\"none\" stroke=\"#000000\" cx=\"27\" cy=\"-31\" rx=\"27\" ry=\"18\"/>\n<text text-anchor=\"middle\" x=\"27\" y=\"-27.3\" font-family=\"Times,serif\" font-size=\"14.00\" fill=\"#000000\">0</text>\n</g>\n<!-- 1 -->\n<g id=\"node2\" class=\"node\">\n<title>1</title>\n<ellipse fill=\"none\" stroke=\"#000000\" cx=\"136\" cy=\"-31\" rx=\"27\" ry=\"18\"/>\n<text text-anchor=\"middle\" x=\"136\" y=\"-27.3\" font-family=\"Times,serif\" font-size=\"14.00\" fill=\"#000000\">1</text>\n</g>\n<!-- 0&#45;&#45;1 -->\n<g id=\"edge1\" class=\"edge\">\n<title>0&#45;&#45;1</title>\n<path fill=\"none\" stroke=\"#ff4500\" stroke-width=\"3\" d=\"M54.2241,-31C70.8711,-31 92.0926,-31 108.7452,-31\"/>\n<text text-anchor=\"middle\" x=\"81.5\" y=\"-34.8\" font-family=\"Times,serif\" font-size=\"14.00\" fill=\"#000000\">3.0</text>\n</g>\n<!-- 2 -->\n<g id=\"node3\" class=\"node\">\n<title>2</title>\n<ellipse fill=\"none\" stroke=\"#000000\" cx=\"245\" cy=\"-66\" rx=\"27\" ry=\"18\"/>\n<text text-anchor=\"middle\" x=\"245\" y=\"-62.3\" font-family=\"Times,serif\" font-size=\"14.00\" fill=\"#000000\">2</text>\n</g>\n<!-- 1&#45;&#45;2 -->\n<g id=\"edge2\" class=\"edge\">\n<title>1&#45;&#45;2</title>\n<path fill=\"none\" stroke=\"#ff4500\" stroke-width=\"3\" d=\"M160.4617,-38.8547C178.4132,-44.6189 202.6877,-52.4135 220.6199,-58.1715\"/>\n<text text-anchor=\"middle\" x=\"190.5\" y=\"-53.8\" font-family=\"Times,serif\" font-size=\"14.00\" fill=\"#000000\">2.0</text>\n</g>\n<!-- 5 -->\n<g id=\"node4\" class=\"node\">\n<title>5</title>\n<ellipse fill=\"none\" stroke=\"#000000\" cx=\"354\" cy=\"-18\" rx=\"27\" ry=\"18\"/>\n<text text-anchor=\"middle\" x=\"354\" y=\"-14.3\" font-family=\"Times,serif\" font-size=\"14.00\" fill=\"#000000\">5</text>\n</g>\n<!-- 1&#45;&#45;5 -->\n<g id=\"edge3\" class=\"edge\">\n<title>1&#45;&#45;5</title>\n<path fill=\"none\" stroke=\"#ff4500\" stroke-width=\"3\" d=\"M162.9396,-28.4198C178.9292,-26.9584 199.6071,-25.1903 218,-24 255.7356,-21.558 299.4267,-19.8247 326.8885,-18.8682\"/>\n<text text-anchor=\"middle\" x=\"245\" y=\"-27.8\" font-family=\"Times,serif\" font-size=\"14.00\" fill=\"#000000\">5.0</text>\n</g>\n<!-- 2&#45;&#45;5 -->\n<g id=\"edge5\" class=\"edge\">\n<title>2&#45;&#45;5</title>\n<path fill=\"none\" stroke=\"#000000\" d=\"M267.5849,-56.0544C286.292,-47.8164 312.745,-36.1674 331.4441,-27.9329\"/>\n<text text-anchor=\"middle\" x=\"299.5\" y=\"-47.8\" font-family=\"Times,serif\" font-size=\"14.00\" fill=\"#000000\">7.0</text>\n</g>\n<!-- 4 -->\n<g id=\"node5\" class=\"node\">\n<title>4</title>\n<ellipse fill=\"none\" stroke=\"#000000\" cx=\"354\" cy=\"-86\" rx=\"27\" ry=\"18\"/>\n<text text-anchor=\"middle\" x=\"354\" y=\"-82.3\" font-family=\"Times,serif\" font-size=\"14.00\" fill=\"#000000\">4</text>\n</g>\n<!-- 2&#45;&#45;4 -->\n<g id=\"edge4\" class=\"edge\">\n<title>2&#45;&#45;4</title>\n<path fill=\"none\" stroke=\"#000000\" d=\"M271.1082,-70.7905C288.2393,-73.9338 310.5628,-78.0299 327.727,-81.1793\"/>\n<text text-anchor=\"middle\" x=\"299.5\" y=\"-80.8\" font-family=\"Times,serif\" font-size=\"14.00\" fill=\"#000000\">5.0</text>\n</g>\n<!-- 3 -->\n<g id=\"node6\" class=\"node\">\n<title>3</title>\n<ellipse fill=\"none\" stroke=\"#000000\" cx=\"463\" cy=\"-32\" rx=\"27\" ry=\"18\"/>\n<text text-anchor=\"middle\" x=\"463\" y=\"-28.3\" font-family=\"Times,serif\" font-size=\"14.00\" fill=\"#000000\">3</text>\n</g>\n<!-- 5&#45;&#45;3 -->\n<g id=\"edge6\" class=\"edge\">\n<title>5&#45;&#45;3</title>\n<path fill=\"none\" stroke=\"#ff4500\" stroke-width=\"3\" d=\"M381.2229,-16.8386C392.6399,-16.7616 406.0206,-17.2087 418,-19 424.9166,-20.0342 432.2645,-21.8407 438.9734,-23.7838\"/>\n<text text-anchor=\"middle\" x=\"408.5\" y=\"-22.8\" font-family=\"Times,serif\" font-size=\"14.00\" fill=\"#000000\">5.0</text>\n</g>\n<!-- 4&#45;&#45;3 -->\n<g id=\"edge9\" class=\"edge\">\n<title>4&#45;&#45;3</title>\n<path fill=\"none\" stroke=\"#ff4500\" stroke-width=\"3\" d=\"M372.7682,-72.7092C380.656,-67.4428 390.0617,-61.5677 399,-57 411.7466,-50.4862 426.6057,-44.5859 438.7962,-40.1552\"/>\n<text text-anchor=\"middle\" x=\"408.5\" y=\"-60.8\" font-family=\"Times,serif\" font-size=\"14.00\" fill=\"#000000\">3.0</text>\n</g>\n<!-- 7 -->\n<g id=\"node7\" class=\"node\">\n<title>7</title>\n<ellipse fill=\"none\" stroke=\"#000000\" cx=\"572\" cy=\"-59\" rx=\"27\" ry=\"18\"/>\n<text text-anchor=\"middle\" x=\"572\" y=\"-55.3\" font-family=\"Times,serif\" font-size=\"14.00\" fill=\"#000000\">7</text>\n</g>\n<!-- 4&#45;&#45;7 -->\n<g id=\"edge8\" class=\"edge\">\n<title>4&#45;&#45;7</title>\n<path fill=\"none\" stroke=\"#ff4500\" stroke-width=\"3\" d=\"M380.7137,-83.2403C414.7356,-79.6502 475.3175,-73.0044 527,-66 532.9545,-65.193 539.3395,-64.2482 545.3747,-63.3186\"/>\n<text text-anchor=\"middle\" x=\"463\" y=\"-79.8\" font-family=\"Times,serif\" font-size=\"14.00\" fill=\"#000000\">2.0</text>\n</g>\n<!-- 6 -->\n<g id=\"node8\" class=\"node\">\n<title>6</title>\n<ellipse fill=\"none\" stroke=\"#000000\" cx=\"463\" cy=\"-137\" rx=\"27\" ry=\"18\"/>\n<text text-anchor=\"middle\" x=\"463\" y=\"-133.3\" font-family=\"Times,serif\" font-size=\"14.00\" fill=\"#000000\">6</text>\n</g>\n<!-- 4&#45;&#45;6 -->\n<g id=\"edge7\" class=\"edge\">\n<title>4&#45;&#45;6</title>\n<path fill=\"none\" stroke=\"#ff4500\" stroke-width=\"3\" d=\"M376.3208,-96.4437C395.1306,-105.2446 421.9077,-117.7733 440.709,-126.5703\"/>\n<text text-anchor=\"middle\" x=\"408.5\" y=\"-117.8\" font-family=\"Times,serif\" font-size=\"14.00\" fill=\"#000000\">8.0</text>\n</g>\n<!-- 3&#45;&#45;7 -->\n<g id=\"edge10\" class=\"edge\">\n<title>3&#45;&#45;7</title>\n<path fill=\"none\" stroke=\"#000000\" d=\"M488.5557,-38.3303C506.0485,-42.6634 529.1459,-48.3848 546.6045,-52.7094\"/>\n<text text-anchor=\"middle\" x=\"517.5\" y=\"-50.8\" font-family=\"Times,serif\" font-size=\"14.00\" fill=\"#000000\">8.0</text>\n</g>\n</g>\n</svg>\n"
          },
          "metadata": {
            "tags": []
          },
          "execution_count": 33
        }
      ]
    },
    {
      "cell_type": "markdown",
      "metadata": {
        "id": "GS8HbUvoIB5d"
      },
      "source": [
        "En Conclusion KRUSKAL Muestra el arbol de expansion minima para el conjunto de datos del grafo.\n",
        "Mientras que PRIM regresa el arbol de expansion minimo para el conjunto de datos dado un NODO de inicio.\n",
        "\n",
        "en algunas ocaciones estos arboles pueden coincidir pero no necesariamente en todos ya que dependera mucho de los recorridos."
      ]
    },
    {
      "cell_type": "markdown",
      "metadata": {
        "id": "LSplJJ-5Idfv"
      },
      "source": [
        "**GRAFICAMOS EL MTS CON 30 NODOS**"
      ]
    },
    {
      "cell_type": "code",
      "metadata": {
        "colab": {
          "base_uri": "https://localhost:8080/"
        },
        "id": "T1nHEWbIH7-8",
        "outputId": "9e49c04b-2caa-46ab-f1b3-c9a86f6614ca"
      },
      "source": [
        "%%file 2.in\n",
        "0 1 3\n",
        "1 2 2\n",
        "1 5 5\n",
        "2 4 5\n",
        "2 5 7\n",
        "3 5 5\n",
        "3 7 8\n",
        "4 6 8\n",
        "4 7 2 \n",
        "4 3 3\n",
        "7 9 5\n",
        "4 9 5\n",
        "3 8 5\n",
        "8 10 3\n",
        "9 10 5\n",
        "9 11 5\n",
        "10 12 4\n",
        "8 12 3\n",
        "10 13 2\n",
        "11 14 3\n",
        "12 14 7\n",
        "12 10 4\n",
        "11 15 3\n",
        "12 16 4\n",
        "13 14 5\n",
        "15 17 3\n",
        "16 18 5\n",
        "16 19 2\n",
        "14 19 5\n",
        "18 20 3\n",
        "17 21 2\n",
        "20 22 3\n",
        "19 23 4\n",
        "21 23 1\n",
        "21 24 3\n",
        "23 25 4\n",
        "22 26 3 \n",
        "25 26 1\n",
        "25 27 6\n",
        "25 28 3\n",
        "27 29 4\n",
        "28 30 1\n",
        "\n"
      ],
      "execution_count": 164,
      "outputs": [
        {
          "output_type": "stream",
          "text": [
            "Overwriting 2.in\n"
          ],
          "name": "stdout"
        }
      ]
    },
    {
      "cell_type": "code",
      "metadata": {
        "colab": {
          "base_uri": "https://localhost:8080/",
          "height": 97
        },
        "id": "SBvZ5oL2JEuV",
        "outputId": "ac4c7b18-cb1c-43ac-fa6f-5f069b7d1c3d"
      },
      "source": [
        "G1 = nx.read_weighted_edgelist('2.in', nodetype=int)\n",
        "gs.nx2gv(G1, weighted=True)"
      ],
      "execution_count": 165,
      "outputs": [
        {
          "output_type": "execute_result",
          "data": {
            "text/plain": [
              "<graphviz.dot.Graph at 0x7fe6b1e8f9d0>"
            ],
            "image/svg+xml": "<?xml version=\"1.0\" encoding=\"UTF-8\" standalone=\"no\"?>\n<!DOCTYPE svg PUBLIC \"-//W3C//DTD SVG 1.1//EN\"\n \"http://www.w3.org/Graphics/SVG/1.1/DTD/svg11.dtd\">\n<!-- Generated by graphviz version 2.40.1 (20161225.0304)\n -->\n<!-- Title: G Pages: 1 -->\n<svg width=\"432pt\" height=\"57pt\"\n viewBox=\"0.00 0.00 432.00 56.86\" xmlns=\"http://www.w3.org/2000/svg\" xmlns:xlink=\"http://www.w3.org/1999/xlink\">\n<g id=\"graph0\" class=\"graph\" transform=\"scale(.272 .272) rotate(0) translate(4 205)\">\n<title>G</title>\n<polygon fill=\"#ffffff\" stroke=\"transparent\" points=\"-4,4 -4,-205 1584,-205 1584,4 -4,4\"/>\n<!-- 0 -->\n<g id=\"node1\" class=\"node\">\n<title>0</title>\n<ellipse fill=\"none\" stroke=\"#000000\" cx=\"27\" cy=\"-165\" rx=\"27\" ry=\"18\"/>\n<text text-anchor=\"middle\" x=\"27\" y=\"-161.3\" font-family=\"Times,serif\" font-size=\"14.00\" fill=\"#000000\">0</text>\n</g>\n<!-- 1 -->\n<g id=\"node2\" class=\"node\">\n<title>1</title>\n<ellipse fill=\"none\" stroke=\"#000000\" cx=\"136\" cy=\"-165\" rx=\"27\" ry=\"18\"/>\n<text text-anchor=\"middle\" x=\"136\" y=\"-161.3\" font-family=\"Times,serif\" font-size=\"14.00\" fill=\"#000000\">1</text>\n</g>\n<!-- 0&#45;&#45;1 -->\n<g id=\"edge1\" class=\"edge\">\n<title>0&#45;&#45;1</title>\n<path fill=\"none\" stroke=\"#000000\" d=\"M54.2241,-165C70.8711,-165 92.0926,-165 108.7452,-165\"/>\n<text text-anchor=\"middle\" x=\"81.5\" y=\"-168.8\" font-family=\"Times,serif\" font-size=\"14.00\" fill=\"#000000\">3.0</text>\n</g>\n<!-- 2 -->\n<g id=\"node3\" class=\"node\">\n<title>2</title>\n<ellipse fill=\"none\" stroke=\"#000000\" cx=\"245\" cy=\"-126\" rx=\"27\" ry=\"18\"/>\n<text text-anchor=\"middle\" x=\"245\" y=\"-122.3\" font-family=\"Times,serif\" font-size=\"14.00\" fill=\"#000000\">2</text>\n</g>\n<!-- 1&#45;&#45;2 -->\n<g id=\"edge2\" class=\"edge\">\n<title>1&#45;&#45;2</title>\n<path fill=\"none\" stroke=\"#000000\" d=\"M159.9205,-156.4413C178.0942,-149.9388 202.9754,-141.0363 221.1353,-134.5388\"/>\n<text text-anchor=\"middle\" x=\"190.5\" y=\"-151.8\" font-family=\"Times,serif\" font-size=\"14.00\" fill=\"#000000\">2.0</text>\n</g>\n<!-- 5 -->\n<g id=\"node4\" class=\"node\">\n<title>5</title>\n<ellipse fill=\"none\" stroke=\"#000000\" cx=\"354\" cy=\"-180\" rx=\"27\" ry=\"18\"/>\n<text text-anchor=\"middle\" x=\"354\" y=\"-176.3\" font-family=\"Times,serif\" font-size=\"14.00\" fill=\"#000000\">5</text>\n</g>\n<!-- 1&#45;&#45;5 -->\n<g id=\"edge3\" class=\"edge\">\n<title>1&#45;&#45;5</title>\n<path fill=\"none\" stroke=\"#000000\" d=\"M163.1691,-166.8694C205.0578,-169.7517 284.9436,-175.2484 326.8318,-178.1306\"/>\n<text text-anchor=\"middle\" x=\"245\" y=\"-178.8\" font-family=\"Times,serif\" font-size=\"14.00\" fill=\"#000000\">5.0</text>\n</g>\n<!-- 2&#45;&#45;5 -->\n<g id=\"edge5\" class=\"edge\">\n<title>2&#45;&#45;5</title>\n<path fill=\"none\" stroke=\"#000000\" d=\"M269.2038,-134.1552C281.3943,-138.5859 296.2534,-144.4862 309,-151 317.9383,-155.5677 327.344,-161.4428 335.2318,-166.7092\"/>\n<text text-anchor=\"middle\" x=\"299.5\" y=\"-154.8\" font-family=\"Times,serif\" font-size=\"14.00\" fill=\"#000000\">7.0</text>\n</g>\n<!-- 4 -->\n<g id=\"node5\" class=\"node\">\n<title>4</title>\n<ellipse fill=\"none\" stroke=\"#000000\" cx=\"354\" cy=\"-110\" rx=\"27\" ry=\"18\"/>\n<text text-anchor=\"middle\" x=\"354\" y=\"-106.3\" font-family=\"Times,serif\" font-size=\"14.00\" fill=\"#000000\">4</text>\n</g>\n<!-- 2&#45;&#45;4 -->\n<g id=\"edge4\" class=\"edge\">\n<title>2&#45;&#45;4</title>\n<path fill=\"none\" stroke=\"#000000\" d=\"M269.5181,-117.7911C276.0993,-115.8986 283.2608,-114.1155 290,-113 301.9617,-111.0201 315.3398,-110.1823 326.7596,-109.873\"/>\n<text text-anchor=\"middle\" x=\"299.5\" y=\"-116.8\" font-family=\"Times,serif\" font-size=\"14.00\" fill=\"#000000\">5.0</text>\n</g>\n<!-- 3 -->\n<g id=\"node6\" class=\"node\">\n<title>3</title>\n<ellipse fill=\"none\" stroke=\"#000000\" cx=\"463\" cy=\"-167\" rx=\"27\" ry=\"18\"/>\n<text text-anchor=\"middle\" x=\"463\" y=\"-163.3\" font-family=\"Times,serif\" font-size=\"14.00\" fill=\"#000000\">3</text>\n</g>\n<!-- 5&#45;&#45;3 -->\n<g id=\"edge6\" class=\"edge\">\n<title>5&#45;&#45;3</title>\n<path fill=\"none\" stroke=\"#000000\" d=\"M380.6644,-176.8198C397.5554,-174.8053 419.3225,-172.2092 436.2331,-170.1924\"/>\n<text text-anchor=\"middle\" x=\"408.5\" y=\"-178.8\" font-family=\"Times,serif\" font-size=\"14.00\" fill=\"#000000\">5.0</text>\n</g>\n<!-- 4&#45;&#45;3 -->\n<g id=\"edge9\" class=\"edge\">\n<title>4&#45;&#45;3</title>\n<path fill=\"none\" stroke=\"#000000\" d=\"M375.2751,-121.1255C394.3572,-131.1042 422.2268,-145.6782 441.4061,-155.7078\"/>\n<text text-anchor=\"middle\" x=\"408.5\" y=\"-145.8\" font-family=\"Times,serif\" font-size=\"14.00\" fill=\"#000000\">3.0</text>\n</g>\n<!-- 7 -->\n<g id=\"node7\" class=\"node\">\n<title>7</title>\n<ellipse fill=\"none\" stroke=\"#000000\" cx=\"572\" cy=\"-110\" rx=\"27\" ry=\"18\"/>\n<text text-anchor=\"middle\" x=\"572\" y=\"-106.3\" font-family=\"Times,serif\" font-size=\"14.00\" fill=\"#000000\">7</text>\n</g>\n<!-- 4&#45;&#45;7 -->\n<g id=\"edge8\" class=\"edge\">\n<title>4&#45;&#45;7</title>\n<path fill=\"none\" stroke=\"#000000\" d=\"M381.1691,-110C423.0578,-110 502.9436,-110 544.8318,-110\"/>\n<text text-anchor=\"middle\" x=\"463\" y=\"-113.8\" font-family=\"Times,serif\" font-size=\"14.00\" fill=\"#000000\">2.0</text>\n</g>\n<!-- 6 -->\n<g id=\"node8\" class=\"node\">\n<title>6</title>\n<ellipse fill=\"none\" stroke=\"#000000\" cx=\"463\" cy=\"-18\" rx=\"27\" ry=\"18\"/>\n<text text-anchor=\"middle\" x=\"463\" y=\"-14.3\" font-family=\"Times,serif\" font-size=\"14.00\" fill=\"#000000\">6</text>\n</g>\n<!-- 4&#45;&#45;6 -->\n<g id=\"edge7\" class=\"edge\">\n<title>4&#45;&#45;6</title>\n<path fill=\"none\" stroke=\"#000000\" d=\"M360.0478,-92.4317C366.8609,-75.2518 379.5854,-49.6066 399,-35 409.6566,-26.9825 423.7963,-22.7404 436.0745,-20.4984\"/>\n<text text-anchor=\"middle\" x=\"408.5\" y=\"-38.8\" font-family=\"Times,serif\" font-size=\"14.00\" fill=\"#000000\">8.0</text>\n</g>\n<!-- 9 -->\n<g id=\"node9\" class=\"node\">\n<title>9</title>\n<ellipse fill=\"none\" stroke=\"#000000\" cx=\"681\" cy=\"-94\" rx=\"27\" ry=\"18\"/>\n<text text-anchor=\"middle\" x=\"681\" y=\"-90.3\" font-family=\"Times,serif\" font-size=\"14.00\" fill=\"#000000\">9</text>\n</g>\n<!-- 4&#45;&#45;9 -->\n<g id=\"edge10\" class=\"edge\">\n<title>4&#45;&#45;9</title>\n<path fill=\"none\" stroke=\"#000000\" d=\"M379.6849,-104.1624C424.2261,-94.7138 518.7294,-77.64 599,-83 617.6312,-84.2441 638.4857,-87.0613 654.501,-89.533\"/>\n<text text-anchor=\"middle\" x=\"517.5\" y=\"-88.8\" font-family=\"Times,serif\" font-size=\"14.00\" fill=\"#000000\">5.0</text>\n</g>\n<!-- 3&#45;&#45;7 -->\n<g id=\"edge11\" class=\"edge\">\n<title>3&#45;&#45;7</title>\n<path fill=\"none\" stroke=\"#000000\" d=\"M484.2751,-155.8745C503.3572,-145.8958 531.2268,-131.3218 550.4061,-121.2922\"/>\n<text text-anchor=\"middle\" x=\"517.5\" y=\"-145.8\" font-family=\"Times,serif\" font-size=\"14.00\" fill=\"#000000\">8.0</text>\n</g>\n<!-- 8 -->\n<g id=\"node10\" class=\"node\">\n<title>8</title>\n<ellipse fill=\"none\" stroke=\"#000000\" cx=\"681\" cy=\"-173\" rx=\"27\" ry=\"18\"/>\n<text text-anchor=\"middle\" x=\"681\" y=\"-169.3\" font-family=\"Times,serif\" font-size=\"14.00\" fill=\"#000000\">8</text>\n</g>\n<!-- 3&#45;&#45;8 -->\n<g id=\"edge12\" class=\"edge\">\n<title>3&#45;&#45;8</title>\n<path fill=\"none\" stroke=\"#000000\" d=\"M490.1691,-167.7478C532.0578,-168.9007 611.9436,-171.0994 653.8318,-172.2523\"/>\n<text text-anchor=\"middle\" x=\"572\" y=\"-174.8\" font-family=\"Times,serif\" font-size=\"14.00\" fill=\"#000000\">5.0</text>\n</g>\n<!-- 7&#45;&#45;9 -->\n<g id=\"edge13\" class=\"edge\">\n<title>7&#45;&#45;9</title>\n<path fill=\"none\" stroke=\"#000000\" d=\"M598.3859,-106.1268C615.3974,-103.6297 637.4413,-100.3939 654.4793,-97.8929\"/>\n<text text-anchor=\"middle\" x=\"626.5\" y=\"-106.8\" font-family=\"Times,serif\" font-size=\"14.00\" fill=\"#000000\">5.0</text>\n</g>\n<!-- 10 -->\n<g id=\"node11\" class=\"node\">\n<title>10</title>\n<ellipse fill=\"none\" stroke=\"#000000\" cx=\"790\" cy=\"-129\" rx=\"27\" ry=\"18\"/>\n<text text-anchor=\"middle\" x=\"790\" y=\"-125.3\" font-family=\"Times,serif\" font-size=\"14.00\" fill=\"#000000\">10</text>\n</g>\n<!-- 9&#45;&#45;10 -->\n<g id=\"edge14\" class=\"edge\">\n<title>9&#45;&#45;10</title>\n<path fill=\"none\" stroke=\"#000000\" d=\"M705.4617,-101.8547C723.4132,-107.6189 747.6877,-115.4135 765.6199,-121.1715\"/>\n<text text-anchor=\"middle\" x=\"735.5\" y=\"-117.8\" font-family=\"Times,serif\" font-size=\"14.00\" fill=\"#000000\">5.0</text>\n</g>\n<!-- 11 -->\n<g id=\"node12\" class=\"node\">\n<title>11</title>\n<ellipse fill=\"none\" stroke=\"#000000\" cx=\"790\" cy=\"-74\" rx=\"27\" ry=\"18\"/>\n<text text-anchor=\"middle\" x=\"790\" y=\"-70.3\" font-family=\"Times,serif\" font-size=\"14.00\" fill=\"#000000\">11</text>\n</g>\n<!-- 9&#45;&#45;11 -->\n<g id=\"edge15\" class=\"edge\">\n<title>9&#45;&#45;11</title>\n<path fill=\"none\" stroke=\"#000000\" d=\"M702.9526,-83.4408C710.1338,-80.4732 718.2576,-77.6169 726,-76 737.97,-73.5003 751.4696,-72.7795 762.9744,-72.7704\"/>\n<text text-anchor=\"middle\" x=\"735.5\" y=\"-79.8\" font-family=\"Times,serif\" font-size=\"14.00\" fill=\"#000000\">5.0</text>\n</g>\n<!-- 8&#45;&#45;10 -->\n<g id=\"edge16\" class=\"edge\">\n<title>8&#45;&#45;10</title>\n<path fill=\"none\" stroke=\"#000000\" d=\"M703.8428,-163.2139C710.9274,-160.2169 718.772,-156.937 726,-154 739.372,-148.5665 754.4011,-142.6842 766.5335,-137.9913\"/>\n<text text-anchor=\"middle\" x=\"735.5\" y=\"-157.8\" font-family=\"Times,serif\" font-size=\"14.00\" fill=\"#000000\">3.0</text>\n</g>\n<!-- 12 -->\n<g id=\"node13\" class=\"node\">\n<title>12</title>\n<ellipse fill=\"none\" stroke=\"#000000\" cx=\"899\" cy=\"-182\" rx=\"27\" ry=\"18\"/>\n<text text-anchor=\"middle\" x=\"899\" y=\"-178.3\" font-family=\"Times,serif\" font-size=\"14.00\" fill=\"#000000\">12</text>\n</g>\n<!-- 8&#45;&#45;12 -->\n<g id=\"edge17\" class=\"edge\">\n<title>8&#45;&#45;12</title>\n<path fill=\"none\" stroke=\"#000000\" d=\"M708.1691,-174.1217C750.0578,-175.851 829.9436,-179.149 871.8318,-180.8784\"/>\n<text text-anchor=\"middle\" x=\"790\" y=\"-182.8\" font-family=\"Times,serif\" font-size=\"14.00\" fill=\"#000000\">3.0</text>\n</g>\n<!-- 10&#45;&#45;12 -->\n<g id=\"edge18\" class=\"edge\">\n<title>10&#45;&#45;12</title>\n<path fill=\"none\" stroke=\"#000000\" d=\"M814.1604,-137.241C826.3398,-141.6935 841.2022,-147.5875 854,-154 862.7201,-158.3693 871.934,-163.9208 879.7377,-168.9264\"/>\n<text text-anchor=\"middle\" x=\"844.5\" y=\"-157.8\" font-family=\"Times,serif\" font-size=\"14.00\" fill=\"#000000\">4.0</text>\n</g>\n<!-- 13 -->\n<g id=\"node14\" class=\"node\">\n<title>13</title>\n<ellipse fill=\"none\" stroke=\"#000000\" cx=\"899\" cy=\"-125\" rx=\"27\" ry=\"18\"/>\n<text text-anchor=\"middle\" x=\"899\" y=\"-121.3\" font-family=\"Times,serif\" font-size=\"14.00\" fill=\"#000000\">13</text>\n</g>\n<!-- 10&#45;&#45;13 -->\n<g id=\"edge19\" class=\"edge\">\n<title>10&#45;&#45;13</title>\n<path fill=\"none\" stroke=\"#000000\" d=\"M814.0161,-120.7123C820.725,-118.7689 828.0755,-116.9802 835,-116 847.7761,-114.1915 861.9888,-115.824 873.7691,-118.171\"/>\n<text text-anchor=\"middle\" x=\"844.5\" y=\"-119.8\" font-family=\"Times,serif\" font-size=\"14.00\" fill=\"#000000\">2.0</text>\n</g>\n<!-- 14 -->\n<g id=\"node15\" class=\"node\">\n<title>14</title>\n<ellipse fill=\"none\" stroke=\"#000000\" cx=\"1008\" cy=\"-107\" rx=\"27\" ry=\"18\"/>\n<text text-anchor=\"middle\" x=\"1008\" y=\"-103.3\" font-family=\"Times,serif\" font-size=\"14.00\" fill=\"#000000\">14</text>\n</g>\n<!-- 11&#45;&#45;14 -->\n<g id=\"edge20\" class=\"edge\">\n<title>11&#45;&#45;14</title>\n<path fill=\"none\" stroke=\"#000000\" d=\"M817.0456,-74.056C844.6415,-74.5176 888.604,-76.3724 926,-83 945.8638,-86.5204 967.7649,-93.0738 983.9326,-98.4441\"/>\n<text text-anchor=\"middle\" x=\"899\" y=\"-86.8\" font-family=\"Times,serif\" font-size=\"14.00\" fill=\"#000000\">3.0</text>\n</g>\n<!-- 15 -->\n<g id=\"node16\" class=\"node\">\n<title>15</title>\n<ellipse fill=\"none\" stroke=\"#000000\" cx=\"899\" cy=\"-20\" rx=\"27\" ry=\"18\"/>\n<text text-anchor=\"middle\" x=\"899\" y=\"-16.3\" font-family=\"Times,serif\" font-size=\"14.00\" fill=\"#000000\">15</text>\n</g>\n<!-- 11&#45;&#45;15 -->\n<g id=\"edge21\" class=\"edge\">\n<title>11&#45;&#45;15</title>\n<path fill=\"none\" stroke=\"#000000\" d=\"M808.7682,-60.7092C816.656,-55.4428 826.0617,-49.5677 835,-45 847.7466,-38.4862 862.6057,-32.5859 874.7962,-28.1552\"/>\n<text text-anchor=\"middle\" x=\"844.5\" y=\"-48.8\" font-family=\"Times,serif\" font-size=\"14.00\" fill=\"#000000\">3.0</text>\n</g>\n<!-- 12&#45;&#45;14 -->\n<g id=\"edge22\" class=\"edge\">\n<title>12&#45;&#45;14</title>\n<path fill=\"none\" stroke=\"#000000\" d=\"M917.9864,-168.936C937.8706,-155.2542 968.926,-133.8858 988.8655,-120.1659\"/>\n<text text-anchor=\"middle\" x=\"953.5\" y=\"-152.8\" font-family=\"Times,serif\" font-size=\"14.00\" fill=\"#000000\">7.0</text>\n</g>\n<!-- 16 -->\n<g id=\"node17\" class=\"node\">\n<title>16</title>\n<ellipse fill=\"none\" stroke=\"#000000\" cx=\"1008\" cy=\"-183\" rx=\"27\" ry=\"18\"/>\n<text text-anchor=\"middle\" x=\"1008\" y=\"-179.3\" font-family=\"Times,serif\" font-size=\"14.00\" fill=\"#000000\">16</text>\n</g>\n<!-- 12&#45;&#45;16 -->\n<g id=\"edge23\" class=\"edge\">\n<title>12&#45;&#45;16</title>\n<path fill=\"none\" stroke=\"#000000\" d=\"M926.2241,-182.2498C942.8711,-182.4025 964.0926,-182.5972 980.7452,-182.75\"/>\n<text text-anchor=\"middle\" x=\"953.5\" y=\"-186.8\" font-family=\"Times,serif\" font-size=\"14.00\" fill=\"#000000\">4.0</text>\n</g>\n<!-- 13&#45;&#45;14 -->\n<g id=\"edge24\" class=\"edge\">\n<title>13&#45;&#45;14</title>\n<path fill=\"none\" stroke=\"#000000\" d=\"M921.4496,-114.7804C928.5182,-112.0394 936.4527,-109.4391 944,-108 956.0074,-105.7105 969.5123,-105.2039 981.0109,-105.3707\"/>\n<text text-anchor=\"middle\" x=\"953.5\" y=\"-111.8\" font-family=\"Times,serif\" font-size=\"14.00\" fill=\"#000000\">5.0</text>\n</g>\n<!-- 19 -->\n<g id=\"node20\" class=\"node\">\n<title>19</title>\n<ellipse fill=\"none\" stroke=\"#000000\" cx=\"1117\" cy=\"-107\" rx=\"27\" ry=\"18\"/>\n<text text-anchor=\"middle\" x=\"1117\" y=\"-103.3\" font-family=\"Times,serif\" font-size=\"14.00\" fill=\"#000000\">19</text>\n</g>\n<!-- 14&#45;&#45;19 -->\n<g id=\"edge25\" class=\"edge\">\n<title>14&#45;&#45;19</title>\n<path fill=\"none\" stroke=\"#000000\" d=\"M1035.2241,-107C1051.8711,-107 1073.0926,-107 1089.7452,-107\"/>\n<text text-anchor=\"middle\" x=\"1062.5\" y=\"-110.8\" font-family=\"Times,serif\" font-size=\"14.00\" fill=\"#000000\">5.0</text>\n</g>\n<!-- 17 -->\n<g id=\"node18\" class=\"node\">\n<title>17</title>\n<ellipse fill=\"none\" stroke=\"#000000\" cx=\"1008\" cy=\"-21\" rx=\"27\" ry=\"18\"/>\n<text text-anchor=\"middle\" x=\"1008\" y=\"-17.3\" font-family=\"Times,serif\" font-size=\"14.00\" fill=\"#000000\">17</text>\n</g>\n<!-- 15&#45;&#45;17 -->\n<g id=\"edge26\" class=\"edge\">\n<title>15&#45;&#45;17</title>\n<path fill=\"none\" stroke=\"#000000\" d=\"M926.2241,-20.2498C942.8711,-20.4025 964.0926,-20.5972 980.7452,-20.75\"/>\n<text text-anchor=\"middle\" x=\"953.5\" y=\"-24.8\" font-family=\"Times,serif\" font-size=\"14.00\" fill=\"#000000\">3.0</text>\n</g>\n<!-- 18 -->\n<g id=\"node19\" class=\"node\">\n<title>18</title>\n<ellipse fill=\"none\" stroke=\"#000000\" cx=\"1117\" cy=\"-183\" rx=\"27\" ry=\"18\"/>\n<text text-anchor=\"middle\" x=\"1117\" y=\"-179.3\" font-family=\"Times,serif\" font-size=\"14.00\" fill=\"#000000\">18</text>\n</g>\n<!-- 16&#45;&#45;18 -->\n<g id=\"edge27\" class=\"edge\">\n<title>16&#45;&#45;18</title>\n<path fill=\"none\" stroke=\"#000000\" d=\"M1035.2241,-183C1051.8711,-183 1073.0926,-183 1089.7452,-183\"/>\n<text text-anchor=\"middle\" x=\"1062.5\" y=\"-186.8\" font-family=\"Times,serif\" font-size=\"14.00\" fill=\"#000000\">5.0</text>\n</g>\n<!-- 16&#45;&#45;19 -->\n<g id=\"edge28\" class=\"edge\">\n<title>16&#45;&#45;19</title>\n<path fill=\"none\" stroke=\"#000000\" d=\"M1026.9864,-169.7618C1046.9926,-155.8125 1078.3075,-133.9783 1098.2312,-120.0865\"/>\n<text text-anchor=\"middle\" x=\"1062.5\" y=\"-153.8\" font-family=\"Times,serif\" font-size=\"14.00\" fill=\"#000000\">2.0</text>\n</g>\n<!-- 21 -->\n<g id=\"node22\" class=\"node\">\n<title>21</title>\n<ellipse fill=\"none\" stroke=\"#000000\" cx=\"1117\" cy=\"-29\" rx=\"27\" ry=\"18\"/>\n<text text-anchor=\"middle\" x=\"1117\" y=\"-25.3\" font-family=\"Times,serif\" font-size=\"14.00\" fill=\"#000000\">21</text>\n</g>\n<!-- 17&#45;&#45;21 -->\n<g id=\"edge29\" class=\"edge\">\n<title>17&#45;&#45;21</title>\n<path fill=\"none\" stroke=\"#000000\" d=\"M1034.9438,-22.9775C1051.7133,-24.2083 1073.2062,-25.7858 1089.9884,-27.0175\"/>\n<text text-anchor=\"middle\" x=\"1062.5\" y=\"-29.8\" font-family=\"Times,serif\" font-size=\"14.00\" fill=\"#000000\">2.0</text>\n</g>\n<!-- 20 -->\n<g id=\"node21\" class=\"node\">\n<title>20</title>\n<ellipse fill=\"none\" stroke=\"#000000\" cx=\"1226\" cy=\"-183\" rx=\"27\" ry=\"18\"/>\n<text text-anchor=\"middle\" x=\"1226\" y=\"-179.3\" font-family=\"Times,serif\" font-size=\"14.00\" fill=\"#000000\">20</text>\n</g>\n<!-- 18&#45;&#45;20 -->\n<g id=\"edge30\" class=\"edge\">\n<title>18&#45;&#45;20</title>\n<path fill=\"none\" stroke=\"#000000\" d=\"M1144.2241,-183C1160.8711,-183 1182.0926,-183 1198.7452,-183\"/>\n<text text-anchor=\"middle\" x=\"1171.5\" y=\"-186.8\" font-family=\"Times,serif\" font-size=\"14.00\" fill=\"#000000\">3.0</text>\n</g>\n<!-- 23 -->\n<g id=\"node24\" class=\"node\">\n<title>23</title>\n<ellipse fill=\"none\" stroke=\"#000000\" cx=\"1226\" cy=\"-107\" rx=\"27\" ry=\"18\"/>\n<text text-anchor=\"middle\" x=\"1226\" y=\"-103.3\" font-family=\"Times,serif\" font-size=\"14.00\" fill=\"#000000\">23</text>\n</g>\n<!-- 19&#45;&#45;23 -->\n<g id=\"edge31\" class=\"edge\">\n<title>19&#45;&#45;23</title>\n<path fill=\"none\" stroke=\"#000000\" d=\"M1144.2241,-107C1160.8711,-107 1182.0926,-107 1198.7452,-107\"/>\n<text text-anchor=\"middle\" x=\"1171.5\" y=\"-110.8\" font-family=\"Times,serif\" font-size=\"14.00\" fill=\"#000000\">4.0</text>\n</g>\n<!-- 22 -->\n<g id=\"node23\" class=\"node\">\n<title>22</title>\n<ellipse fill=\"none\" stroke=\"#000000\" cx=\"1335\" cy=\"-183\" rx=\"27\" ry=\"18\"/>\n<text text-anchor=\"middle\" x=\"1335\" y=\"-179.3\" font-family=\"Times,serif\" font-size=\"14.00\" fill=\"#000000\">22</text>\n</g>\n<!-- 20&#45;&#45;22 -->\n<g id=\"edge32\" class=\"edge\">\n<title>20&#45;&#45;22</title>\n<path fill=\"none\" stroke=\"#000000\" d=\"M1253.2241,-183C1269.8711,-183 1291.0926,-183 1307.7452,-183\"/>\n<text text-anchor=\"middle\" x=\"1280.5\" y=\"-186.8\" font-family=\"Times,serif\" font-size=\"14.00\" fill=\"#000000\">3.0</text>\n</g>\n<!-- 21&#45;&#45;23 -->\n<g id=\"edge33\" class=\"edge\">\n<title>21&#45;&#45;23</title>\n<path fill=\"none\" stroke=\"#000000\" d=\"M1135.4904,-42.2316C1155.5341,-56.5749 1187.3398,-79.3349 1207.4189,-93.7035\"/>\n<text text-anchor=\"middle\" x=\"1171.5\" y=\"-76.8\" font-family=\"Times,serif\" font-size=\"14.00\" fill=\"#000000\">1.0</text>\n</g>\n<!-- 24 -->\n<g id=\"node25\" class=\"node\">\n<title>24</title>\n<ellipse fill=\"none\" stroke=\"#000000\" cx=\"1226\" cy=\"-29\" rx=\"27\" ry=\"18\"/>\n<text text-anchor=\"middle\" x=\"1226\" y=\"-25.3\" font-family=\"Times,serif\" font-size=\"14.00\" fill=\"#000000\">24</text>\n</g>\n<!-- 21&#45;&#45;24 -->\n<g id=\"edge34\" class=\"edge\">\n<title>21&#45;&#45;24</title>\n<path fill=\"none\" stroke=\"#000000\" d=\"M1144.2241,-29C1160.8711,-29 1182.0926,-29 1198.7452,-29\"/>\n<text text-anchor=\"middle\" x=\"1171.5\" y=\"-32.8\" font-family=\"Times,serif\" font-size=\"14.00\" fill=\"#000000\">3.0</text>\n</g>\n<!-- 26 -->\n<g id=\"node27\" class=\"node\">\n<title>26</title>\n<ellipse fill=\"none\" stroke=\"#000000\" cx=\"1444\" cy=\"-174\" rx=\"27\" ry=\"18\"/>\n<text text-anchor=\"middle\" x=\"1444\" y=\"-170.3\" font-family=\"Times,serif\" font-size=\"14.00\" fill=\"#000000\">26</text>\n</g>\n<!-- 22&#45;&#45;26 -->\n<g id=\"edge35\" class=\"edge\">\n<title>22&#45;&#45;26</title>\n<path fill=\"none\" stroke=\"#000000\" d=\"M1361.9438,-180.7753C1378.7133,-179.3906 1400.2062,-177.616 1416.9884,-176.2303\"/>\n<text text-anchor=\"middle\" x=\"1389.5\" y=\"-183.8\" font-family=\"Times,serif\" font-size=\"14.00\" fill=\"#000000\">3.0</text>\n</g>\n<!-- 25 -->\n<g id=\"node26\" class=\"node\">\n<title>25</title>\n<ellipse fill=\"none\" stroke=\"#000000\" cx=\"1335\" cy=\"-107\" rx=\"27\" ry=\"18\"/>\n<text text-anchor=\"middle\" x=\"1335\" y=\"-103.3\" font-family=\"Times,serif\" font-size=\"14.00\" fill=\"#000000\">25</text>\n</g>\n<!-- 23&#45;&#45;25 -->\n<g id=\"edge36\" class=\"edge\">\n<title>23&#45;&#45;25</title>\n<path fill=\"none\" stroke=\"#000000\" d=\"M1253.2241,-107C1269.8711,-107 1291.0926,-107 1307.7452,-107\"/>\n<text text-anchor=\"middle\" x=\"1280.5\" y=\"-110.8\" font-family=\"Times,serif\" font-size=\"14.00\" fill=\"#000000\">4.0</text>\n</g>\n<!-- 25&#45;&#45;26 -->\n<g id=\"edge37\" class=\"edge\">\n<title>25&#45;&#45;26</title>\n<path fill=\"none\" stroke=\"#000000\" d=\"M1354.9923,-119.2888C1374.6594,-131.3778 1404.5113,-149.7271 1424.1345,-161.7891\"/>\n<text text-anchor=\"middle\" x=\"1389.5\" y=\"-148.8\" font-family=\"Times,serif\" font-size=\"14.00\" fill=\"#000000\">1.0</text>\n</g>\n<!-- 27 -->\n<g id=\"node28\" class=\"node\">\n<title>27</title>\n<ellipse fill=\"none\" stroke=\"#000000\" cx=\"1444\" cy=\"-111\" rx=\"27\" ry=\"18\"/>\n<text text-anchor=\"middle\" x=\"1444\" y=\"-107.3\" font-family=\"Times,serif\" font-size=\"14.00\" fill=\"#000000\">27</text>\n</g>\n<!-- 25&#45;&#45;27 -->\n<g id=\"edge38\" class=\"edge\">\n<title>25&#45;&#45;27</title>\n<path fill=\"none\" stroke=\"#000000\" d=\"M1362.1012,-107.1183C1373.4987,-107.2472 1386.8976,-107.5024 1399,-108 1404.7892,-108.238 1410.9916,-108.5891 1416.8846,-108.968\"/>\n<text text-anchor=\"middle\" x=\"1389.5\" y=\"-111.8\" font-family=\"Times,serif\" font-size=\"14.00\" fill=\"#000000\">6.0</text>\n</g>\n<!-- 28 -->\n<g id=\"node29\" class=\"node\">\n<title>28</title>\n<ellipse fill=\"none\" stroke=\"#000000\" cx=\"1444\" cy=\"-57\" rx=\"27\" ry=\"18\"/>\n<text text-anchor=\"middle\" x=\"1444\" y=\"-53.3\" font-family=\"Times,serif\" font-size=\"14.00\" fill=\"#000000\">28</text>\n</g>\n<!-- 25&#45;&#45;28 -->\n<g id=\"edge39\" class=\"edge\">\n<title>25&#45;&#45;28</title>\n<path fill=\"none\" stroke=\"#000000\" d=\"M1357.3208,-96.7611C1376.1306,-88.1328 1402.9077,-75.8497 1421.709,-67.2252\"/>\n<text text-anchor=\"middle\" x=\"1389.5\" y=\"-88.8\" font-family=\"Times,serif\" font-size=\"14.00\" fill=\"#000000\">3.0</text>\n</g>\n<!-- 29 -->\n<g id=\"node30\" class=\"node\">\n<title>29</title>\n<ellipse fill=\"none\" stroke=\"#000000\" cx=\"1553\" cy=\"-111\" rx=\"27\" ry=\"18\"/>\n<text text-anchor=\"middle\" x=\"1553\" y=\"-107.3\" font-family=\"Times,serif\" font-size=\"14.00\" fill=\"#000000\">29</text>\n</g>\n<!-- 27&#45;&#45;29 -->\n<g id=\"edge40\" class=\"edge\">\n<title>27&#45;&#45;29</title>\n<path fill=\"none\" stroke=\"#000000\" d=\"M1471.2241,-111C1487.8711,-111 1509.0926,-111 1525.7452,-111\"/>\n<text text-anchor=\"middle\" x=\"1498.5\" y=\"-114.8\" font-family=\"Times,serif\" font-size=\"14.00\" fill=\"#000000\">4.0</text>\n</g>\n<!-- 30 -->\n<g id=\"node31\" class=\"node\">\n<title>30</title>\n<ellipse fill=\"none\" stroke=\"#000000\" cx=\"1553\" cy=\"-57\" rx=\"27\" ry=\"18\"/>\n<text text-anchor=\"middle\" x=\"1553\" y=\"-53.3\" font-family=\"Times,serif\" font-size=\"14.00\" fill=\"#000000\">30</text>\n</g>\n<!-- 28&#45;&#45;30 -->\n<g id=\"edge41\" class=\"edge\">\n<title>28&#45;&#45;30</title>\n<path fill=\"none\" stroke=\"#000000\" d=\"M1471.2241,-57C1487.8711,-57 1509.0926,-57 1525.7452,-57\"/>\n<text text-anchor=\"middle\" x=\"1498.5\" y=\"-60.8\" font-family=\"Times,serif\" font-size=\"14.00\" fill=\"#000000\">1.0</text>\n</g>\n</g>\n</svg>\n"
          },
          "metadata": {
            "tags": []
          },
          "execution_count": 165
        }
      ]
    },
    {
      "cell_type": "code",
      "metadata": {
        "colab": {
          "base_uri": "https://localhost:8080/",
          "height": 97
        },
        "id": "tV4NWgYWJNYT",
        "outputId": "a6cc7451-d985-4236-bdb3-48cf71edf019"
      },
      "source": [
        "path = KRUSKAL(G1)\n",
        "gs.nx2gv(G1, weighted=True, path=path)\n"
      ],
      "execution_count": 166,
      "outputs": [
        {
          "output_type": "execute_result",
          "data": {
            "text/plain": [
              "<graphviz.dot.Graph at 0x7fe6b1ee6590>"
            ],
            "image/svg+xml": "<?xml version=\"1.0\" encoding=\"UTF-8\" standalone=\"no\"?>\n<!DOCTYPE svg PUBLIC \"-//W3C//DTD SVG 1.1//EN\"\n \"http://www.w3.org/Graphics/SVG/1.1/DTD/svg11.dtd\">\n<!-- Generated by graphviz version 2.40.1 (20161225.0304)\n -->\n<!-- Title: G Pages: 1 -->\n<svg width=\"432pt\" height=\"57pt\"\n viewBox=\"0.00 0.00 432.00 56.86\" xmlns=\"http://www.w3.org/2000/svg\" xmlns:xlink=\"http://www.w3.org/1999/xlink\">\n<g id=\"graph0\" class=\"graph\" transform=\"scale(.272 .272) rotate(0) translate(4 205)\">\n<title>G</title>\n<polygon fill=\"#ffffff\" stroke=\"transparent\" points=\"-4,4 -4,-205 1584,-205 1584,4 -4,4\"/>\n<!-- 0 -->\n<g id=\"node1\" class=\"node\">\n<title>0</title>\n<ellipse fill=\"none\" stroke=\"#000000\" cx=\"27\" cy=\"-165\" rx=\"27\" ry=\"18\"/>\n<text text-anchor=\"middle\" x=\"27\" y=\"-161.3\" font-family=\"Times,serif\" font-size=\"14.00\" fill=\"#000000\">0</text>\n</g>\n<!-- 1 -->\n<g id=\"node2\" class=\"node\">\n<title>1</title>\n<ellipse fill=\"none\" stroke=\"#000000\" cx=\"136\" cy=\"-165\" rx=\"27\" ry=\"18\"/>\n<text text-anchor=\"middle\" x=\"136\" y=\"-161.3\" font-family=\"Times,serif\" font-size=\"14.00\" fill=\"#000000\">1</text>\n</g>\n<!-- 0&#45;&#45;1 -->\n<g id=\"edge1\" class=\"edge\">\n<title>0&#45;&#45;1</title>\n<path fill=\"none\" stroke=\"#ff4500\" stroke-width=\"3\" d=\"M54.2241,-165C70.8711,-165 92.0926,-165 108.7452,-165\"/>\n<text text-anchor=\"middle\" x=\"81.5\" y=\"-168.8\" font-family=\"Times,serif\" font-size=\"14.00\" fill=\"#000000\">3.0</text>\n</g>\n<!-- 2 -->\n<g id=\"node3\" class=\"node\">\n<title>2</title>\n<ellipse fill=\"none\" stroke=\"#000000\" cx=\"245\" cy=\"-126\" rx=\"27\" ry=\"18\"/>\n<text text-anchor=\"middle\" x=\"245\" y=\"-122.3\" font-family=\"Times,serif\" font-size=\"14.00\" fill=\"#000000\">2</text>\n</g>\n<!-- 1&#45;&#45;2 -->\n<g id=\"edge2\" class=\"edge\">\n<title>1&#45;&#45;2</title>\n<path fill=\"none\" stroke=\"#ff4500\" stroke-width=\"3\" d=\"M159.9205,-156.4413C178.0942,-149.9388 202.9754,-141.0363 221.1353,-134.5388\"/>\n<text text-anchor=\"middle\" x=\"190.5\" y=\"-151.8\" font-family=\"Times,serif\" font-size=\"14.00\" fill=\"#000000\">2.0</text>\n</g>\n<!-- 5 -->\n<g id=\"node4\" class=\"node\">\n<title>5</title>\n<ellipse fill=\"none\" stroke=\"#000000\" cx=\"354\" cy=\"-180\" rx=\"27\" ry=\"18\"/>\n<text text-anchor=\"middle\" x=\"354\" y=\"-176.3\" font-family=\"Times,serif\" font-size=\"14.00\" fill=\"#000000\">5</text>\n</g>\n<!-- 1&#45;&#45;5 -->\n<g id=\"edge3\" class=\"edge\">\n<title>1&#45;&#45;5</title>\n<path fill=\"none\" stroke=\"#ff4500\" stroke-width=\"3\" d=\"M163.1691,-166.8694C205.0578,-169.7517 284.9436,-175.2484 326.8318,-178.1306\"/>\n<text text-anchor=\"middle\" x=\"245\" y=\"-178.8\" font-family=\"Times,serif\" font-size=\"14.00\" fill=\"#000000\">5.0</text>\n</g>\n<!-- 2&#45;&#45;5 -->\n<g id=\"edge5\" class=\"edge\">\n<title>2&#45;&#45;5</title>\n<path fill=\"none\" stroke=\"#000000\" d=\"M269.2038,-134.1552C281.3943,-138.5859 296.2534,-144.4862 309,-151 317.9383,-155.5677 327.344,-161.4428 335.2318,-166.7092\"/>\n<text text-anchor=\"middle\" x=\"299.5\" y=\"-154.8\" font-family=\"Times,serif\" font-size=\"14.00\" fill=\"#000000\">7.0</text>\n</g>\n<!-- 4 -->\n<g id=\"node5\" class=\"node\">\n<title>4</title>\n<ellipse fill=\"none\" stroke=\"#000000\" cx=\"354\" cy=\"-110\" rx=\"27\" ry=\"18\"/>\n<text text-anchor=\"middle\" x=\"354\" y=\"-106.3\" font-family=\"Times,serif\" font-size=\"14.00\" fill=\"#000000\">4</text>\n</g>\n<!-- 2&#45;&#45;4 -->\n<g id=\"edge4\" class=\"edge\">\n<title>2&#45;&#45;4</title>\n<path fill=\"none\" stroke=\"#ff4500\" stroke-width=\"3\" d=\"M269.5181,-117.7911C276.0993,-115.8986 283.2608,-114.1155 290,-113 301.9617,-111.0201 315.3398,-110.1823 326.7596,-109.873\"/>\n<text text-anchor=\"middle\" x=\"299.5\" y=\"-116.8\" font-family=\"Times,serif\" font-size=\"14.00\" fill=\"#000000\">5.0</text>\n</g>\n<!-- 3 -->\n<g id=\"node6\" class=\"node\">\n<title>3</title>\n<ellipse fill=\"none\" stroke=\"#000000\" cx=\"463\" cy=\"-167\" rx=\"27\" ry=\"18\"/>\n<text text-anchor=\"middle\" x=\"463\" y=\"-163.3\" font-family=\"Times,serif\" font-size=\"14.00\" fill=\"#000000\">3</text>\n</g>\n<!-- 5&#45;&#45;3 -->\n<g id=\"edge6\" class=\"edge\">\n<title>5&#45;&#45;3</title>\n<path fill=\"none\" stroke=\"#000000\" d=\"M380.6644,-176.8198C397.5554,-174.8053 419.3225,-172.2092 436.2331,-170.1924\"/>\n<text text-anchor=\"middle\" x=\"408.5\" y=\"-178.8\" font-family=\"Times,serif\" font-size=\"14.00\" fill=\"#000000\">5.0</text>\n</g>\n<!-- 4&#45;&#45;3 -->\n<g id=\"edge9\" class=\"edge\">\n<title>4&#45;&#45;3</title>\n<path fill=\"none\" stroke=\"#ff4500\" stroke-width=\"3\" d=\"M375.2751,-121.1255C394.3572,-131.1042 422.2268,-145.6782 441.4061,-155.7078\"/>\n<text text-anchor=\"middle\" x=\"408.5\" y=\"-145.8\" font-family=\"Times,serif\" font-size=\"14.00\" fill=\"#000000\">3.0</text>\n</g>\n<!-- 7 -->\n<g id=\"node7\" class=\"node\">\n<title>7</title>\n<ellipse fill=\"none\" stroke=\"#000000\" cx=\"572\" cy=\"-110\" rx=\"27\" ry=\"18\"/>\n<text text-anchor=\"middle\" x=\"572\" y=\"-106.3\" font-family=\"Times,serif\" font-size=\"14.00\" fill=\"#000000\">7</text>\n</g>\n<!-- 4&#45;&#45;7 -->\n<g id=\"edge8\" class=\"edge\">\n<title>4&#45;&#45;7</title>\n<path fill=\"none\" stroke=\"#ff4500\" stroke-width=\"3\" d=\"M381.1691,-110C423.0578,-110 502.9436,-110 544.8318,-110\"/>\n<text text-anchor=\"middle\" x=\"463\" y=\"-113.8\" font-family=\"Times,serif\" font-size=\"14.00\" fill=\"#000000\">2.0</text>\n</g>\n<!-- 6 -->\n<g id=\"node8\" class=\"node\">\n<title>6</title>\n<ellipse fill=\"none\" stroke=\"#000000\" cx=\"463\" cy=\"-18\" rx=\"27\" ry=\"18\"/>\n<text text-anchor=\"middle\" x=\"463\" y=\"-14.3\" font-family=\"Times,serif\" font-size=\"14.00\" fill=\"#000000\">6</text>\n</g>\n<!-- 4&#45;&#45;6 -->\n<g id=\"edge7\" class=\"edge\">\n<title>4&#45;&#45;6</title>\n<path fill=\"none\" stroke=\"#ff4500\" stroke-width=\"3\" d=\"M360.0478,-92.4317C366.8609,-75.2518 379.5854,-49.6066 399,-35 409.6566,-26.9825 423.7963,-22.7404 436.0745,-20.4984\"/>\n<text text-anchor=\"middle\" x=\"408.5\" y=\"-38.8\" font-family=\"Times,serif\" font-size=\"14.00\" fill=\"#000000\">8.0</text>\n</g>\n<!-- 9 -->\n<g id=\"node9\" class=\"node\">\n<title>9</title>\n<ellipse fill=\"none\" stroke=\"#000000\" cx=\"681\" cy=\"-94\" rx=\"27\" ry=\"18\"/>\n<text text-anchor=\"middle\" x=\"681\" y=\"-90.3\" font-family=\"Times,serif\" font-size=\"14.00\" fill=\"#000000\">9</text>\n</g>\n<!-- 4&#45;&#45;9 -->\n<g id=\"edge10\" class=\"edge\">\n<title>4&#45;&#45;9</title>\n<path fill=\"none\" stroke=\"#ff4500\" stroke-width=\"3\" d=\"M379.6849,-104.1624C424.2261,-94.7138 518.7294,-77.64 599,-83 617.6312,-84.2441 638.4857,-87.0613 654.501,-89.533\"/>\n<text text-anchor=\"middle\" x=\"517.5\" y=\"-88.8\" font-family=\"Times,serif\" font-size=\"14.00\" fill=\"#000000\">5.0</text>\n</g>\n<!-- 3&#45;&#45;7 -->\n<g id=\"edge11\" class=\"edge\">\n<title>3&#45;&#45;7</title>\n<path fill=\"none\" stroke=\"#000000\" d=\"M484.2751,-155.8745C503.3572,-145.8958 531.2268,-131.3218 550.4061,-121.2922\"/>\n<text text-anchor=\"middle\" x=\"517.5\" y=\"-145.8\" font-family=\"Times,serif\" font-size=\"14.00\" fill=\"#000000\">8.0</text>\n</g>\n<!-- 8 -->\n<g id=\"node10\" class=\"node\">\n<title>8</title>\n<ellipse fill=\"none\" stroke=\"#000000\" cx=\"681\" cy=\"-173\" rx=\"27\" ry=\"18\"/>\n<text text-anchor=\"middle\" x=\"681\" y=\"-169.3\" font-family=\"Times,serif\" font-size=\"14.00\" fill=\"#000000\">8</text>\n</g>\n<!-- 3&#45;&#45;8 -->\n<g id=\"edge12\" class=\"edge\">\n<title>3&#45;&#45;8</title>\n<path fill=\"none\" stroke=\"#ff4500\" stroke-width=\"3\" d=\"M490.1691,-167.7478C532.0578,-168.9007 611.9436,-171.0994 653.8318,-172.2523\"/>\n<text text-anchor=\"middle\" x=\"572\" y=\"-174.8\" font-family=\"Times,serif\" font-size=\"14.00\" fill=\"#000000\">5.0</text>\n</g>\n<!-- 7&#45;&#45;9 -->\n<g id=\"edge13\" class=\"edge\">\n<title>7&#45;&#45;9</title>\n<path fill=\"none\" stroke=\"#000000\" d=\"M598.3859,-106.1268C615.3974,-103.6297 637.4413,-100.3939 654.4793,-97.8929\"/>\n<text text-anchor=\"middle\" x=\"626.5\" y=\"-106.8\" font-family=\"Times,serif\" font-size=\"14.00\" fill=\"#000000\">5.0</text>\n</g>\n<!-- 10 -->\n<g id=\"node11\" class=\"node\">\n<title>10</title>\n<ellipse fill=\"none\" stroke=\"#000000\" cx=\"790\" cy=\"-129\" rx=\"27\" ry=\"18\"/>\n<text text-anchor=\"middle\" x=\"790\" y=\"-125.3\" font-family=\"Times,serif\" font-size=\"14.00\" fill=\"#000000\">10</text>\n</g>\n<!-- 9&#45;&#45;10 -->\n<g id=\"edge14\" class=\"edge\">\n<title>9&#45;&#45;10</title>\n<path fill=\"none\" stroke=\"#000000\" d=\"M705.4617,-101.8547C723.4132,-107.6189 747.6877,-115.4135 765.6199,-121.1715\"/>\n<text text-anchor=\"middle\" x=\"735.5\" y=\"-117.8\" font-family=\"Times,serif\" font-size=\"14.00\" fill=\"#000000\">5.0</text>\n</g>\n<!-- 11 -->\n<g id=\"node12\" class=\"node\">\n<title>11</title>\n<ellipse fill=\"none\" stroke=\"#000000\" cx=\"790\" cy=\"-74\" rx=\"27\" ry=\"18\"/>\n<text text-anchor=\"middle\" x=\"790\" y=\"-70.3\" font-family=\"Times,serif\" font-size=\"14.00\" fill=\"#000000\">11</text>\n</g>\n<!-- 9&#45;&#45;11 -->\n<g id=\"edge15\" class=\"edge\">\n<title>9&#45;&#45;11</title>\n<path fill=\"none\" stroke=\"#000000\" d=\"M702.9526,-83.4408C710.1338,-80.4732 718.2576,-77.6169 726,-76 737.97,-73.5003 751.4696,-72.7795 762.9744,-72.7704\"/>\n<text text-anchor=\"middle\" x=\"735.5\" y=\"-79.8\" font-family=\"Times,serif\" font-size=\"14.00\" fill=\"#000000\">5.0</text>\n</g>\n<!-- 8&#45;&#45;10 -->\n<g id=\"edge16\" class=\"edge\">\n<title>8&#45;&#45;10</title>\n<path fill=\"none\" stroke=\"#000000\" d=\"M703.8428,-163.2139C710.9274,-160.2169 718.772,-156.937 726,-154 739.372,-148.5665 754.4011,-142.6842 766.5335,-137.9913\"/>\n<text text-anchor=\"middle\" x=\"735.5\" y=\"-157.8\" font-family=\"Times,serif\" font-size=\"14.00\" fill=\"#000000\">3.0</text>\n</g>\n<!-- 12 -->\n<g id=\"node13\" class=\"node\">\n<title>12</title>\n<ellipse fill=\"none\" stroke=\"#000000\" cx=\"899\" cy=\"-182\" rx=\"27\" ry=\"18\"/>\n<text text-anchor=\"middle\" x=\"899\" y=\"-178.3\" font-family=\"Times,serif\" font-size=\"14.00\" fill=\"#000000\">12</text>\n</g>\n<!-- 8&#45;&#45;12 -->\n<g id=\"edge17\" class=\"edge\">\n<title>8&#45;&#45;12</title>\n<path fill=\"none\" stroke=\"#ff4500\" stroke-width=\"3\" d=\"M708.1691,-174.1217C750.0578,-175.851 829.9436,-179.149 871.8318,-180.8784\"/>\n<text text-anchor=\"middle\" x=\"790\" y=\"-182.8\" font-family=\"Times,serif\" font-size=\"14.00\" fill=\"#000000\">3.0</text>\n</g>\n<!-- 10&#45;&#45;12 -->\n<g id=\"edge18\" class=\"edge\">\n<title>10&#45;&#45;12</title>\n<path fill=\"none\" stroke=\"#000000\" d=\"M814.1604,-137.241C826.3398,-141.6935 841.2022,-147.5875 854,-154 862.7201,-158.3693 871.934,-163.9208 879.7377,-168.9264\"/>\n<text text-anchor=\"middle\" x=\"844.5\" y=\"-157.8\" font-family=\"Times,serif\" font-size=\"14.00\" fill=\"#000000\">4.0</text>\n</g>\n<!-- 13 -->\n<g id=\"node14\" class=\"node\">\n<title>13</title>\n<ellipse fill=\"none\" stroke=\"#000000\" cx=\"899\" cy=\"-125\" rx=\"27\" ry=\"18\"/>\n<text text-anchor=\"middle\" x=\"899\" y=\"-121.3\" font-family=\"Times,serif\" font-size=\"14.00\" fill=\"#000000\">13</text>\n</g>\n<!-- 10&#45;&#45;13 -->\n<g id=\"edge19\" class=\"edge\">\n<title>10&#45;&#45;13</title>\n<path fill=\"none\" stroke=\"#ff4500\" stroke-width=\"3\" d=\"M814.0161,-120.7123C820.725,-118.7689 828.0755,-116.9802 835,-116 847.7761,-114.1915 861.9888,-115.824 873.7691,-118.171\"/>\n<text text-anchor=\"middle\" x=\"844.5\" y=\"-119.8\" font-family=\"Times,serif\" font-size=\"14.00\" fill=\"#000000\">2.0</text>\n</g>\n<!-- 14 -->\n<g id=\"node15\" class=\"node\">\n<title>14</title>\n<ellipse fill=\"none\" stroke=\"#000000\" cx=\"1008\" cy=\"-107\" rx=\"27\" ry=\"18\"/>\n<text text-anchor=\"middle\" x=\"1008\" y=\"-103.3\" font-family=\"Times,serif\" font-size=\"14.00\" fill=\"#000000\">14</text>\n</g>\n<!-- 11&#45;&#45;14 -->\n<g id=\"edge20\" class=\"edge\">\n<title>11&#45;&#45;14</title>\n<path fill=\"none\" stroke=\"#ff4500\" stroke-width=\"3\" d=\"M817.0456,-74.056C844.6415,-74.5176 888.604,-76.3724 926,-83 945.8638,-86.5204 967.7649,-93.0738 983.9326,-98.4441\"/>\n<text text-anchor=\"middle\" x=\"899\" y=\"-86.8\" font-family=\"Times,serif\" font-size=\"14.00\" fill=\"#000000\">3.0</text>\n</g>\n<!-- 15 -->\n<g id=\"node16\" class=\"node\">\n<title>15</title>\n<ellipse fill=\"none\" stroke=\"#000000\" cx=\"899\" cy=\"-20\" rx=\"27\" ry=\"18\"/>\n<text text-anchor=\"middle\" x=\"899\" y=\"-16.3\" font-family=\"Times,serif\" font-size=\"14.00\" fill=\"#000000\">15</text>\n</g>\n<!-- 11&#45;&#45;15 -->\n<g id=\"edge21\" class=\"edge\">\n<title>11&#45;&#45;15</title>\n<path fill=\"none\" stroke=\"#ff4500\" stroke-width=\"3\" d=\"M808.7682,-60.7092C816.656,-55.4428 826.0617,-49.5677 835,-45 847.7466,-38.4862 862.6057,-32.5859 874.7962,-28.1552\"/>\n<text text-anchor=\"middle\" x=\"844.5\" y=\"-48.8\" font-family=\"Times,serif\" font-size=\"14.00\" fill=\"#000000\">3.0</text>\n</g>\n<!-- 12&#45;&#45;14 -->\n<g id=\"edge22\" class=\"edge\">\n<title>12&#45;&#45;14</title>\n<path fill=\"none\" stroke=\"#000000\" d=\"M917.9864,-168.936C937.8706,-155.2542 968.926,-133.8858 988.8655,-120.1659\"/>\n<text text-anchor=\"middle\" x=\"953.5\" y=\"-152.8\" font-family=\"Times,serif\" font-size=\"14.00\" fill=\"#000000\">7.0</text>\n</g>\n<!-- 16 -->\n<g id=\"node17\" class=\"node\">\n<title>16</title>\n<ellipse fill=\"none\" stroke=\"#000000\" cx=\"1008\" cy=\"-183\" rx=\"27\" ry=\"18\"/>\n<text text-anchor=\"middle\" x=\"1008\" y=\"-179.3\" font-family=\"Times,serif\" font-size=\"14.00\" fill=\"#000000\">16</text>\n</g>\n<!-- 12&#45;&#45;16 -->\n<g id=\"edge23\" class=\"edge\">\n<title>12&#45;&#45;16</title>\n<path fill=\"none\" stroke=\"#ff4500\" stroke-width=\"3\" d=\"M926.2241,-182.2498C942.8711,-182.4025 964.0926,-182.5972 980.7452,-182.75\"/>\n<text text-anchor=\"middle\" x=\"953.5\" y=\"-186.8\" font-family=\"Times,serif\" font-size=\"14.00\" fill=\"#000000\">4.0</text>\n</g>\n<!-- 13&#45;&#45;14 -->\n<g id=\"edge24\" class=\"edge\">\n<title>13&#45;&#45;14</title>\n<path fill=\"none\" stroke=\"#000000\" d=\"M921.4496,-114.7804C928.5182,-112.0394 936.4527,-109.4391 944,-108 956.0074,-105.7105 969.5123,-105.2039 981.0109,-105.3707\"/>\n<text text-anchor=\"middle\" x=\"953.5\" y=\"-111.8\" font-family=\"Times,serif\" font-size=\"14.00\" fill=\"#000000\">5.0</text>\n</g>\n<!-- 19 -->\n<g id=\"node20\" class=\"node\">\n<title>19</title>\n<ellipse fill=\"none\" stroke=\"#000000\" cx=\"1117\" cy=\"-107\" rx=\"27\" ry=\"18\"/>\n<text text-anchor=\"middle\" x=\"1117\" y=\"-103.3\" font-family=\"Times,serif\" font-size=\"14.00\" fill=\"#000000\">19</text>\n</g>\n<!-- 14&#45;&#45;19 -->\n<g id=\"edge25\" class=\"edge\">\n<title>14&#45;&#45;19</title>\n<path fill=\"none\" stroke=\"#000000\" d=\"M1035.2241,-107C1051.8711,-107 1073.0926,-107 1089.7452,-107\"/>\n<text text-anchor=\"middle\" x=\"1062.5\" y=\"-110.8\" font-family=\"Times,serif\" font-size=\"14.00\" fill=\"#000000\">5.0</text>\n</g>\n<!-- 17 -->\n<g id=\"node18\" class=\"node\">\n<title>17</title>\n<ellipse fill=\"none\" stroke=\"#000000\" cx=\"1008\" cy=\"-21\" rx=\"27\" ry=\"18\"/>\n<text text-anchor=\"middle\" x=\"1008\" y=\"-17.3\" font-family=\"Times,serif\" font-size=\"14.00\" fill=\"#000000\">17</text>\n</g>\n<!-- 15&#45;&#45;17 -->\n<g id=\"edge26\" class=\"edge\">\n<title>15&#45;&#45;17</title>\n<path fill=\"none\" stroke=\"#ff4500\" stroke-width=\"3\" d=\"M926.2241,-20.2498C942.8711,-20.4025 964.0926,-20.5972 980.7452,-20.75\"/>\n<text text-anchor=\"middle\" x=\"953.5\" y=\"-24.8\" font-family=\"Times,serif\" font-size=\"14.00\" fill=\"#000000\">3.0</text>\n</g>\n<!-- 18 -->\n<g id=\"node19\" class=\"node\">\n<title>18</title>\n<ellipse fill=\"none\" stroke=\"#000000\" cx=\"1117\" cy=\"-183\" rx=\"27\" ry=\"18\"/>\n<text text-anchor=\"middle\" x=\"1117\" y=\"-179.3\" font-family=\"Times,serif\" font-size=\"14.00\" fill=\"#000000\">18</text>\n</g>\n<!-- 16&#45;&#45;18 -->\n<g id=\"edge27\" class=\"edge\">\n<title>16&#45;&#45;18</title>\n<path fill=\"none\" stroke=\"#000000\" d=\"M1035.2241,-183C1051.8711,-183 1073.0926,-183 1089.7452,-183\"/>\n<text text-anchor=\"middle\" x=\"1062.5\" y=\"-186.8\" font-family=\"Times,serif\" font-size=\"14.00\" fill=\"#000000\">5.0</text>\n</g>\n<!-- 16&#45;&#45;19 -->\n<g id=\"edge28\" class=\"edge\">\n<title>16&#45;&#45;19</title>\n<path fill=\"none\" stroke=\"#000000\" d=\"M1026.9864,-169.7618C1046.9926,-155.8125 1078.3075,-133.9783 1098.2312,-120.0865\"/>\n<text text-anchor=\"middle\" x=\"1062.5\" y=\"-153.8\" font-family=\"Times,serif\" font-size=\"14.00\" fill=\"#000000\">2.0</text>\n</g>\n<!-- 21 -->\n<g id=\"node22\" class=\"node\">\n<title>21</title>\n<ellipse fill=\"none\" stroke=\"#000000\" cx=\"1117\" cy=\"-29\" rx=\"27\" ry=\"18\"/>\n<text text-anchor=\"middle\" x=\"1117\" y=\"-25.3\" font-family=\"Times,serif\" font-size=\"14.00\" fill=\"#000000\">21</text>\n</g>\n<!-- 17&#45;&#45;21 -->\n<g id=\"edge29\" class=\"edge\">\n<title>17&#45;&#45;21</title>\n<path fill=\"none\" stroke=\"#000000\" d=\"M1034.9438,-22.9775C1051.7133,-24.2083 1073.2062,-25.7858 1089.9884,-27.0175\"/>\n<text text-anchor=\"middle\" x=\"1062.5\" y=\"-29.8\" font-family=\"Times,serif\" font-size=\"14.00\" fill=\"#000000\">2.0</text>\n</g>\n<!-- 20 -->\n<g id=\"node21\" class=\"node\">\n<title>20</title>\n<ellipse fill=\"none\" stroke=\"#000000\" cx=\"1226\" cy=\"-183\" rx=\"27\" ry=\"18\"/>\n<text text-anchor=\"middle\" x=\"1226\" y=\"-179.3\" font-family=\"Times,serif\" font-size=\"14.00\" fill=\"#000000\">20</text>\n</g>\n<!-- 18&#45;&#45;20 -->\n<g id=\"edge30\" class=\"edge\">\n<title>18&#45;&#45;20</title>\n<path fill=\"none\" stroke=\"#ff4500\" stroke-width=\"3\" d=\"M1144.2241,-183C1160.8711,-183 1182.0926,-183 1198.7452,-183\"/>\n<text text-anchor=\"middle\" x=\"1171.5\" y=\"-186.8\" font-family=\"Times,serif\" font-size=\"14.00\" fill=\"#000000\">3.0</text>\n</g>\n<!-- 23 -->\n<g id=\"node24\" class=\"node\">\n<title>23</title>\n<ellipse fill=\"none\" stroke=\"#000000\" cx=\"1226\" cy=\"-107\" rx=\"27\" ry=\"18\"/>\n<text text-anchor=\"middle\" x=\"1226\" y=\"-103.3\" font-family=\"Times,serif\" font-size=\"14.00\" fill=\"#000000\">23</text>\n</g>\n<!-- 19&#45;&#45;23 -->\n<g id=\"edge31\" class=\"edge\">\n<title>19&#45;&#45;23</title>\n<path fill=\"none\" stroke=\"#ff4500\" stroke-width=\"3\" d=\"M1144.2241,-107C1160.8711,-107 1182.0926,-107 1198.7452,-107\"/>\n<text text-anchor=\"middle\" x=\"1171.5\" y=\"-110.8\" font-family=\"Times,serif\" font-size=\"14.00\" fill=\"#000000\">4.0</text>\n</g>\n<!-- 22 -->\n<g id=\"node23\" class=\"node\">\n<title>22</title>\n<ellipse fill=\"none\" stroke=\"#000000\" cx=\"1335\" cy=\"-183\" rx=\"27\" ry=\"18\"/>\n<text text-anchor=\"middle\" x=\"1335\" y=\"-179.3\" font-family=\"Times,serif\" font-size=\"14.00\" fill=\"#000000\">22</text>\n</g>\n<!-- 20&#45;&#45;22 -->\n<g id=\"edge32\" class=\"edge\">\n<title>20&#45;&#45;22</title>\n<path fill=\"none\" stroke=\"#ff4500\" stroke-width=\"3\" d=\"M1253.2241,-183C1269.8711,-183 1291.0926,-183 1307.7452,-183\"/>\n<text text-anchor=\"middle\" x=\"1280.5\" y=\"-186.8\" font-family=\"Times,serif\" font-size=\"14.00\" fill=\"#000000\">3.0</text>\n</g>\n<!-- 21&#45;&#45;23 -->\n<g id=\"edge33\" class=\"edge\">\n<title>21&#45;&#45;23</title>\n<path fill=\"none\" stroke=\"#ff4500\" stroke-width=\"3\" d=\"M1135.4904,-42.2316C1155.5341,-56.5749 1187.3398,-79.3349 1207.4189,-93.7035\"/>\n<text text-anchor=\"middle\" x=\"1171.5\" y=\"-76.8\" font-family=\"Times,serif\" font-size=\"14.00\" fill=\"#000000\">1.0</text>\n</g>\n<!-- 24 -->\n<g id=\"node25\" class=\"node\">\n<title>24</title>\n<ellipse fill=\"none\" stroke=\"#000000\" cx=\"1226\" cy=\"-29\" rx=\"27\" ry=\"18\"/>\n<text text-anchor=\"middle\" x=\"1226\" y=\"-25.3\" font-family=\"Times,serif\" font-size=\"14.00\" fill=\"#000000\">24</text>\n</g>\n<!-- 21&#45;&#45;24 -->\n<g id=\"edge34\" class=\"edge\">\n<title>21&#45;&#45;24</title>\n<path fill=\"none\" stroke=\"#ff4500\" stroke-width=\"3\" d=\"M1144.2241,-29C1160.8711,-29 1182.0926,-29 1198.7452,-29\"/>\n<text text-anchor=\"middle\" x=\"1171.5\" y=\"-32.8\" font-family=\"Times,serif\" font-size=\"14.00\" fill=\"#000000\">3.0</text>\n</g>\n<!-- 26 -->\n<g id=\"node27\" class=\"node\">\n<title>26</title>\n<ellipse fill=\"none\" stroke=\"#000000\" cx=\"1444\" cy=\"-174\" rx=\"27\" ry=\"18\"/>\n<text text-anchor=\"middle\" x=\"1444\" y=\"-170.3\" font-family=\"Times,serif\" font-size=\"14.00\" fill=\"#000000\">26</text>\n</g>\n<!-- 22&#45;&#45;26 -->\n<g id=\"edge35\" class=\"edge\">\n<title>22&#45;&#45;26</title>\n<path fill=\"none\" stroke=\"#ff4500\" stroke-width=\"3\" d=\"M1361.9438,-180.7753C1378.7133,-179.3906 1400.2062,-177.616 1416.9884,-176.2303\"/>\n<text text-anchor=\"middle\" x=\"1389.5\" y=\"-183.8\" font-family=\"Times,serif\" font-size=\"14.00\" fill=\"#000000\">3.0</text>\n</g>\n<!-- 25 -->\n<g id=\"node26\" class=\"node\">\n<title>25</title>\n<ellipse fill=\"none\" stroke=\"#000000\" cx=\"1335\" cy=\"-107\" rx=\"27\" ry=\"18\"/>\n<text text-anchor=\"middle\" x=\"1335\" y=\"-103.3\" font-family=\"Times,serif\" font-size=\"14.00\" fill=\"#000000\">25</text>\n</g>\n<!-- 23&#45;&#45;25 -->\n<g id=\"edge36\" class=\"edge\">\n<title>23&#45;&#45;25</title>\n<path fill=\"none\" stroke=\"#ff4500\" stroke-width=\"3\" d=\"M1253.2241,-107C1269.8711,-107 1291.0926,-107 1307.7452,-107\"/>\n<text text-anchor=\"middle\" x=\"1280.5\" y=\"-110.8\" font-family=\"Times,serif\" font-size=\"14.00\" fill=\"#000000\">4.0</text>\n</g>\n<!-- 25&#45;&#45;26 -->\n<g id=\"edge37\" class=\"edge\">\n<title>25&#45;&#45;26</title>\n<path fill=\"none\" stroke=\"#ff4500\" stroke-width=\"3\" d=\"M1354.9923,-119.2888C1374.6594,-131.3778 1404.5113,-149.7271 1424.1345,-161.7891\"/>\n<text text-anchor=\"middle\" x=\"1389.5\" y=\"-148.8\" font-family=\"Times,serif\" font-size=\"14.00\" fill=\"#000000\">1.0</text>\n</g>\n<!-- 27 -->\n<g id=\"node28\" class=\"node\">\n<title>27</title>\n<ellipse fill=\"none\" stroke=\"#000000\" cx=\"1444\" cy=\"-111\" rx=\"27\" ry=\"18\"/>\n<text text-anchor=\"middle\" x=\"1444\" y=\"-107.3\" font-family=\"Times,serif\" font-size=\"14.00\" fill=\"#000000\">27</text>\n</g>\n<!-- 25&#45;&#45;27 -->\n<g id=\"edge38\" class=\"edge\">\n<title>25&#45;&#45;27</title>\n<path fill=\"none\" stroke=\"#ff4500\" stroke-width=\"3\" d=\"M1362.1012,-107.1183C1373.4987,-107.2472 1386.8976,-107.5024 1399,-108 1404.7892,-108.238 1410.9916,-108.5891 1416.8846,-108.968\"/>\n<text text-anchor=\"middle\" x=\"1389.5\" y=\"-111.8\" font-family=\"Times,serif\" font-size=\"14.00\" fill=\"#000000\">6.0</text>\n</g>\n<!-- 28 -->\n<g id=\"node29\" class=\"node\">\n<title>28</title>\n<ellipse fill=\"none\" stroke=\"#000000\" cx=\"1444\" cy=\"-57\" rx=\"27\" ry=\"18\"/>\n<text text-anchor=\"middle\" x=\"1444\" y=\"-53.3\" font-family=\"Times,serif\" font-size=\"14.00\" fill=\"#000000\">28</text>\n</g>\n<!-- 25&#45;&#45;28 -->\n<g id=\"edge39\" class=\"edge\">\n<title>25&#45;&#45;28</title>\n<path fill=\"none\" stroke=\"#ff4500\" stroke-width=\"3\" d=\"M1357.3208,-96.7611C1376.1306,-88.1328 1402.9077,-75.8497 1421.709,-67.2252\"/>\n<text text-anchor=\"middle\" x=\"1389.5\" y=\"-88.8\" font-family=\"Times,serif\" font-size=\"14.00\" fill=\"#000000\">3.0</text>\n</g>\n<!-- 29 -->\n<g id=\"node30\" class=\"node\">\n<title>29</title>\n<ellipse fill=\"none\" stroke=\"#000000\" cx=\"1553\" cy=\"-111\" rx=\"27\" ry=\"18\"/>\n<text text-anchor=\"middle\" x=\"1553\" y=\"-107.3\" font-family=\"Times,serif\" font-size=\"14.00\" fill=\"#000000\">29</text>\n</g>\n<!-- 27&#45;&#45;29 -->\n<g id=\"edge40\" class=\"edge\">\n<title>27&#45;&#45;29</title>\n<path fill=\"none\" stroke=\"#000000\" d=\"M1471.2241,-111C1487.8711,-111 1509.0926,-111 1525.7452,-111\"/>\n<text text-anchor=\"middle\" x=\"1498.5\" y=\"-114.8\" font-family=\"Times,serif\" font-size=\"14.00\" fill=\"#000000\">4.0</text>\n</g>\n<!-- 30 -->\n<g id=\"node31\" class=\"node\">\n<title>30</title>\n<ellipse fill=\"none\" stroke=\"#000000\" cx=\"1553\" cy=\"-57\" rx=\"27\" ry=\"18\"/>\n<text text-anchor=\"middle\" x=\"1553\" y=\"-53.3\" font-family=\"Times,serif\" font-size=\"14.00\" fill=\"#000000\">30</text>\n</g>\n<!-- 28&#45;&#45;30 -->\n<g id=\"edge41\" class=\"edge\">\n<title>28&#45;&#45;30</title>\n<path fill=\"none\" stroke=\"#000000\" d=\"M1471.2241,-57C1487.8711,-57 1509.0926,-57 1525.7452,-57\"/>\n<text text-anchor=\"middle\" x=\"1498.5\" y=\"-60.8\" font-family=\"Times,serif\" font-size=\"14.00\" fill=\"#000000\">1.0</text>\n</g>\n</g>\n</svg>\n"
          },
          "metadata": {
            "tags": []
          },
          "execution_count": 166
        }
      ]
    },
    {
      "cell_type": "code",
      "metadata": {
        "colab": {
          "base_uri": "https://localhost:8080/",
          "height": 97
        },
        "id": "ApYNpgKnLpca",
        "outputId": "a333d48e-7c17-412a-c53d-73565fc6c4eb"
      },
      "source": [
        "path = PRIM(G1,0)\n",
        "gs.nx2gv(G1, weighted=True, path=path)"
      ],
      "execution_count": 163,
      "outputs": [
        {
          "output_type": "execute_result",
          "data": {
            "text/plain": [
              "<graphviz.dot.Graph at 0x7fe6b1e995d0>"
            ],
            "image/svg+xml": "<?xml version=\"1.0\" encoding=\"UTF-8\" standalone=\"no\"?>\n<!DOCTYPE svg PUBLIC \"-//W3C//DTD SVG 1.1//EN\"\n \"http://www.w3.org/Graphics/SVG/1.1/DTD/svg11.dtd\">\n<!-- Generated by graphviz version 2.40.1 (20161225.0304)\n -->\n<!-- Title: G Pages: 1 -->\n<svg width=\"432pt\" height=\"57pt\"\n viewBox=\"0.00 0.00 432.00 56.86\" xmlns=\"http://www.w3.org/2000/svg\" xmlns:xlink=\"http://www.w3.org/1999/xlink\">\n<g id=\"graph0\" class=\"graph\" transform=\"scale(.272 .272) rotate(0) translate(4 205)\">\n<title>G</title>\n<polygon fill=\"#ffffff\" stroke=\"transparent\" points=\"-4,4 -4,-205 1584,-205 1584,4 -4,4\"/>\n<!-- 0 -->\n<g id=\"node1\" class=\"node\">\n<title>0</title>\n<ellipse fill=\"none\" stroke=\"#000000\" cx=\"27\" cy=\"-165\" rx=\"27\" ry=\"18\"/>\n<text text-anchor=\"middle\" x=\"27\" y=\"-161.3\" font-family=\"Times,serif\" font-size=\"14.00\" fill=\"#000000\">0</text>\n</g>\n<!-- 1 -->\n<g id=\"node2\" class=\"node\">\n<title>1</title>\n<ellipse fill=\"none\" stroke=\"#000000\" cx=\"136\" cy=\"-165\" rx=\"27\" ry=\"18\"/>\n<text text-anchor=\"middle\" x=\"136\" y=\"-161.3\" font-family=\"Times,serif\" font-size=\"14.00\" fill=\"#000000\">1</text>\n</g>\n<!-- 0&#45;&#45;1 -->\n<g id=\"edge1\" class=\"edge\">\n<title>0&#45;&#45;1</title>\n<path fill=\"none\" stroke=\"#ff4500\" stroke-width=\"3\" d=\"M54.2241,-165C70.8711,-165 92.0926,-165 108.7452,-165\"/>\n<text text-anchor=\"middle\" x=\"81.5\" y=\"-168.8\" font-family=\"Times,serif\" font-size=\"14.00\" fill=\"#000000\">3.0</text>\n</g>\n<!-- 2 -->\n<g id=\"node3\" class=\"node\">\n<title>2</title>\n<ellipse fill=\"none\" stroke=\"#000000\" cx=\"245\" cy=\"-126\" rx=\"27\" ry=\"18\"/>\n<text text-anchor=\"middle\" x=\"245\" y=\"-122.3\" font-family=\"Times,serif\" font-size=\"14.00\" fill=\"#000000\">2</text>\n</g>\n<!-- 1&#45;&#45;2 -->\n<g id=\"edge2\" class=\"edge\">\n<title>1&#45;&#45;2</title>\n<path fill=\"none\" stroke=\"#ff4500\" stroke-width=\"3\" d=\"M159.9205,-156.4413C178.0942,-149.9388 202.9754,-141.0363 221.1353,-134.5388\"/>\n<text text-anchor=\"middle\" x=\"190.5\" y=\"-151.8\" font-family=\"Times,serif\" font-size=\"14.00\" fill=\"#000000\">2.0</text>\n</g>\n<!-- 5 -->\n<g id=\"node4\" class=\"node\">\n<title>5</title>\n<ellipse fill=\"none\" stroke=\"#000000\" cx=\"354\" cy=\"-180\" rx=\"27\" ry=\"18\"/>\n<text text-anchor=\"middle\" x=\"354\" y=\"-176.3\" font-family=\"Times,serif\" font-size=\"14.00\" fill=\"#000000\">5</text>\n</g>\n<!-- 1&#45;&#45;5 -->\n<g id=\"edge3\" class=\"edge\">\n<title>1&#45;&#45;5</title>\n<path fill=\"none\" stroke=\"#ff4500\" stroke-width=\"3\" d=\"M163.1691,-166.8694C205.0578,-169.7517 284.9436,-175.2484 326.8318,-178.1306\"/>\n<text text-anchor=\"middle\" x=\"245\" y=\"-178.8\" font-family=\"Times,serif\" font-size=\"14.00\" fill=\"#000000\">5.0</text>\n</g>\n<!-- 2&#45;&#45;5 -->\n<g id=\"edge5\" class=\"edge\">\n<title>2&#45;&#45;5</title>\n<path fill=\"none\" stroke=\"#000000\" d=\"M269.2038,-134.1552C281.3943,-138.5859 296.2534,-144.4862 309,-151 317.9383,-155.5677 327.344,-161.4428 335.2318,-166.7092\"/>\n<text text-anchor=\"middle\" x=\"299.5\" y=\"-154.8\" font-family=\"Times,serif\" font-size=\"14.00\" fill=\"#000000\">7.0</text>\n</g>\n<!-- 4 -->\n<g id=\"node5\" class=\"node\">\n<title>4</title>\n<ellipse fill=\"none\" stroke=\"#000000\" cx=\"354\" cy=\"-110\" rx=\"27\" ry=\"18\"/>\n<text text-anchor=\"middle\" x=\"354\" y=\"-106.3\" font-family=\"Times,serif\" font-size=\"14.00\" fill=\"#000000\">4</text>\n</g>\n<!-- 2&#45;&#45;4 -->\n<g id=\"edge4\" class=\"edge\">\n<title>2&#45;&#45;4</title>\n<path fill=\"none\" stroke=\"#ff4500\" stroke-width=\"3\" d=\"M269.5181,-117.7911C276.0993,-115.8986 283.2608,-114.1155 290,-113 301.9617,-111.0201 315.3398,-110.1823 326.7596,-109.873\"/>\n<text text-anchor=\"middle\" x=\"299.5\" y=\"-116.8\" font-family=\"Times,serif\" font-size=\"14.00\" fill=\"#000000\">5.0</text>\n</g>\n<!-- 3 -->\n<g id=\"node6\" class=\"node\">\n<title>3</title>\n<ellipse fill=\"none\" stroke=\"#000000\" cx=\"463\" cy=\"-167\" rx=\"27\" ry=\"18\"/>\n<text text-anchor=\"middle\" x=\"463\" y=\"-163.3\" font-family=\"Times,serif\" font-size=\"14.00\" fill=\"#000000\">3</text>\n</g>\n<!-- 5&#45;&#45;3 -->\n<g id=\"edge6\" class=\"edge\">\n<title>5&#45;&#45;3</title>\n<path fill=\"none\" stroke=\"#000000\" d=\"M380.6644,-176.8198C397.5554,-174.8053 419.3225,-172.2092 436.2331,-170.1924\"/>\n<text text-anchor=\"middle\" x=\"408.5\" y=\"-178.8\" font-family=\"Times,serif\" font-size=\"14.00\" fill=\"#000000\">5.0</text>\n</g>\n<!-- 4&#45;&#45;3 -->\n<g id=\"edge9\" class=\"edge\">\n<title>4&#45;&#45;3</title>\n<path fill=\"none\" stroke=\"#ff4500\" stroke-width=\"3\" d=\"M375.2751,-121.1255C394.3572,-131.1042 422.2268,-145.6782 441.4061,-155.7078\"/>\n<text text-anchor=\"middle\" x=\"408.5\" y=\"-145.8\" font-family=\"Times,serif\" font-size=\"14.00\" fill=\"#000000\">3.0</text>\n</g>\n<!-- 7 -->\n<g id=\"node7\" class=\"node\">\n<title>7</title>\n<ellipse fill=\"none\" stroke=\"#000000\" cx=\"572\" cy=\"-110\" rx=\"27\" ry=\"18\"/>\n<text text-anchor=\"middle\" x=\"572\" y=\"-106.3\" font-family=\"Times,serif\" font-size=\"14.00\" fill=\"#000000\">7</text>\n</g>\n<!-- 4&#45;&#45;7 -->\n<g id=\"edge8\" class=\"edge\">\n<title>4&#45;&#45;7</title>\n<path fill=\"none\" stroke=\"#ff4500\" stroke-width=\"3\" d=\"M381.1691,-110C423.0578,-110 502.9436,-110 544.8318,-110\"/>\n<text text-anchor=\"middle\" x=\"463\" y=\"-113.8\" font-family=\"Times,serif\" font-size=\"14.00\" fill=\"#000000\">2.0</text>\n</g>\n<!-- 6 -->\n<g id=\"node8\" class=\"node\">\n<title>6</title>\n<ellipse fill=\"none\" stroke=\"#000000\" cx=\"463\" cy=\"-18\" rx=\"27\" ry=\"18\"/>\n<text text-anchor=\"middle\" x=\"463\" y=\"-14.3\" font-family=\"Times,serif\" font-size=\"14.00\" fill=\"#000000\">6</text>\n</g>\n<!-- 4&#45;&#45;6 -->\n<g id=\"edge7\" class=\"edge\">\n<title>4&#45;&#45;6</title>\n<path fill=\"none\" stroke=\"#ff4500\" stroke-width=\"3\" d=\"M360.0478,-92.4317C366.8609,-75.2518 379.5854,-49.6066 399,-35 409.6566,-26.9825 423.7963,-22.7404 436.0745,-20.4984\"/>\n<text text-anchor=\"middle\" x=\"408.5\" y=\"-38.8\" font-family=\"Times,serif\" font-size=\"14.00\" fill=\"#000000\">8.0</text>\n</g>\n<!-- 9 -->\n<g id=\"node9\" class=\"node\">\n<title>9</title>\n<ellipse fill=\"none\" stroke=\"#000000\" cx=\"681\" cy=\"-94\" rx=\"27\" ry=\"18\"/>\n<text text-anchor=\"middle\" x=\"681\" y=\"-90.3\" font-family=\"Times,serif\" font-size=\"14.00\" fill=\"#000000\">9</text>\n</g>\n<!-- 4&#45;&#45;9 -->\n<g id=\"edge10\" class=\"edge\">\n<title>4&#45;&#45;9</title>\n<path fill=\"none\" stroke=\"#ff4500\" stroke-width=\"3\" d=\"M379.6849,-104.1624C424.2261,-94.7138 518.7294,-77.64 599,-83 617.6312,-84.2441 638.4857,-87.0613 654.501,-89.533\"/>\n<text text-anchor=\"middle\" x=\"517.5\" y=\"-88.8\" font-family=\"Times,serif\" font-size=\"14.00\" fill=\"#000000\">5.0</text>\n</g>\n<!-- 3&#45;&#45;7 -->\n<g id=\"edge11\" class=\"edge\">\n<title>3&#45;&#45;7</title>\n<path fill=\"none\" stroke=\"#000000\" d=\"M484.2751,-155.8745C503.3572,-145.8958 531.2268,-131.3218 550.4061,-121.2922\"/>\n<text text-anchor=\"middle\" x=\"517.5\" y=\"-145.8\" font-family=\"Times,serif\" font-size=\"14.00\" fill=\"#000000\">8.0</text>\n</g>\n<!-- 8 -->\n<g id=\"node10\" class=\"node\">\n<title>8</title>\n<ellipse fill=\"none\" stroke=\"#000000\" cx=\"681\" cy=\"-173\" rx=\"27\" ry=\"18\"/>\n<text text-anchor=\"middle\" x=\"681\" y=\"-169.3\" font-family=\"Times,serif\" font-size=\"14.00\" fill=\"#000000\">8</text>\n</g>\n<!-- 3&#45;&#45;8 -->\n<g id=\"edge12\" class=\"edge\">\n<title>3&#45;&#45;8</title>\n<path fill=\"none\" stroke=\"#ff4500\" stroke-width=\"3\" d=\"M490.1691,-167.7478C532.0578,-168.9007 611.9436,-171.0994 653.8318,-172.2523\"/>\n<text text-anchor=\"middle\" x=\"572\" y=\"-174.8\" font-family=\"Times,serif\" font-size=\"14.00\" fill=\"#000000\">5.0</text>\n</g>\n<!-- 7&#45;&#45;9 -->\n<g id=\"edge13\" class=\"edge\">\n<title>7&#45;&#45;9</title>\n<path fill=\"none\" stroke=\"#000000\" d=\"M598.3859,-106.1268C615.3974,-103.6297 637.4413,-100.3939 654.4793,-97.8929\"/>\n<text text-anchor=\"middle\" x=\"626.5\" y=\"-106.8\" font-family=\"Times,serif\" font-size=\"14.00\" fill=\"#000000\">5.0</text>\n</g>\n<!-- 10 -->\n<g id=\"node11\" class=\"node\">\n<title>10</title>\n<ellipse fill=\"none\" stroke=\"#000000\" cx=\"790\" cy=\"-129\" rx=\"27\" ry=\"18\"/>\n<text text-anchor=\"middle\" x=\"790\" y=\"-125.3\" font-family=\"Times,serif\" font-size=\"14.00\" fill=\"#000000\">10</text>\n</g>\n<!-- 9&#45;&#45;10 -->\n<g id=\"edge14\" class=\"edge\">\n<title>9&#45;&#45;10</title>\n<path fill=\"none\" stroke=\"#000000\" d=\"M705.4617,-101.8547C723.4132,-107.6189 747.6877,-115.4135 765.6199,-121.1715\"/>\n<text text-anchor=\"middle\" x=\"735.5\" y=\"-117.8\" font-family=\"Times,serif\" font-size=\"14.00\" fill=\"#000000\">5.0</text>\n</g>\n<!-- 11 -->\n<g id=\"node12\" class=\"node\">\n<title>11</title>\n<ellipse fill=\"none\" stroke=\"#000000\" cx=\"790\" cy=\"-74\" rx=\"27\" ry=\"18\"/>\n<text text-anchor=\"middle\" x=\"790\" y=\"-70.3\" font-family=\"Times,serif\" font-size=\"14.00\" fill=\"#000000\">11</text>\n</g>\n<!-- 9&#45;&#45;11 -->\n<g id=\"edge15\" class=\"edge\">\n<title>9&#45;&#45;11</title>\n<path fill=\"none\" stroke=\"#000000\" d=\"M702.9526,-83.4408C710.1338,-80.4732 718.2576,-77.6169 726,-76 737.97,-73.5003 751.4696,-72.7795 762.9744,-72.7704\"/>\n<text text-anchor=\"middle\" x=\"735.5\" y=\"-79.8\" font-family=\"Times,serif\" font-size=\"14.00\" fill=\"#000000\">5.0</text>\n</g>\n<!-- 8&#45;&#45;10 -->\n<g id=\"edge16\" class=\"edge\">\n<title>8&#45;&#45;10</title>\n<path fill=\"none\" stroke=\"#ff4500\" stroke-width=\"3\" d=\"M703.8428,-163.2139C710.9274,-160.2169 718.772,-156.937 726,-154 739.372,-148.5665 754.4011,-142.6842 766.5335,-137.9913\"/>\n<text text-anchor=\"middle\" x=\"735.5\" y=\"-157.8\" font-family=\"Times,serif\" font-size=\"14.00\" fill=\"#000000\">3.0</text>\n</g>\n<!-- 12 -->\n<g id=\"node13\" class=\"node\">\n<title>12</title>\n<ellipse fill=\"none\" stroke=\"#000000\" cx=\"899\" cy=\"-182\" rx=\"27\" ry=\"18\"/>\n<text text-anchor=\"middle\" x=\"899\" y=\"-178.3\" font-family=\"Times,serif\" font-size=\"14.00\" fill=\"#000000\">12</text>\n</g>\n<!-- 8&#45;&#45;12 -->\n<g id=\"edge17\" class=\"edge\">\n<title>8&#45;&#45;12</title>\n<path fill=\"none\" stroke=\"#ff4500\" stroke-width=\"3\" d=\"M708.1691,-174.1217C750.0578,-175.851 829.9436,-179.149 871.8318,-180.8784\"/>\n<text text-anchor=\"middle\" x=\"790\" y=\"-182.8\" font-family=\"Times,serif\" font-size=\"14.00\" fill=\"#000000\">3.0</text>\n</g>\n<!-- 10&#45;&#45;12 -->\n<g id=\"edge18\" class=\"edge\">\n<title>10&#45;&#45;12</title>\n<path fill=\"none\" stroke=\"#000000\" d=\"M814.1604,-137.241C826.3398,-141.6935 841.2022,-147.5875 854,-154 862.7201,-158.3693 871.934,-163.9208 879.7377,-168.9264\"/>\n<text text-anchor=\"middle\" x=\"844.5\" y=\"-157.8\" font-family=\"Times,serif\" font-size=\"14.00\" fill=\"#000000\">4.0</text>\n</g>\n<!-- 13 -->\n<g id=\"node14\" class=\"node\">\n<title>13</title>\n<ellipse fill=\"none\" stroke=\"#000000\" cx=\"899\" cy=\"-125\" rx=\"27\" ry=\"18\"/>\n<text text-anchor=\"middle\" x=\"899\" y=\"-121.3\" font-family=\"Times,serif\" font-size=\"14.00\" fill=\"#000000\">13</text>\n</g>\n<!-- 10&#45;&#45;13 -->\n<g id=\"edge19\" class=\"edge\">\n<title>10&#45;&#45;13</title>\n<path fill=\"none\" stroke=\"#ff4500\" stroke-width=\"3\" d=\"M814.0161,-120.7123C820.725,-118.7689 828.0755,-116.9802 835,-116 847.7761,-114.1915 861.9888,-115.824 873.7691,-118.171\"/>\n<text text-anchor=\"middle\" x=\"844.5\" y=\"-119.8\" font-family=\"Times,serif\" font-size=\"14.00\" fill=\"#000000\">2.0</text>\n</g>\n<!-- 14 -->\n<g id=\"node15\" class=\"node\">\n<title>14</title>\n<ellipse fill=\"none\" stroke=\"#000000\" cx=\"1008\" cy=\"-107\" rx=\"27\" ry=\"18\"/>\n<text text-anchor=\"middle\" x=\"1008\" y=\"-103.3\" font-family=\"Times,serif\" font-size=\"14.00\" fill=\"#000000\">14</text>\n</g>\n<!-- 11&#45;&#45;14 -->\n<g id=\"edge20\" class=\"edge\">\n<title>11&#45;&#45;14</title>\n<path fill=\"none\" stroke=\"#ff4500\" stroke-width=\"3\" d=\"M817.0456,-74.056C844.6415,-74.5176 888.604,-76.3724 926,-83 945.8638,-86.5204 967.7649,-93.0738 983.9326,-98.4441\"/>\n<text text-anchor=\"middle\" x=\"899\" y=\"-86.8\" font-family=\"Times,serif\" font-size=\"14.00\" fill=\"#000000\">3.0</text>\n</g>\n<!-- 15 -->\n<g id=\"node16\" class=\"node\">\n<title>15</title>\n<ellipse fill=\"none\" stroke=\"#000000\" cx=\"899\" cy=\"-20\" rx=\"27\" ry=\"18\"/>\n<text text-anchor=\"middle\" x=\"899\" y=\"-16.3\" font-family=\"Times,serif\" font-size=\"14.00\" fill=\"#000000\">15</text>\n</g>\n<!-- 11&#45;&#45;15 -->\n<g id=\"edge21\" class=\"edge\">\n<title>11&#45;&#45;15</title>\n<path fill=\"none\" stroke=\"#ff4500\" stroke-width=\"3\" d=\"M808.7682,-60.7092C816.656,-55.4428 826.0617,-49.5677 835,-45 847.7466,-38.4862 862.6057,-32.5859 874.7962,-28.1552\"/>\n<text text-anchor=\"middle\" x=\"844.5\" y=\"-48.8\" font-family=\"Times,serif\" font-size=\"14.00\" fill=\"#000000\">3.0</text>\n</g>\n<!-- 12&#45;&#45;14 -->\n<g id=\"edge22\" class=\"edge\">\n<title>12&#45;&#45;14</title>\n<path fill=\"none\" stroke=\"#000000\" d=\"M917.9864,-168.936C937.8706,-155.2542 968.926,-133.8858 988.8655,-120.1659\"/>\n<text text-anchor=\"middle\" x=\"953.5\" y=\"-152.8\" font-family=\"Times,serif\" font-size=\"14.00\" fill=\"#000000\">7.0</text>\n</g>\n<!-- 16 -->\n<g id=\"node17\" class=\"node\">\n<title>16</title>\n<ellipse fill=\"none\" stroke=\"#000000\" cx=\"1008\" cy=\"-183\" rx=\"27\" ry=\"18\"/>\n<text text-anchor=\"middle\" x=\"1008\" y=\"-179.3\" font-family=\"Times,serif\" font-size=\"14.00\" fill=\"#000000\">16</text>\n</g>\n<!-- 12&#45;&#45;16 -->\n<g id=\"edge23\" class=\"edge\">\n<title>12&#45;&#45;16</title>\n<path fill=\"none\" stroke=\"#ff4500\" stroke-width=\"3\" d=\"M926.2241,-182.2498C942.8711,-182.4025 964.0926,-182.5972 980.7452,-182.75\"/>\n<text text-anchor=\"middle\" x=\"953.5\" y=\"-186.8\" font-family=\"Times,serif\" font-size=\"14.00\" fill=\"#000000\">4.0</text>\n</g>\n<!-- 13&#45;&#45;14 -->\n<g id=\"edge24\" class=\"edge\">\n<title>13&#45;&#45;14</title>\n<path fill=\"none\" stroke=\"#000000\" d=\"M921.4496,-114.7804C928.5182,-112.0394 936.4527,-109.4391 944,-108 956.0074,-105.7105 969.5123,-105.2039 981.0109,-105.3707\"/>\n<text text-anchor=\"middle\" x=\"953.5\" y=\"-111.8\" font-family=\"Times,serif\" font-size=\"14.00\" fill=\"#000000\">5.0</text>\n</g>\n<!-- 19 -->\n<g id=\"node20\" class=\"node\">\n<title>19</title>\n<ellipse fill=\"none\" stroke=\"#000000\" cx=\"1117\" cy=\"-107\" rx=\"27\" ry=\"18\"/>\n<text text-anchor=\"middle\" x=\"1117\" y=\"-103.3\" font-family=\"Times,serif\" font-size=\"14.00\" fill=\"#000000\">19</text>\n</g>\n<!-- 14&#45;&#45;19 -->\n<g id=\"edge25\" class=\"edge\">\n<title>14&#45;&#45;19</title>\n<path fill=\"none\" stroke=\"#000000\" d=\"M1035.2241,-107C1051.8711,-107 1073.0926,-107 1089.7452,-107\"/>\n<text text-anchor=\"middle\" x=\"1062.5\" y=\"-110.8\" font-family=\"Times,serif\" font-size=\"14.00\" fill=\"#000000\">5.0</text>\n</g>\n<!-- 17 -->\n<g id=\"node18\" class=\"node\">\n<title>17</title>\n<ellipse fill=\"none\" stroke=\"#000000\" cx=\"1008\" cy=\"-21\" rx=\"27\" ry=\"18\"/>\n<text text-anchor=\"middle\" x=\"1008\" y=\"-17.3\" font-family=\"Times,serif\" font-size=\"14.00\" fill=\"#000000\">17</text>\n</g>\n<!-- 15&#45;&#45;17 -->\n<g id=\"edge26\" class=\"edge\">\n<title>15&#45;&#45;17</title>\n<path fill=\"none\" stroke=\"#ff4500\" stroke-width=\"3\" d=\"M926.2241,-20.2498C942.8711,-20.4025 964.0926,-20.5972 980.7452,-20.75\"/>\n<text text-anchor=\"middle\" x=\"953.5\" y=\"-24.8\" font-family=\"Times,serif\" font-size=\"14.00\" fill=\"#000000\">3.0</text>\n</g>\n<!-- 18 -->\n<g id=\"node19\" class=\"node\">\n<title>18</title>\n<ellipse fill=\"none\" stroke=\"#000000\" cx=\"1117\" cy=\"-183\" rx=\"27\" ry=\"18\"/>\n<text text-anchor=\"middle\" x=\"1117\" y=\"-179.3\" font-family=\"Times,serif\" font-size=\"14.00\" fill=\"#000000\">18</text>\n</g>\n<!-- 16&#45;&#45;18 -->\n<g id=\"edge27\" class=\"edge\">\n<title>16&#45;&#45;18</title>\n<path fill=\"none\" stroke=\"#000000\" d=\"M1035.2241,-183C1051.8711,-183 1073.0926,-183 1089.7452,-183\"/>\n<text text-anchor=\"middle\" x=\"1062.5\" y=\"-186.8\" font-family=\"Times,serif\" font-size=\"14.00\" fill=\"#000000\">5.0</text>\n</g>\n<!-- 16&#45;&#45;19 -->\n<g id=\"edge28\" class=\"edge\">\n<title>16&#45;&#45;19</title>\n<path fill=\"none\" stroke=\"#ff4500\" stroke-width=\"3\" d=\"M1026.9864,-169.7618C1046.9926,-155.8125 1078.3075,-133.9783 1098.2312,-120.0865\"/>\n<text text-anchor=\"middle\" x=\"1062.5\" y=\"-153.8\" font-family=\"Times,serif\" font-size=\"14.00\" fill=\"#000000\">2.0</text>\n</g>\n<!-- 21 -->\n<g id=\"node22\" class=\"node\">\n<title>21</title>\n<ellipse fill=\"none\" stroke=\"#000000\" cx=\"1117\" cy=\"-29\" rx=\"27\" ry=\"18\"/>\n<text text-anchor=\"middle\" x=\"1117\" y=\"-25.3\" font-family=\"Times,serif\" font-size=\"14.00\" fill=\"#000000\">21</text>\n</g>\n<!-- 17&#45;&#45;21 -->\n<g id=\"edge29\" class=\"edge\">\n<title>17&#45;&#45;21</title>\n<path fill=\"none\" stroke=\"#ff4500\" stroke-width=\"3\" d=\"M1034.9438,-22.9775C1051.7133,-24.2083 1073.2062,-25.7858 1089.9884,-27.0175\"/>\n<text text-anchor=\"middle\" x=\"1062.5\" y=\"-29.8\" font-family=\"Times,serif\" font-size=\"14.00\" fill=\"#000000\">2.0</text>\n</g>\n<!-- 20 -->\n<g id=\"node21\" class=\"node\">\n<title>20</title>\n<ellipse fill=\"none\" stroke=\"#000000\" cx=\"1226\" cy=\"-183\" rx=\"27\" ry=\"18\"/>\n<text text-anchor=\"middle\" x=\"1226\" y=\"-179.3\" font-family=\"Times,serif\" font-size=\"14.00\" fill=\"#000000\">20</text>\n</g>\n<!-- 18&#45;&#45;20 -->\n<g id=\"edge30\" class=\"edge\">\n<title>18&#45;&#45;20</title>\n<path fill=\"none\" stroke=\"#ff4500\" stroke-width=\"3\" d=\"M1144.2241,-183C1160.8711,-183 1182.0926,-183 1198.7452,-183\"/>\n<text text-anchor=\"middle\" x=\"1171.5\" y=\"-186.8\" font-family=\"Times,serif\" font-size=\"14.00\" fill=\"#000000\">3.0</text>\n</g>\n<!-- 23 -->\n<g id=\"node24\" class=\"node\">\n<title>23</title>\n<ellipse fill=\"none\" stroke=\"#000000\" cx=\"1226\" cy=\"-107\" rx=\"27\" ry=\"18\"/>\n<text text-anchor=\"middle\" x=\"1226\" y=\"-103.3\" font-family=\"Times,serif\" font-size=\"14.00\" fill=\"#000000\">23</text>\n</g>\n<!-- 19&#45;&#45;23 -->\n<g id=\"edge31\" class=\"edge\">\n<title>19&#45;&#45;23</title>\n<path fill=\"none\" stroke=\"#ff4500\" stroke-width=\"3\" d=\"M1144.2241,-107C1160.8711,-107 1182.0926,-107 1198.7452,-107\"/>\n<text text-anchor=\"middle\" x=\"1171.5\" y=\"-110.8\" font-family=\"Times,serif\" font-size=\"14.00\" fill=\"#000000\">4.0</text>\n</g>\n<!-- 22 -->\n<g id=\"node23\" class=\"node\">\n<title>22</title>\n<ellipse fill=\"none\" stroke=\"#000000\" cx=\"1335\" cy=\"-183\" rx=\"27\" ry=\"18\"/>\n<text text-anchor=\"middle\" x=\"1335\" y=\"-179.3\" font-family=\"Times,serif\" font-size=\"14.00\" fill=\"#000000\">22</text>\n</g>\n<!-- 20&#45;&#45;22 -->\n<g id=\"edge32\" class=\"edge\">\n<title>20&#45;&#45;22</title>\n<path fill=\"none\" stroke=\"#ff4500\" stroke-width=\"3\" d=\"M1253.2241,-183C1269.8711,-183 1291.0926,-183 1307.7452,-183\"/>\n<text text-anchor=\"middle\" x=\"1280.5\" y=\"-186.8\" font-family=\"Times,serif\" font-size=\"14.00\" fill=\"#000000\">3.0</text>\n</g>\n<!-- 21&#45;&#45;23 -->\n<g id=\"edge33\" class=\"edge\">\n<title>21&#45;&#45;23</title>\n<path fill=\"none\" stroke=\"#ff4500\" stroke-width=\"3\" d=\"M1135.4904,-42.2316C1155.5341,-56.5749 1187.3398,-79.3349 1207.4189,-93.7035\"/>\n<text text-anchor=\"middle\" x=\"1171.5\" y=\"-76.8\" font-family=\"Times,serif\" font-size=\"14.00\" fill=\"#000000\">1.0</text>\n</g>\n<!-- 24 -->\n<g id=\"node25\" class=\"node\">\n<title>24</title>\n<ellipse fill=\"none\" stroke=\"#000000\" cx=\"1226\" cy=\"-29\" rx=\"27\" ry=\"18\"/>\n<text text-anchor=\"middle\" x=\"1226\" y=\"-25.3\" font-family=\"Times,serif\" font-size=\"14.00\" fill=\"#000000\">24</text>\n</g>\n<!-- 21&#45;&#45;24 -->\n<g id=\"edge34\" class=\"edge\">\n<title>21&#45;&#45;24</title>\n<path fill=\"none\" stroke=\"#ff4500\" stroke-width=\"3\" d=\"M1144.2241,-29C1160.8711,-29 1182.0926,-29 1198.7452,-29\"/>\n<text text-anchor=\"middle\" x=\"1171.5\" y=\"-32.8\" font-family=\"Times,serif\" font-size=\"14.00\" fill=\"#000000\">3.0</text>\n</g>\n<!-- 26 -->\n<g id=\"node27\" class=\"node\">\n<title>26</title>\n<ellipse fill=\"none\" stroke=\"#000000\" cx=\"1444\" cy=\"-174\" rx=\"27\" ry=\"18\"/>\n<text text-anchor=\"middle\" x=\"1444\" y=\"-170.3\" font-family=\"Times,serif\" font-size=\"14.00\" fill=\"#000000\">26</text>\n</g>\n<!-- 22&#45;&#45;26 -->\n<g id=\"edge35\" class=\"edge\">\n<title>22&#45;&#45;26</title>\n<path fill=\"none\" stroke=\"#ff4500\" stroke-width=\"3\" d=\"M1361.9438,-180.7753C1378.7133,-179.3906 1400.2062,-177.616 1416.9884,-176.2303\"/>\n<text text-anchor=\"middle\" x=\"1389.5\" y=\"-183.8\" font-family=\"Times,serif\" font-size=\"14.00\" fill=\"#000000\">3.0</text>\n</g>\n<!-- 25 -->\n<g id=\"node26\" class=\"node\">\n<title>25</title>\n<ellipse fill=\"none\" stroke=\"#000000\" cx=\"1335\" cy=\"-107\" rx=\"27\" ry=\"18\"/>\n<text text-anchor=\"middle\" x=\"1335\" y=\"-103.3\" font-family=\"Times,serif\" font-size=\"14.00\" fill=\"#000000\">25</text>\n</g>\n<!-- 23&#45;&#45;25 -->\n<g id=\"edge36\" class=\"edge\">\n<title>23&#45;&#45;25</title>\n<path fill=\"none\" stroke=\"#ff4500\" stroke-width=\"3\" d=\"M1253.2241,-107C1269.8711,-107 1291.0926,-107 1307.7452,-107\"/>\n<text text-anchor=\"middle\" x=\"1280.5\" y=\"-110.8\" font-family=\"Times,serif\" font-size=\"14.00\" fill=\"#000000\">4.0</text>\n</g>\n<!-- 25&#45;&#45;26 -->\n<g id=\"edge37\" class=\"edge\">\n<title>25&#45;&#45;26</title>\n<path fill=\"none\" stroke=\"#ff4500\" stroke-width=\"3\" d=\"M1354.9923,-119.2888C1374.6594,-131.3778 1404.5113,-149.7271 1424.1345,-161.7891\"/>\n<text text-anchor=\"middle\" x=\"1389.5\" y=\"-148.8\" font-family=\"Times,serif\" font-size=\"14.00\" fill=\"#000000\">1.0</text>\n</g>\n<!-- 27 -->\n<g id=\"node28\" class=\"node\">\n<title>27</title>\n<ellipse fill=\"none\" stroke=\"#000000\" cx=\"1444\" cy=\"-111\" rx=\"27\" ry=\"18\"/>\n<text text-anchor=\"middle\" x=\"1444\" y=\"-107.3\" font-family=\"Times,serif\" font-size=\"14.00\" fill=\"#000000\">27</text>\n</g>\n<!-- 25&#45;&#45;27 -->\n<g id=\"edge38\" class=\"edge\">\n<title>25&#45;&#45;27</title>\n<path fill=\"none\" stroke=\"#ff4500\" stroke-width=\"3\" d=\"M1362.1012,-107.1183C1373.4987,-107.2472 1386.8976,-107.5024 1399,-108 1404.7892,-108.238 1410.9916,-108.5891 1416.8846,-108.968\"/>\n<text text-anchor=\"middle\" x=\"1389.5\" y=\"-111.8\" font-family=\"Times,serif\" font-size=\"14.00\" fill=\"#000000\">6.0</text>\n</g>\n<!-- 28 -->\n<g id=\"node29\" class=\"node\">\n<title>28</title>\n<ellipse fill=\"none\" stroke=\"#000000\" cx=\"1444\" cy=\"-57\" rx=\"27\" ry=\"18\"/>\n<text text-anchor=\"middle\" x=\"1444\" y=\"-53.3\" font-family=\"Times,serif\" font-size=\"14.00\" fill=\"#000000\">28</text>\n</g>\n<!-- 25&#45;&#45;28 -->\n<g id=\"edge39\" class=\"edge\">\n<title>25&#45;&#45;28</title>\n<path fill=\"none\" stroke=\"#ff4500\" stroke-width=\"3\" d=\"M1357.3208,-96.7611C1376.1306,-88.1328 1402.9077,-75.8497 1421.709,-67.2252\"/>\n<text text-anchor=\"middle\" x=\"1389.5\" y=\"-88.8\" font-family=\"Times,serif\" font-size=\"14.00\" fill=\"#000000\">3.0</text>\n</g>\n<!-- 29 -->\n<g id=\"node30\" class=\"node\">\n<title>29</title>\n<ellipse fill=\"none\" stroke=\"#000000\" cx=\"1553\" cy=\"-111\" rx=\"27\" ry=\"18\"/>\n<text text-anchor=\"middle\" x=\"1553\" y=\"-107.3\" font-family=\"Times,serif\" font-size=\"14.00\" fill=\"#000000\">29</text>\n</g>\n<!-- 27&#45;&#45;29 -->\n<g id=\"edge40\" class=\"edge\">\n<title>27&#45;&#45;29</title>\n<path fill=\"none\" stroke=\"#ff4500\" stroke-width=\"3\" d=\"M1471.2241,-111C1487.8711,-111 1509.0926,-111 1525.7452,-111\"/>\n<text text-anchor=\"middle\" x=\"1498.5\" y=\"-114.8\" font-family=\"Times,serif\" font-size=\"14.00\" fill=\"#000000\">4.0</text>\n</g>\n<!-- 30 -->\n<g id=\"node31\" class=\"node\">\n<title>30</title>\n<ellipse fill=\"none\" stroke=\"#000000\" cx=\"1553\" cy=\"-57\" rx=\"27\" ry=\"18\"/>\n<text text-anchor=\"middle\" x=\"1553\" y=\"-53.3\" font-family=\"Times,serif\" font-size=\"14.00\" fill=\"#000000\">30</text>\n</g>\n<!-- 28&#45;&#45;30 -->\n<g id=\"edge41\" class=\"edge\">\n<title>28&#45;&#45;30</title>\n<path fill=\"none\" stroke=\"#ff4500\" stroke-width=\"3\" d=\"M1471.2241,-57C1487.8711,-57 1509.0926,-57 1525.7452,-57\"/>\n<text text-anchor=\"middle\" x=\"1498.5\" y=\"-60.8\" font-family=\"Times,serif\" font-size=\"14.00\" fill=\"#000000\">1.0</text>\n</g>\n</g>\n</svg>\n"
          },
          "metadata": {
            "tags": []
          },
          "execution_count": 163
        }
      ]
    },
    {
      "cell_type": "code",
      "metadata": {
        "colab": {
          "base_uri": "https://localhost:8080/"
        },
        "id": "pP4BW4oIQM-a",
        "outputId": "4756c69d-ec46-4f12-b3f0-08835af089c1"
      },
      "source": [
        "%timeit PRIM(G1,0)"
      ],
      "execution_count": 168,
      "outputs": [
        {
          "output_type": "stream",
          "text": [
            "1000 loops, best of 5: 353 µs per loop\n"
          ],
          "name": "stdout"
        }
      ]
    },
    {
      "cell_type": "code",
      "metadata": {
        "colab": {
          "base_uri": "https://localhost:8080/"
        },
        "id": "EQ6oA-_KSmE_",
        "outputId": "2fa0aa6b-cde5-4bc1-bc1b-a82496147612"
      },
      "source": [
        "%timeit KRUSKAL(G1)"
      ],
      "execution_count": 169,
      "outputs": [
        {
          "output_type": "stream",
          "text": [
            "10000 loops, best of 5: 184 µs per loop\n"
          ],
          "name": "stdout"
        }
      ]
    },
    {
      "cell_type": "markdown",
      "metadata": {
        "id": "f5DxnWVESwMC"
      },
      "source": [
        "Como se muestra ene stos casos o para este caso en particular el algoritmo de KRUSKAL e smas optimo que el algoritmo de prim."
      ]
    },
    {
      "cell_type": "markdown",
      "metadata": {
        "id": "yscCnxZIRZ1c"
      },
      "source": [
        ""
      ]
    }
  ]
}