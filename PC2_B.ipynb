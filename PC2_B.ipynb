{
  "nbformat": 4,
  "nbformat_minor": 0,
  "metadata": {
    "colab": {
      "name": "PC2-B.ipynb",
      "provenance": [],
      "authorship_tag": "ABX9TyN6jRehT14M6/+MXTSQh9+h",
      "include_colab_link": true
    },
    "kernelspec": {
      "name": "python3",
      "display_name": "Python 3"
    },
    "language_info": {
      "name": "python"
    }
  },
  "cells": [
    {
      "cell_type": "markdown",
      "metadata": {
        "id": "view-in-github",
        "colab_type": "text"
      },
      "source": [
        "<a href=\"https://colab.research.google.com/github/RZDN/Complejidad_Algoritmica_RZD/blob/main/PC2_B.ipynb\" target=\"_parent\"><img src=\"https://colab.research.google.com/assets/colab-badge.svg\" alt=\"Open In Colab\"/></a>"
      ]
    },
    {
      "cell_type": "code",
      "metadata": {
        "colab": {
          "base_uri": "https://localhost:8080/"
        },
        "id": "11LJr27x_iJ_",
        "outputId": "992dbe9a-3337-4957-d731-b5234d64b06d"
      },
      "source": [
        "!git clone https://github.com/lmcanavals/algorithmic_complexity.git\n",
        "from algorithmic_complexity.aclib import graphstuff as gs\n",
        "import networkx as nx\n",
        "import math\n",
        "import heapq as hq"
      ],
      "execution_count": 20,
      "outputs": [
        {
          "output_type": "stream",
          "text": [
            "fatal: destination path 'algorithmic_complexity' already exists and is not an empty directory.\n"
          ],
          "name": "stdout"
        }
      ]
    },
    {
      "cell_type": "code",
      "metadata": {
        "id": "56gP4_68AHlB"
      },
      "source": [
        "def PRIM(G, nombre):\n",
        "    for u in G.nodes:\n",
        "      G.nodes[u]['visited']= False\n",
        "      G.nodes[u]['path'] = -1\n",
        "      G.nodes[u]['cost'] = -1.0\n",
        "\n",
        "    G.nodes[nombre]['cost'] = 0.0\n",
        "    cola = [(0,nombre)]\n",
        "    \n",
        "    menor = 0\n",
        "    while cola:\n",
        "      _, n = hq.heappop(cola)\n",
        "      if not G.nodes[n]['visited']:\n",
        "\n",
        "        G.nodes[n]['visited'] = True\n",
        "\n",
        "      for v in G.neighbors(n):\n",
        "\n",
        "        if not G.nodes[v]['visited']:\n",
        "          costo = G.edges[n, v]['weight']\n",
        "\n",
        "          if G.nodes[v]['cost'] != -1 and costo < G.nodes[v]['cost']:\n",
        "            G.nodes[v]['cost'] = costo      \n",
        "            G.nodes[v]['path'] = n   \n",
        "            hq.heappush(cola,(costo,v))  \n",
        "\n",
        "          elif G.nodes[v]['cost'] == -1:\n",
        "            G.nodes[v]['cost'] = costo \n",
        "            G.nodes[v]['path'] = n\n",
        "            hq.heappush(cola,(costo,v))      \n",
        "      \n",
        "            \n",
        "              \n",
        "    P = nx.Graph()      \n",
        "    path = [0]*G.number_of_nodes()\n",
        "    prueba =[()]\n",
        "    suma = 0\n",
        "    for v, info in G.nodes.data():\n",
        "      hq.heappush(prueba,(v,info['visited'], info['cost'], info['path']))\n",
        "      P.add_edge(v,info['path'], weight = info['cost'])\n",
        "      suma += info['cost']\n",
        "   \n",
        "    return suma"
      ],
      "execution_count": 26,
      "outputs": []
    },
    {
      "cell_type": "code",
      "metadata": {
        "colab": {
          "base_uri": "https://localhost:8080/"
        },
        "id": "ZVQuQ1Q5-7l9",
        "outputId": "1b35e03f-6e14-4ad2-ace5-42833d6bb14e"
      },
      "source": [
        "%%file 1.in\n",
        "1 3 75\n",
        "3 4 51\n",
        "2 4 19\n",
        "3 2 95\n",
        "2 5 42\n",
        "5 4 31\n",
        "1 2 9\n",
        "3 5 66"
      ],
      "execution_count": 13,
      "outputs": [
        {
          "output_type": "stream",
          "text": [
            "Writing 1.in\n"
          ],
          "name": "stdout"
        }
      ]
    },
    {
      "cell_type": "code",
      "metadata": {
        "id": "IMOuO_4mC0W_"
      },
      "source": [
        ""
      ],
      "execution_count": null,
      "outputs": []
    },
    {
      "cell_type": "code",
      "metadata": {
        "colab": {
          "base_uri": "https://localhost:8080/",
          "height": 193
        },
        "id": "KPrsdEPS_yDq",
        "outputId": "48aa690c-5110-4ec3-9902-ae9868349f09"
      },
      "source": [
        "G = nx.read_weighted_edgelist('1.in', nodetype=int)\n",
        "gs.nx2gv(G, weighted=True)"
      ],
      "execution_count": 36,
      "outputs": [
        {
          "output_type": "execute_result",
          "data": {
            "text/plain": [
              "<graphviz.dot.Graph at 0x7fd889323950>"
            ],
            "image/svg+xml": "<?xml version=\"1.0\" encoding=\"UTF-8\" standalone=\"no\"?>\n<!DOCTYPE svg PUBLIC \"-//W3C//DTD SVG 1.1//EN\"\n \"http://www.w3.org/Graphics/SVG/1.1/DTD/svg11.dtd\">\n<!-- Generated by graphviz version 2.40.1 (20161225.0304)\n -->\n<!-- Title: G Pages: 1 -->\n<svg width=\"432pt\" height=\"130pt\"\n viewBox=\"0.00 0.00 432.00 129.60\" xmlns=\"http://www.w3.org/2000/svg\" xmlns:xlink=\"http://www.w3.org/1999/xlink\">\n<g id=\"graph0\" class=\"graph\" transform=\"scale(.8151 .8151) rotate(0) translate(4 155)\">\n<title>G</title>\n<polygon fill=\"#ffffff\" stroke=\"transparent\" points=\"-4,4 -4,-155 526,-155 526,4 -4,4\"/>\n<!-- 1 -->\n<g id=\"node1\" class=\"node\">\n<title>1</title>\n<ellipse fill=\"none\" stroke=\"#000000\" cx=\"27\" cy=\"-18\" rx=\"27\" ry=\"18\"/>\n<text text-anchor=\"middle\" x=\"27\" y=\"-14.3\" font-family=\"Times,serif\" font-size=\"14.00\" fill=\"#000000\">1</text>\n</g>\n<!-- 3 -->\n<g id=\"node2\" class=\"node\">\n<title>3</title>\n<ellipse fill=\"none\" stroke=\"#000000\" cx=\"144\" cy=\"-73\" rx=\"27\" ry=\"18\"/>\n<text text-anchor=\"middle\" x=\"144\" y=\"-69.3\" font-family=\"Times,serif\" font-size=\"14.00\" fill=\"#000000\">3</text>\n</g>\n<!-- 1&#45;&#45;3 -->\n<g id=\"edge1\" class=\"edge\">\n<title>1&#45;&#45;3</title>\n<path fill=\"none\" stroke=\"#000000\" d=\"M49.2822,-28.4745C70.1009,-38.2611 101.0089,-52.7905 121.8008,-62.5645\"/>\n<text text-anchor=\"middle\" x=\"85.5\" y=\"-53.8\" font-family=\"Times,serif\" font-size=\"14.00\" fill=\"#000000\">75.0</text>\n</g>\n<!-- 2 -->\n<g id=\"node4\" class=\"node\">\n<title>2</title>\n<ellipse fill=\"none\" stroke=\"#000000\" cx=\"378\" cy=\"-53\" rx=\"27\" ry=\"18\"/>\n<text text-anchor=\"middle\" x=\"378\" y=\"-49.3\" font-family=\"Times,serif\" font-size=\"14.00\" fill=\"#000000\">2</text>\n</g>\n<!-- 1&#45;&#45;2 -->\n<g id=\"edge2\" class=\"edge\">\n<title>1&#45;&#45;2</title>\n<path fill=\"none\" stroke=\"#000000\" d=\"M54.0279,-20.5314C107.3822,-25.5548 230.005,-37.2297 333,-48 338.9416,-48.6213 345.3215,-49.3144 351.3557,-49.9819\"/>\n<text text-anchor=\"middle\" x=\"202.5\" y=\"-38.8\" font-family=\"Times,serif\" font-size=\"14.00\" fill=\"#000000\">9.0</text>\n</g>\n<!-- 4 -->\n<g id=\"node3\" class=\"node\">\n<title>4</title>\n<ellipse fill=\"none\" stroke=\"#000000\" cx=\"261\" cy=\"-99\" rx=\"27\" ry=\"18\"/>\n<text text-anchor=\"middle\" x=\"261\" y=\"-95.3\" font-family=\"Times,serif\" font-size=\"14.00\" fill=\"#000000\">4</text>\n</g>\n<!-- 3&#45;&#45;4 -->\n<g id=\"edge3\" class=\"edge\">\n<title>3&#45;&#45;4</title>\n<path fill=\"none\" stroke=\"#000000\" d=\"M169.6761,-78.7058C189.1837,-83.0408 215.891,-88.9758 235.3837,-93.3075\"/>\n<text text-anchor=\"middle\" x=\"202.5\" y=\"-91.8\" font-family=\"Times,serif\" font-size=\"14.00\" fill=\"#000000\">51.0</text>\n</g>\n<!-- 3&#45;&#45;2 -->\n<g id=\"edge4\" class=\"edge\">\n<title>3&#45;&#45;2</title>\n<path fill=\"none\" stroke=\"#000000\" d=\"M169.8504,-67.355C187.7621,-63.7023 212.2129,-59.2268 234,-57 274.5544,-52.855 321.8445,-52.3667 350.8516,-52.559\"/>\n<text text-anchor=\"middle\" x=\"261\" y=\"-60.8\" font-family=\"Times,serif\" font-size=\"14.00\" fill=\"#000000\">95.0</text>\n</g>\n<!-- 5 -->\n<g id=\"node5\" class=\"node\">\n<title>5</title>\n<ellipse fill=\"none\" stroke=\"#000000\" cx=\"495\" cy=\"-111\" rx=\"27\" ry=\"18\"/>\n<text text-anchor=\"middle\" x=\"495\" y=\"-107.3\" font-family=\"Times,serif\" font-size=\"14.00\" fill=\"#000000\">5</text>\n</g>\n<!-- 3&#45;&#45;5 -->\n<g id=\"edge5\" class=\"edge\">\n<title>3&#45;&#45;5</title>\n<path fill=\"none\" stroke=\"#000000\" d=\"M160.4802,-87.3408C177.5168,-100.9791 205.5641,-120.2429 234,-126 328.1162,-145.0546 355.1057,-135.6975 450,-121 456.327,-120.02 463.0942,-118.676 469.4085,-117.2911\"/>\n<text text-anchor=\"middle\" x=\"319.5\" y=\"-139.8\" font-family=\"Times,serif\" font-size=\"14.00\" fill=\"#000000\">66.0</text>\n</g>\n<!-- 4&#45;&#45;2 -->\n<g id=\"edge6\" class=\"edge\">\n<title>4&#45;&#45;2</title>\n<path fill=\"none\" stroke=\"#000000\" d=\"M284.3955,-89.8018C304.8016,-81.7789 334.2509,-70.2005 354.6451,-62.1823\"/>\n<text text-anchor=\"middle\" x=\"319.5\" y=\"-83.8\" font-family=\"Times,serif\" font-size=\"14.00\" fill=\"#000000\">19.0</text>\n</g>\n<!-- 4&#45;&#45;5 -->\n<g id=\"edge7\" class=\"edge\">\n<title>4&#45;&#45;5</title>\n<path fill=\"none\" stroke=\"#000000\" d=\"M288.3007,-100.4C333.3901,-102.7123 422.8983,-107.3025 467.8732,-109.6089\"/>\n<text text-anchor=\"middle\" x=\"378\" y=\"-109.8\" font-family=\"Times,serif\" font-size=\"14.00\" fill=\"#000000\">31.0</text>\n</g>\n<!-- 2&#45;&#45;5 -->\n<g id=\"edge8\" class=\"edge\">\n<title>2&#45;&#45;5</title>\n<path fill=\"none\" stroke=\"#000000\" d=\"M402.1799,-61.4296C416.4003,-66.707 434.562,-74.0083 450,-82 458.9142,-86.6146 468.3161,-92.497 476.2076,-97.7562\"/>\n<text text-anchor=\"middle\" x=\"436.5\" y=\"-85.8\" font-family=\"Times,serif\" font-size=\"14.00\" fill=\"#000000\">42.0</text>\n</g>\n</g>\n</svg>\n"
          },
          "metadata": {
            "tags": []
          },
          "execution_count": 36
        }
      ]
    },
    {
      "cell_type": "code",
      "metadata": {
        "colab": {
          "base_uri": "https://localhost:8080/"
        },
        "id": "2XiCdU5iC3CE",
        "outputId": "98fb4ec3-c1ec-4198-83fd-08e5219fb36e"
      },
      "source": [
        "PRIM(G, 1)"
      ],
      "execution_count": 38,
      "outputs": [
        {
          "output_type": "stream",
          "text": [
            "110.0\n"
          ],
          "name": "stdout"
        },
        {
          "output_type": "execute_result",
          "data": {
            "text/plain": [
              "<networkx.classes.graph.Graph at 0x7fd88932e350>"
            ]
          },
          "metadata": {
            "tags": []
          },
          "execution_count": 38
        }
      ]
    },
    {
      "cell_type": "code",
      "metadata": {
        "colab": {
          "base_uri": "https://localhost:8080/"
        },
        "id": "yI4D93-1ANbV",
        "outputId": "d67e0ec3-fe9f-4ff9-f065-6e6e7b072068"
      },
      "source": [
        "%%file 2.in\n",
        "1 2 4\n",
        "1 8 8\n",
        "2 8 11\n",
        "3 2 8\n",
        "8 9 7\n",
        "8 7 1\n",
        "7 9 6\n",
        "9 3 2\n",
        "3 4 7\n",
        "3 6 4\n",
        "7 6 2\n",
        "4 6 14\n",
        "4 5 9\n",
        "5 6 10"
      ],
      "execution_count": 32,
      "outputs": [
        {
          "output_type": "stream",
          "text": [
            "Writing 2.in\n"
          ],
          "name": "stdout"
        }
      ]
    },
    {
      "cell_type": "code",
      "metadata": {
        "colab": {
          "base_uri": "https://localhost:8080/",
          "height": 150
        },
        "id": "9gIQQHzYGHsB",
        "outputId": "862162f0-2326-4b33-e601-4c43535e21a6"
      },
      "source": [
        "G = nx.read_weighted_edgelist('2.in', nodetype=int)\n",
        "gs.nx2gv(G, weighted=True)"
      ],
      "execution_count": 33,
      "outputs": [
        {
          "output_type": "execute_result",
          "data": {
            "text/plain": [
              "<graphviz.dot.Graph at 0x7fd889411290>"
            ],
            "image/svg+xml": "<?xml version=\"1.0\" encoding=\"UTF-8\" standalone=\"no\"?>\n<!DOCTYPE svg PUBLIC \"-//W3C//DTD SVG 1.1//EN\"\n \"http://www.w3.org/Graphics/SVG/1.1/DTD/svg11.dtd\">\n<!-- Generated by graphviz version 2.40.1 (20161225.0304)\n -->\n<!-- Title: G Pages: 1 -->\n<svg width=\"432pt\" height=\"97pt\"\n viewBox=\"0.00 0.00 432.00 96.80\" xmlns=\"http://www.w3.org/2000/svg\" xmlns:xlink=\"http://www.w3.org/1999/xlink\">\n<g id=\"graph0\" class=\"graph\" transform=\"scale(.5846 .5846) rotate(0) translate(4 161.595)\">\n<title>G</title>\n<polygon fill=\"#ffffff\" stroke=\"transparent\" points=\"-4,4 -4,-161.595 735,-161.595 735,4 -4,4\"/>\n<!-- 1 -->\n<g id=\"node1\" class=\"node\">\n<title>1</title>\n<ellipse fill=\"none\" stroke=\"#000000\" cx=\"27\" cy=\"-38.595\" rx=\"27\" ry=\"18\"/>\n<text text-anchor=\"middle\" x=\"27\" y=\"-34.895\" font-family=\"Times,serif\" font-size=\"14.00\" fill=\"#000000\">1</text>\n</g>\n<!-- 2 -->\n<g id=\"node2\" class=\"node\">\n<title>2</title>\n<ellipse fill=\"none\" stroke=\"#000000\" cx=\"136\" cy=\"-73.595\" rx=\"27\" ry=\"18\"/>\n<text text-anchor=\"middle\" x=\"136\" y=\"-69.895\" font-family=\"Times,serif\" font-size=\"14.00\" fill=\"#000000\">2</text>\n</g>\n<!-- 1&#45;&#45;2 -->\n<g id=\"edge1\" class=\"edge\">\n<title>1&#45;&#45;2</title>\n<path fill=\"none\" stroke=\"#000000\" d=\"M51.4617,-46.4497C69.4132,-52.2139 93.6877,-60.0085 111.6199,-65.7665\"/>\n<text text-anchor=\"middle\" x=\"81.5\" y=\"-61.395\" font-family=\"Times,serif\" font-size=\"14.00\" fill=\"#000000\">4.0</text>\n</g>\n<!-- 8 -->\n<g id=\"node3\" class=\"node\">\n<title>8</title>\n<ellipse fill=\"none\" stroke=\"#000000\" cx=\"252\" cy=\"-23.595\" rx=\"27\" ry=\"18\"/>\n<text text-anchor=\"middle\" x=\"252\" y=\"-19.895\" font-family=\"Times,serif\" font-size=\"14.00\" fill=\"#000000\">8</text>\n</g>\n<!-- 1&#45;&#45;8 -->\n<g id=\"edge2\" class=\"edge\">\n<title>1&#45;&#45;8</title>\n<path fill=\"none\" stroke=\"#000000\" d=\"M53.945,-36.0949C69.9365,-34.661 90.6144,-32.8937 109,-31.595 149.3055,-28.7478 196.0605,-26.2918 224.837,-24.8775\"/>\n<text text-anchor=\"middle\" x=\"136\" y=\"-35.395\" font-family=\"Times,serif\" font-size=\"14.00\" fill=\"#000000\">8.0</text>\n</g>\n<!-- 2&#45;&#45;8 -->\n<g id=\"edge3\" class=\"edge\">\n<title>2&#45;&#45;8</title>\n<path fill=\"none\" stroke=\"#000000\" d=\"M158.9179,-63.7166C179.2543,-54.9509 208.8078,-42.2123 229.1297,-33.4528\"/>\n<text text-anchor=\"middle\" x=\"194\" y=\"-56.395\" font-family=\"Times,serif\" font-size=\"14.00\" fill=\"#000000\">11.0</text>\n</g>\n<!-- 3 -->\n<g id=\"node4\" class=\"node\">\n<title>3</title>\n<ellipse fill=\"none\" stroke=\"#000000\" cx=\"252\" cy=\"-93.595\" rx=\"27\" ry=\"18\"/>\n<text text-anchor=\"middle\" x=\"252\" y=\"-89.895\" font-family=\"Times,serif\" font-size=\"14.00\" fill=\"#000000\">3</text>\n</g>\n<!-- 2&#45;&#45;3 -->\n<g id=\"edge4\" class=\"edge\">\n<title>2&#45;&#45;3</title>\n<path fill=\"none\" stroke=\"#000000\" d=\"M162.3222,-78.1333C181.3063,-81.4064 206.8218,-85.8056 225.782,-89.0746\"/>\n<text text-anchor=\"middle\" x=\"194\" y=\"-88.395\" font-family=\"Times,serif\" font-size=\"14.00\" fill=\"#000000\">8.0</text>\n</g>\n<!-- 9 -->\n<g id=\"node5\" class=\"node\">\n<title>9</title>\n<ellipse fill=\"none\" stroke=\"#000000\" cx=\"361\" cy=\"-45.595\" rx=\"27\" ry=\"18\"/>\n<text text-anchor=\"middle\" x=\"361\" y=\"-41.895\" font-family=\"Times,serif\" font-size=\"14.00\" fill=\"#000000\">9</text>\n</g>\n<!-- 8&#45;&#45;9 -->\n<g id=\"edge5\" class=\"edge\">\n<title>8&#45;&#45;9</title>\n<path fill=\"none\" stroke=\"#000000\" d=\"M279.0624,-22.7668C290.5734,-22.9521 304.0678,-23.8869 316,-26.595 323.7738,-28.3593 331.9059,-31.3897 339.0851,-34.5184\"/>\n<text text-anchor=\"middle\" x=\"306.5\" y=\"-30.395\" font-family=\"Times,serif\" font-size=\"14.00\" fill=\"#000000\">7.0</text>\n</g>\n<!-- 7 -->\n<g id=\"node6\" class=\"node\">\n<title>7</title>\n<ellipse fill=\"none\" stroke=\"#000000\" cx=\"470\" cy=\"-45.595\" rx=\"27\" ry=\"18\"/>\n<text text-anchor=\"middle\" x=\"470\" y=\"-41.895\" font-family=\"Times,serif\" font-size=\"14.00\" fill=\"#000000\">7</text>\n</g>\n<!-- 8&#45;&#45;7 -->\n<g id=\"edge6\" class=\"edge\">\n<title>8&#45;&#45;7</title>\n<path fill=\"none\" stroke=\"#000000\" d=\"M275.8354,-14.6354C303.186,-5.6084 349.2564,5.7499 388,-3.595 411.1679,-9.183 435.1453,-22.4942 451.1415,-32.6452\"/>\n<text text-anchor=\"middle\" x=\"361\" y=\"-7.395\" font-family=\"Times,serif\" font-size=\"14.00\" fill=\"#000000\">1.0</text>\n</g>\n<!-- 3&#45;&#45;9 -->\n<g id=\"edge7\" class=\"edge\">\n<title>3&#45;&#45;9</title>\n<path fill=\"none\" stroke=\"#000000\" d=\"M270.1492,-80.22C278.0943,-74.8161 287.7092,-68.8618 297,-64.595 309.1127,-59.0322 323.2579,-54.633 335.1653,-51.4747\"/>\n<text text-anchor=\"middle\" x=\"306.5\" y=\"-68.395\" font-family=\"Times,serif\" font-size=\"14.00\" fill=\"#000000\">2.0</text>\n</g>\n<!-- 4 -->\n<g id=\"node7\" class=\"node\">\n<title>4</title>\n<ellipse fill=\"none\" stroke=\"#000000\" cx=\"470\" cy=\"-139.595\" rx=\"27\" ry=\"18\"/>\n<text text-anchor=\"middle\" x=\"470\" y=\"-135.895\" font-family=\"Times,serif\" font-size=\"14.00\" fill=\"#000000\">4</text>\n</g>\n<!-- 3&#45;&#45;4 -->\n<g id=\"edge8\" class=\"edge\">\n<title>3&#45;&#45;4</title>\n<path fill=\"none\" stroke=\"#000000\" d=\"M276.1399,-101.6835C282.8493,-103.7731 290.1691,-105.9069 297,-107.595 348.2984,-120.2716 409.2695,-130.4287 443.4131,-135.6825\"/>\n<text text-anchor=\"middle\" x=\"361\" y=\"-129.395\" font-family=\"Times,serif\" font-size=\"14.00\" fill=\"#000000\">7.0</text>\n</g>\n<!-- 6 -->\n<g id=\"node8\" class=\"node\">\n<title>6</title>\n<ellipse fill=\"none\" stroke=\"#000000\" cx=\"587\" cy=\"-98.595\" rx=\"27\" ry=\"18\"/>\n<text text-anchor=\"middle\" x=\"587\" y=\"-94.895\" font-family=\"Times,serif\" font-size=\"14.00\" fill=\"#000000\">6</text>\n</g>\n<!-- 3&#45;&#45;6 -->\n<g id=\"edge9\" class=\"edge\">\n<title>3&#45;&#45;6</title>\n<path fill=\"none\" stroke=\"#000000\" d=\"M279.1307,-93.9999C341.9042,-94.9368 496.5962,-97.2457 559.6161,-98.1863\"/>\n<text text-anchor=\"middle\" x=\"415.5\" y=\"-99.395\" font-family=\"Times,serif\" font-size=\"14.00\" fill=\"#000000\">4.0</text>\n</g>\n<!-- 9&#45;&#45;7 -->\n<g id=\"edge10\" class=\"edge\">\n<title>9&#45;&#45;7</title>\n<path fill=\"none\" stroke=\"#000000\" d=\"M388.2241,-45.595C404.8711,-45.595 426.0926,-45.595 442.7452,-45.595\"/>\n<text text-anchor=\"middle\" x=\"415.5\" y=\"-49.395\" font-family=\"Times,serif\" font-size=\"14.00\" fill=\"#000000\">6.0</text>\n</g>\n<!-- 7&#45;&#45;6 -->\n<g id=\"edge11\" class=\"edge\">\n<title>7&#45;&#45;6</title>\n<path fill=\"none\" stroke=\"#000000\" d=\"M496.5284,-50.0215C510.5194,-52.9845 527.6992,-57.6423 542,-64.595 552.3912,-69.6469 562.7639,-77.2654 570.9274,-84.011\"/>\n<text text-anchor=\"middle\" x=\"528.5\" y=\"-68.395\" font-family=\"Times,serif\" font-size=\"14.00\" fill=\"#000000\">2.0</text>\n</g>\n<!-- 4&#45;&#45;6 -->\n<g id=\"edge12\" class=\"edge\">\n<title>4&#45;&#45;6</title>\n<path fill=\"none\" stroke=\"#000000\" d=\"M493.959,-131.1991C514.1493,-124.1238 542.8918,-114.0517 563.073,-106.9796\"/>\n<text text-anchor=\"middle\" x=\"528.5\" y=\"-126.395\" font-family=\"Times,serif\" font-size=\"14.00\" fill=\"#000000\">14.0</text>\n</g>\n<!-- 5 -->\n<g id=\"node9\" class=\"node\">\n<title>5</title>\n<ellipse fill=\"none\" stroke=\"#000000\" cx=\"704\" cy=\"-129.595\" rx=\"27\" ry=\"18\"/>\n<text text-anchor=\"middle\" x=\"704\" y=\"-125.895\" font-family=\"Times,serif\" font-size=\"14.00\" fill=\"#000000\">5</text>\n</g>\n<!-- 4&#45;&#45;5 -->\n<g id=\"edge13\" class=\"edge\">\n<title>4&#45;&#45;5</title>\n<path fill=\"none\" stroke=\"#000000\" d=\"M497.121,-140.9954C503.0136,-141.2451 509.2145,-141.4665 515,-141.595 579.0397,-143.0174 595.2147,-141.473 659,-135.595 664.9648,-135.0453 671.354,-134.2932 677.39,-133.5073\"/>\n<text text-anchor=\"middle\" x=\"587\" y=\"-145.395\" font-family=\"Times,serif\" font-size=\"14.00\" fill=\"#000000\">9.0</text>\n</g>\n<!-- 6&#45;&#45;5 -->\n<g id=\"edge14\" class=\"edge\">\n<title>6&#45;&#45;5</title>\n<path fill=\"none\" stroke=\"#000000\" d=\"M612.0994,-105.2452C631.7059,-110.4401 658.84,-117.6295 678.5384,-122.8487\"/>\n<text text-anchor=\"middle\" x=\"645.5\" y=\"-120.395\" font-family=\"Times,serif\" font-size=\"14.00\" fill=\"#000000\">10.0</text>\n</g>\n</g>\n</svg>\n"
          },
          "metadata": {
            "tags": []
          },
          "execution_count": 33
        }
      ]
    },
    {
      "cell_type": "code",
      "metadata": {
        "colab": {
          "base_uri": "https://localhost:8080/"
        },
        "id": "oHSJi15kGJW7",
        "outputId": "cbfd687f-fc93-48a1-94e8-4c528c07445c"
      },
      "source": [
        "PRIM(G, 1)"
      ],
      "execution_count": 34,
      "outputs": [
        {
          "output_type": "stream",
          "text": [
            "37.0\n"
          ],
          "name": "stdout"
        },
        {
          "output_type": "execute_result",
          "data": {
            "text/plain": [
              "<networkx.classes.graph.Graph at 0x7fd88d433450>"
            ]
          },
          "metadata": {
            "tags": []
          },
          "execution_count": 34
        }
      ]
    },
    {
      "cell_type": "code",
      "metadata": {
        "id": "16zn2fL1GK8T"
      },
      "source": [
        ""
      ],
      "execution_count": null,
      "outputs": []
    }
  ]
}