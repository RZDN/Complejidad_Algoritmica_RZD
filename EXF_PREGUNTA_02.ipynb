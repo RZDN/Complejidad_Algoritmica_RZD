{
  "nbformat": 4,
  "nbformat_minor": 0,
  "metadata": {
    "colab": {
      "name": "EXF_PREGUNTA_02.ipynb",
      "provenance": [],
      "authorship_tag": "ABX9TyOoOtopgE09WfZoF4RiWaZt",
      "include_colab_link": true
    },
    "kernelspec": {
      "name": "python3",
      "display_name": "Python 3"
    },
    "language_info": {
      "name": "python"
    }
  },
  "cells": [
    {
      "cell_type": "markdown",
      "metadata": {
        "id": "view-in-github",
        "colab_type": "text"
      },
      "source": [
        "<a href=\"https://colab.research.google.com/github/RZDN/Complejidad_Algoritmica_RZD/blob/main/EXF_PREGUNTA_02.ipynb\" target=\"_parent\"><img src=\"https://colab.research.google.com/assets/colab-badge.svg\" alt=\"Open In Colab\"/></a>"
      ]
    },
    {
      "cell_type": "code",
      "metadata": {
        "id": "uKGwBNFBZmwR"
      },
      "source": [
        "!git clone https://github.com/lmcanavals/algorithmic_complexity.git 2>/dev/null"
      ],
      "execution_count": 1,
      "outputs": []
    },
    {
      "cell_type": "code",
      "metadata": {
        "id": "Ggszv9KgZnRZ"
      },
      "source": [
        "from algorithmic_complexity.aclib import graphstuff as gs\n",
        "import numpy as np\n",
        "import networkx as nx\n",
        "import heapq as hq\n",
        "import math"
      ],
      "execution_count": 15,
      "outputs": []
    },
    {
      "cell_type": "code",
      "metadata": {
        "id": "FKvCdx2RZogI"
      },
      "source": [
        "def relax(G, u, v):\n",
        "  g_u = G.nodes[u][\"cost\"]\n",
        "  g_v = G.nodes[v][\"cost\"]\n",
        "  w_uv = G.edges[u, v][\"weight\"]\n",
        "  if g_u + w_uv < g_v:\n",
        "    G.nodes[v][\"cost\"] = g_u + w_uv\n",
        "    G.nodes[v][\"path\"] = u\n",
        "    return True\n",
        "  return False"
      ],
      "execution_count": 3,
      "outputs": []
    },
    {
      "cell_type": "code",
      "metadata": {
        "id": "C1wb-lahZqBA"
      },
      "source": [
        "def bellmanFord(G, s):\n",
        "  n = G.number_of_nodes()\n",
        "  for u in G.nodes:\n",
        "    G.nodes[u][\"cost\"] = math.inf\n",
        "    G.nodes[u][\"path\"] = -1\n",
        "\n",
        "  G.nodes[s][\"cost\"] = 0\n",
        "\n",
        "  for _ in range(n - 1):\n",
        "    for u, v in G.edges:\n",
        "      relax(G, u, v)\n",
        "\n",
        "  for u, v in G.edges:\n",
        "    if relax(G, u, v):\n",
        "      return False\n",
        "  return True"
      ],
      "execution_count": 4,
      "outputs": []
    },
    {
      "cell_type": "code",
      "metadata": {
        "id": "GPb8owXjZrH4"
      },
      "source": [
        "def dijkstra(G, s):\n",
        "  for u in G.nodes:\n",
        "    G.nodes[u]['visited'] = False\n",
        "    G.nodes[u]['path']    = -1\n",
        "    G.nodes[u]['cost']    = math.inf\n",
        "\n",
        "  G.nodes[s]['cost'] = 0\n",
        "  q = [(0, s)]\n",
        "  while q:\n",
        "    g_u, u = hq.heappop(q)\n",
        "    if not G.nodes[u]['visited']:\n",
        "      G.nodes[u]['visited'] = True\n",
        "      for v in G.neighbors(u):\n",
        "        if not G.nodes[v]['visited']:\n",
        "          if relax(G, u, v):\n",
        "            hq.heappush(q, (G.nodes[v][\"cost\"], v))\n",
        "\n",
        "  path = [0]*G.number_of_nodes()\n",
        "  for v, info in G.nodes.data():\n",
        "    path[v] = info['path']\n",
        "\n",
        "  return path"
      ],
      "execution_count": 5,
      "outputs": []
    },
    {
      "cell_type": "code",
      "metadata": {
        "id": "l0MJXJJCZsdQ"
      },
      "source": [
        "def johnsson(G):\n",
        "  n = G.number_of_nodes()\n",
        "  G2 = G.copy()\n",
        "\n",
        "  G2.add_node(n)\n",
        "  G2.add_edge(n, n-1, weight=0)\n",
        "\n",
        "  if not bellmanFord(G2, n): # Ciclo negativo\n",
        "    return None\n",
        "\n",
        "  G3 = G.copy()\n",
        "  for u, v in G3.edges:\n",
        "    C_uv = G.edges[u, v][\"weight\"]\n",
        "    P_u = G2.nodes[u][\"cost\"]\n",
        "    P_v = G2.nodes[v][\"cost\"]\n",
        "    G3.edges[u, v][\"weight\"] = C_uv + P_u - P_v\n",
        "\n",
        "  path = []\n",
        "  for u in range(n):\n",
        "    path.append(dijkstra(G3, u))\n",
        "\n",
        "  return path"
      ],
      "execution_count": 20,
      "outputs": []
    },
    {
      "cell_type": "code",
      "metadata": {
        "colab": {
          "base_uri": "https://localhost:8080/"
        },
        "id": "1XxTritBZuAQ",
        "outputId": "8a4a54f6-57de-4fef-d4ff-440ea200703d"
      },
      "source": [
        "%%file 1.wel\n",
        "0 3 2\n",
        "1 0 6\n",
        "1 2 3\n",
        "2 0 4\n",
        "2 3 5\n",
        "3 1 -7\n",
        "3 2 -3"
      ],
      "execution_count": 21,
      "outputs": [
        {
          "output_type": "stream",
          "text": [
            "Overwriting 1.wel\n"
          ],
          "name": "stdout"
        }
      ]
    },
    {
      "cell_type": "code",
      "metadata": {
        "colab": {
          "base_uri": "https://localhost:8080/",
          "height": 205
        },
        "id": "PaU0d0rQZvNA",
        "outputId": "7d1f99aa-2479-4c82-d515-7b0626455a56"
      },
      "source": [
        "G = nx.read_weighted_edgelist(\"1.wel\", create_using=nx.DiGraph, nodetype=int)\n",
        "gs.nx2gv(G, weighted=True)"
      ],
      "execution_count": 22,
      "outputs": [
        {
          "output_type": "execute_result",
          "data": {
            "text/plain": [
              "<graphviz.dot.Digraph at 0x7fa5a4c3d890>"
            ],
            "image/svg+xml": "<?xml version=\"1.0\" encoding=\"UTF-8\" standalone=\"no\"?>\n<!DOCTYPE svg PUBLIC \"-//W3C//DTD SVG 1.1//EN\"\n \"http://www.w3.org/Graphics/SVG/1.1/DTD/svg11.dtd\">\n<!-- Generated by graphviz version 2.40.1 (20161225.0304)\n -->\n<!-- Title: G Pages: 1 -->\n<svg width=\"394pt\" height=\"138pt\"\n viewBox=\"0.00 0.00 394.00 138.40\" xmlns=\"http://www.w3.org/2000/svg\" xmlns:xlink=\"http://www.w3.org/1999/xlink\">\n<g id=\"graph0\" class=\"graph\" transform=\"scale(1 1) rotate(0) translate(4 134.4015)\">\n<title>G</title>\n<polygon fill=\"#ffffff\" stroke=\"transparent\" points=\"-4,4 -4,-134.4015 390,-134.4015 390,4 -4,4\"/>\n<!-- 0 -->\n<g id=\"node1\" class=\"node\">\n<title>0</title>\n<ellipse fill=\"none\" stroke=\"#000000\" cx=\"27\" cy=\"-31.4015\" rx=\"27\" ry=\"18\"/>\n<text text-anchor=\"middle\" x=\"27\" y=\"-27.7015\" font-family=\"Times,serif\" font-size=\"14.00\" fill=\"#000000\">0</text>\n</g>\n<!-- 3 -->\n<g id=\"node2\" class=\"node\">\n<title>3</title>\n<ellipse fill=\"none\" stroke=\"#000000\" cx=\"136\" cy=\"-88.4015\" rx=\"27\" ry=\"18\"/>\n<text text-anchor=\"middle\" x=\"136\" y=\"-84.7015\" font-family=\"Times,serif\" font-size=\"14.00\" fill=\"#000000\">3</text>\n</g>\n<!-- 0&#45;&gt;3 -->\n<g id=\"edge1\" class=\"edge\">\n<title>0&#45;&gt;3</title>\n<path fill=\"none\" stroke=\"#000000\" d=\"M48.2751,-42.527C64.5247,-51.0245 87.1467,-62.8543 105.348,-72.3725\"/>\n<polygon fill=\"#000000\" stroke=\"#000000\" points=\"103.9227,-75.5767 114.4061,-77.1093 107.1665,-69.3737 103.9227,-75.5767\"/>\n<text text-anchor=\"middle\" x=\"81.5\" y=\"-66.2015\" font-family=\"Times,serif\" font-size=\"14.00\" fill=\"#000000\">2.0</text>\n</g>\n<!-- 1 -->\n<g id=\"node3\" class=\"node\">\n<title>1</title>\n<ellipse fill=\"none\" stroke=\"#000000\" cx=\"250\" cy=\"-40.4015\" rx=\"27\" ry=\"18\"/>\n<text text-anchor=\"middle\" x=\"250\" y=\"-36.7015\" font-family=\"Times,serif\" font-size=\"14.00\" fill=\"#000000\">1</text>\n</g>\n<!-- 3&#45;&gt;1 -->\n<g id=\"edge2\" class=\"edge\">\n<title>3&#45;&gt;1</title>\n<path fill=\"none\" stroke=\"#000000\" d=\"M157.254,-76.8497C164.6718,-73.0032 173.1145,-68.8293 181,-65.4015 192.297,-60.4908 204.9023,-55.7236 216.2164,-51.6919\"/>\n<polygon fill=\"#000000\" stroke=\"#000000\" points=\"217.4779,-54.9586 225.7615,-48.3531 215.1667,-48.3512 217.4779,-54.9586\"/>\n<text text-anchor=\"middle\" x=\"193\" y=\"-69.2015\" font-family=\"Times,serif\" font-size=\"14.00\" fill=\"#000000\">&#45;7.0</text>\n</g>\n<!-- 2 -->\n<g id=\"node4\" class=\"node\">\n<title>2</title>\n<ellipse fill=\"none\" stroke=\"#000000\" cx=\"359\" cy=\"-79.4015\" rx=\"27\" ry=\"18\"/>\n<text text-anchor=\"middle\" x=\"359\" y=\"-75.7015\" font-family=\"Times,serif\" font-size=\"14.00\" fill=\"#000000\">2</text>\n</g>\n<!-- 3&#45;&gt;2 -->\n<g id=\"edge3\" class=\"edge\">\n<title>3&#45;&gt;2</title>\n<path fill=\"none\" stroke=\"#000000\" d=\"M157.4879,-99.5232C164.7798,-102.8688 173.0864,-106.2253 181,-108.4015 222.1953,-119.7298 234.3718,-116.2687 277,-113.4015 293.5565,-112.2879 298.4315,-114.1443 314,-108.4015 320.5618,-105.981 327.1541,-102.4778 333.1921,-98.7375\"/>\n<polygon fill=\"#000000\" stroke=\"#000000\" points=\"335.1689,-101.6263 341.5736,-93.1865 331.3037,-95.7902 335.1689,-101.6263\"/>\n<text text-anchor=\"middle\" x=\"250\" y=\"-119.2015\" font-family=\"Times,serif\" font-size=\"14.00\" fill=\"#000000\">&#45;3.0</text>\n</g>\n<!-- 1&#45;&gt;0 -->\n<g id=\"edge4\" class=\"edge\">\n<title>1&#45;&gt;0</title>\n<path fill=\"none\" stroke=\"#000000\" d=\"M222.7813,-39.303C183.1224,-37.7024 109.3139,-34.7236 64.5243,-32.9159\"/>\n<polygon fill=\"#000000\" stroke=\"#000000\" points=\"64.4772,-29.4113 54.3442,-32.5051 64.1949,-36.4056 64.4772,-29.4113\"/>\n<text text-anchor=\"middle\" x=\"136\" y=\"-40.2015\" font-family=\"Times,serif\" font-size=\"14.00\" fill=\"#000000\">6.0</text>\n</g>\n<!-- 1&#45;&gt;2 -->\n<g id=\"edge5\" class=\"edge\">\n<title>1&#45;&gt;2</title>\n<path fill=\"none\" stroke=\"#000000\" d=\"M273.9205,-48.9602C289.1126,-54.3959 308.9918,-61.5086 325.7138,-67.4917\"/>\n<polygon fill=\"#000000\" stroke=\"#000000\" points=\"324.5407,-70.7892 335.1353,-70.8627 326.8989,-64.1984 324.5407,-70.7892\"/>\n<text text-anchor=\"middle\" x=\"304.5\" y=\"-65.2015\" font-family=\"Times,serif\" font-size=\"14.00\" fill=\"#000000\">3.0</text>\n</g>\n<!-- 2&#45;&gt;0 -->\n<g id=\"edge6\" class=\"edge\">\n<title>2&#45;&gt;0</title>\n<path fill=\"none\" stroke=\"#000000\" d=\"M345.5202,-63.5195C330.6555,-47.3527 305.0937,-23.3031 277,-13.4015 203.4346,12.5265 110.3211,-6.6797 61.1017,-20.5265\"/>\n<polygon fill=\"#000000\" stroke=\"#000000\" points=\"59.912,-17.2274 51.2878,-23.3817 61.8675,-23.9487 59.912,-17.2274\"/>\n<text text-anchor=\"middle\" x=\"193\" y=\"-5.2015\" font-family=\"Times,serif\" font-size=\"14.00\" fill=\"#000000\">4.0</text>\n</g>\n<!-- 2&#45;&gt;3 -->\n<g id=\"edge7\" class=\"edge\">\n<title>2&#45;&gt;3</title>\n<path fill=\"none\" stroke=\"#000000\" d=\"M331.7813,-80.5C292.1224,-82.1006 218.3139,-85.0794 173.5243,-86.887\"/>\n<polygon fill=\"#000000\" stroke=\"#000000\" points=\"173.1949,-83.3974 163.3442,-87.2979 173.4772,-90.3917 173.1949,-83.3974\"/>\n<text text-anchor=\"middle\" x=\"250\" y=\"-88.2015\" font-family=\"Times,serif\" font-size=\"14.00\" fill=\"#000000\">5.0</text>\n</g>\n</g>\n</svg>\n"
          },
          "metadata": {
            "tags": []
          },
          "execution_count": 22
        }
      ]
    },
    {
      "cell_type": "code",
      "metadata": {
        "colab": {
          "base_uri": "https://localhost:8080/"
        },
        "id": "cMHGUIbLZwVA",
        "outputId": "4887ba26-3c2a-4a79-fda3-b5c15d2ae5e3"
      },
      "source": [
        "johnsson(G)"
      ],
      "execution_count": 23,
      "outputs": [
        {
          "output_type": "execute_result",
          "data": {
            "text/plain": [
              "[[-1, 3, 1, 0], [1, -1, 1, 0], [2, 3, -1, 2], [1, 3, 1, -1]]"
            ]
          },
          "metadata": {
            "tags": []
          },
          "execution_count": 23
        }
      ]
    },
    {
      "cell_type": "code",
      "metadata": {
        "colab": {
          "base_uri": "https://localhost:8080/"
        },
        "id": "1PQDcoewZxdo",
        "outputId": "a630aeac-b2af-46f2-f69e-7f092c49ad2e"
      },
      "source": [
        "%timeit johnsson(G)"
      ],
      "execution_count": 24,
      "outputs": [
        {
          "output_type": "stream",
          "text": [
            "The slowest run took 4.98 times longer than the fastest. This could mean that an intermediate result is being cached.\n",
            "1000 loops, best of 5: 474 µs per loop\n"
          ],
          "name": "stdout"
        }
      ]
    },
    {
      "cell_type": "markdown",
      "metadata": {
        "id": "CvakhEipZylF"
      },
      "source": [
        "**Warshal Algoritmo**"
      ]
    },
    {
      "cell_type": "code",
      "metadata": {
        "id": "vO8g4aTzZ_Q4"
      },
      "source": [
        "def relax1(cost, path, cost_uv, path_kj, u, v):\n",
        "  if cost[u] + cost_uv < cost[v]:\n",
        "    cost[v] = cost[u] + cost_uv\n",
        "    path[v] = path_kj\n",
        "\n",
        "def floydWarshall(G):\n",
        "  n = len(G)\n",
        "  cost = G.copy()\n",
        "  path = np.full((n, n), -1)\n",
        "\n",
        "  for (i, j), _ in np.ndenumerate(path):\n",
        "    path[i, j] = i if G[i, j] != np.Inf else -1;\n",
        "\n",
        "  for k in range(n):\n",
        "    for i in range(n):\n",
        "      for j in range(n):\n",
        "        if i != j and i != k and k != j:\n",
        "          relax1(cost[i], path[i], cost[k, j], path[k, j], k, j)\n",
        "  \n",
        "  return cost, path"
      ],
      "execution_count": 10,
      "outputs": []
    },
    {
      "cell_type": "code",
      "metadata": {
        "colab": {
          "base_uri": "https://localhost:8080/"
        },
        "id": "UHjAkrKQaC_v",
        "outputId": "401a1bd6-25ef-4c41-dd7f-f450a14a71fd"
      },
      "source": [
        "%%file 2.adjmatrix\n",
        "0 5 0 0 0 0 0 0\n",
        "0 0 1 4 0 0 0 0\n",
        "0 9 0 0 6 0 5 0\n",
        "0 8 0 0 0 8 0 0\n",
        "0 0 0 0 0 0 7 1\n",
        "0 9 0 2 0 0 5 0\n",
        "0 0 0 0 4 0 0 0\n",
        "0 0 0 0 0 5 6 0"
      ],
      "execution_count": 13,
      "outputs": [
        {
          "output_type": "stream",
          "text": [
            "Writing 2.adjmatrix\n"
          ],
          "name": "stdout"
        }
      ]
    },
    {
      "cell_type": "code",
      "metadata": {
        "id": "9hSK-P5gaEeH"
      },
      "source": [
        "\n",
        "G1 = np.fromfile(\"2.adjmatrix\", sep=\" \").reshape((8, 8))\n",
        "G1[G1 == 0] = np.Inf\n"
      ],
      "execution_count": 26,
      "outputs": []
    },
    {
      "cell_type": "code",
      "metadata": {
        "colab": {
          "base_uri": "https://localhost:8080/"
        },
        "id": "8IB3blLcaIkn",
        "outputId": "eec9ed2e-099b-4ee5-c005-6ee55ffd0678"
      },
      "source": [
        "cost, path = floydWarshall(G1)\n",
        "print(cost)\n",
        "print(path)"
      ],
      "execution_count": 27,
      "outputs": [
        {
          "output_type": "stream",
          "text": [
            "[[inf  5.  6.  9. 12. 17. 11. 13.]\n",
            " [inf inf  1.  4.  7. 12.  6.  8.]\n",
            " [inf  9. inf 13.  6. 12.  5.  7.]\n",
            " [inf  8.  9. inf 15.  8. 13. 16.]\n",
            " [inf 15. 16.  8. inf  6.  7.  1.]\n",
            " [inf  9. 10.  2.  9. inf  5. 10.]\n",
            " [inf 19. 20. 12.  4. 10. inf  5.]\n",
            " [inf 14. 15.  7. 10.  5.  6. inf]]\n",
            "[[-1  0  1  1  2  3  2  4]\n",
            " [-1 -1  1  1  2  3  2  4]\n",
            " [-1  2 -1  1  2  7  2  4]\n",
            " [-1  3  1 -1  2  3  5  4]\n",
            " [-1  5  1  5 -1  7  4  4]\n",
            " [-1  5  1  5  6 -1  5  4]\n",
            " [-1  5  1  5  6  7 -1  4]\n",
            " [-1  5  1  5  6  7  7 -1]]\n"
          ],
          "name": "stdout"
        }
      ]
    },
    {
      "cell_type": "code",
      "metadata": {
        "colab": {
          "base_uri": "https://localhost:8080/"
        },
        "id": "Mef5Wur1dT2o",
        "outputId": "787839c4-628d-447c-b126-da805075a3ed"
      },
      "source": [
        "%timeit floydWarshall(G1)"
      ],
      "execution_count": 28,
      "outputs": [
        {
          "output_type": "stream",
          "text": [
            "1000 loops, best of 5: 647 µs per loop\n"
          ],
          "name": "stdout"
        }
      ]
    },
    {
      "cell_type": "markdown",
      "metadata": {
        "id": "DSCw0Ar7aRe8"
      },
      "source": [
        "**DIFERENCIA**\n",
        "Ambos algoritmos Buscan el camino optimo hacia todos los nodos, entonces la principal diferencia entre lso dos algoritmos mostrados anteriormente es que el algoritmo de  JHONSON trabaja con pesos en los arcos negativos y el algoritmo WARSHAL solo con pesos en los arcos positivos. Ademas JHONSON hace uso de los algoritmo Bellman-Ford para detectar ciclos negativos y Dijktra para todos los nodos y hallar la solucion."
      ]
    },
    {
      "cell_type": "code",
      "metadata": {
        "id": "xhJ4ETqkaPcn"
      },
      "source": [
        ""
      ],
      "execution_count": null,
      "outputs": []
    }
  ]
}